{
 "cells": [
  {
   "cell_type": "markdown",
   "metadata": {},
   "source": [
    "Задание:\n",
    "Используя данные из обучающего датасета (train.csv), построить модель для предсказания цен на недвижимость (квартиры).\n",
    "С помощью полученной модели, предсказать цены для квартир из тестового датасета (test.csv).\n",
    "\n",
    "Целевая переменная:\n",
    "Price\n",
    "\n",
    "Метрика качества:\n",
    "R2 - коэффициент детерминации (sklearn.metrics.r2_score)\n",
    "\n",
    "Требования к решению:\n",
    "1. R2 > 0.6\n",
    "2. Тетрадка Jupyter Notebook с кодом Вашего решения, названная по образцу {ФИО}_solution.ipynb, пример SShirkin_solution.ipynb\n",
    "3. Файл CSV с прогнозами целевой переменной для тестового датасета, названный по образцу {ФИО}_predictions.csv, пример SShirkin_predictions.csv \n",
    "Файл должен содержать два поля: Id, Price и в файле должна быть 5001 строка (шапка + 5000 предсказаний).\n",
    "\n",
    "Сроки сдачи:\n",
    "Cдать проект нужно в течение 72 часов после окончания последнего вебинара. Оценки работ, сданных до дедлайна, будут представлены в виде рейтинга, ранжированного по заданной метрике качества. Проекты, сданные после дедлайна или сданные повторно, не попадают в рейтинг, но можно будет узнать результат.\n",
    "\n",
    "Рекомендации для файла с кодом (ipynb):\n",
    "1. Файл должен содержать заголовки и комментарии (markdown)\n",
    "2. Повторяющиеся операции лучше оформлять в виде функций\n",
    "3. Не делать вывод большого количества строк таблиц (5-10 достаточно)\n",
    "4. По возможности добавлять графики, описывающие данные (около 3-5)\n",
    "5. Добавлять только лучшую модель, то есть не включать в код все варианты решения проекта\n",
    "6. Скрипт проекта должен отрабатывать от начала и до конца (от загрузки данных до выгрузки предсказаний)\n",
    "7. Весь проект должен быть в одном скрипте (файл ipynb).\n",
    "8. Допускается применение библиотек Python и моделей машинного обучения,\n",
    "которые были в данном курсе.\n",
    "\n",
    "Описание датасета:\n",
    "1. Id - идентификационный номер квартиры\n",
    "2. DistrictId - идентификационный номер района\n",
    "3. Rooms - количество комнат\n",
    "4. Square - площадь\n",
    "5. LifeSquare - жилая площадь\n",
    "6. KitchenSquare - площадь кухни\n",
    "7. Floor - этаж\n",
    "8. HouseFloor - количество этажей в доме\n",
    "9. HouseYear - год постройки дома\n",
    "10. Ecology_1, Ecology_2, Ecology_3 - экологические показатели местности\n",
    "11. Social_1, Social_2, Social_3 - социальные показатели местности\n",
    "12. Healthcare_1, Helthcare_2 - показатели местности, связанные с охраной здоровья\n",
    "13. Shops_1, Shops_2 - показатели, связанные с наличием магазинов, торговых центров\n",
    "14. Price - цена квартиры"
   ]
  },
  {
   "cell_type": "markdown",
   "metadata": {},
   "source": [
    "Загружаем тренировочный и тестовый наборы."
   ]
  },
  {
   "cell_type": "code",
   "execution_count": 1,
   "metadata": {},
   "outputs": [],
   "source": [
    "import numpy as np\n",
    "import pandas as pd\n",
    "from matplotlib import pyplot as plt\n",
    "%matplotlib inline"
   ]
  },
  {
   "cell_type": "code",
   "execution_count": 2,
   "metadata": {},
   "outputs": [],
   "source": [
    "df = pd.read_csv('train.csv')\n",
    "dft = pd.read_csv('test.csv')"
   ]
  },
  {
   "cell_type": "code",
   "execution_count": 3,
   "metadata": {},
   "outputs": [
    {
     "name": "stdout",
     "output_type": "stream",
     "text": [
      "<class 'pandas.core.frame.DataFrame'>\n",
      "RangeIndex: 10000 entries, 0 to 9999\n",
      "Data columns (total 20 columns):\n",
      "Id               10000 non-null int64\n",
      "DistrictId       10000 non-null int64\n",
      "Rooms            10000 non-null float64\n",
      "Square           10000 non-null float64\n",
      "LifeSquare       7887 non-null float64\n",
      "KitchenSquare    10000 non-null float64\n",
      "Floor            10000 non-null int64\n",
      "HouseFloor       10000 non-null float64\n",
      "HouseYear        10000 non-null int64\n",
      "Ecology_1        10000 non-null float64\n",
      "Ecology_2        10000 non-null object\n",
      "Ecology_3        10000 non-null object\n",
      "Social_1         10000 non-null int64\n",
      "Social_2         10000 non-null int64\n",
      "Social_3         10000 non-null int64\n",
      "Healthcare_1     5202 non-null float64\n",
      "Helthcare_2      10000 non-null int64\n",
      "Shops_1          10000 non-null int64\n",
      "Shops_2          10000 non-null object\n",
      "Price            10000 non-null float64\n",
      "dtypes: float64(8), int64(9), object(3)\n",
      "memory usage: 1.5+ MB\n"
     ]
    }
   ],
   "source": [
    "df.info()"
   ]
  },
  {
   "cell_type": "code",
   "execution_count": 4,
   "metadata": {},
   "outputs": [
    {
     "name": "stdout",
     "output_type": "stream",
     "text": [
      "<class 'pandas.core.frame.DataFrame'>\n",
      "RangeIndex: 5000 entries, 0 to 4999\n",
      "Data columns (total 19 columns):\n",
      "Id               5000 non-null int64\n",
      "DistrictId       5000 non-null int64\n",
      "Rooms            5000 non-null float64\n",
      "Square           5000 non-null float64\n",
      "LifeSquare       3959 non-null float64\n",
      "KitchenSquare    5000 non-null float64\n",
      "Floor            5000 non-null int64\n",
      "HouseFloor       5000 non-null float64\n",
      "HouseYear        5000 non-null int64\n",
      "Ecology_1        5000 non-null float64\n",
      "Ecology_2        5000 non-null object\n",
      "Ecology_3        5000 non-null object\n",
      "Social_1         5000 non-null int64\n",
      "Social_2         5000 non-null int64\n",
      "Social_3         5000 non-null int64\n",
      "Healthcare_1     2623 non-null float64\n",
      "Helthcare_2      5000 non-null int64\n",
      "Shops_1          5000 non-null int64\n",
      "Shops_2          5000 non-null object\n",
      "dtypes: float64(7), int64(9), object(3)\n",
      "memory usage: 742.3+ KB\n"
     ]
    }
   ],
   "source": [
    "dft.info()"
   ]
  },
  {
   "cell_type": "code",
   "execution_count": 5,
   "metadata": {},
   "outputs": [
    {
     "data": {
      "text/html": [
       "<div>\n",
       "<style scoped>\n",
       "    .dataframe tbody tr th:only-of-type {\n",
       "        vertical-align: middle;\n",
       "    }\n",
       "\n",
       "    .dataframe tbody tr th {\n",
       "        vertical-align: top;\n",
       "    }\n",
       "\n",
       "    .dataframe thead th {\n",
       "        text-align: right;\n",
       "    }\n",
       "</style>\n",
       "<table border=\"1\" class=\"dataframe\">\n",
       "  <thead>\n",
       "    <tr style=\"text-align: right;\">\n",
       "      <th></th>\n",
       "      <th>Id</th>\n",
       "      <th>DistrictId</th>\n",
       "      <th>Rooms</th>\n",
       "      <th>Square</th>\n",
       "      <th>LifeSquare</th>\n",
       "      <th>KitchenSquare</th>\n",
       "      <th>Floor</th>\n",
       "      <th>HouseFloor</th>\n",
       "      <th>HouseYear</th>\n",
       "      <th>Ecology_1</th>\n",
       "      <th>Social_1</th>\n",
       "      <th>Social_2</th>\n",
       "      <th>Social_3</th>\n",
       "      <th>Healthcare_1</th>\n",
       "      <th>Helthcare_2</th>\n",
       "      <th>Shops_1</th>\n",
       "      <th>Price</th>\n",
       "    </tr>\n",
       "  </thead>\n",
       "  <tbody>\n",
       "    <tr>\n",
       "      <th>count</th>\n",
       "      <td>10000.00000</td>\n",
       "      <td>10000.000000</td>\n",
       "      <td>10000.000000</td>\n",
       "      <td>10000.000000</td>\n",
       "      <td>7887.000000</td>\n",
       "      <td>10000.000000</td>\n",
       "      <td>10000.000000</td>\n",
       "      <td>10000.000000</td>\n",
       "      <td>1.000000e+04</td>\n",
       "      <td>10000.000000</td>\n",
       "      <td>10000.000000</td>\n",
       "      <td>10000.000000</td>\n",
       "      <td>10000.000000</td>\n",
       "      <td>5202.000000</td>\n",
       "      <td>10000.000000</td>\n",
       "      <td>10000.000000</td>\n",
       "      <td>10000.000000</td>\n",
       "    </tr>\n",
       "    <tr>\n",
       "      <th>mean</th>\n",
       "      <td>8383.40770</td>\n",
       "      <td>50.400800</td>\n",
       "      <td>1.890500</td>\n",
       "      <td>56.315775</td>\n",
       "      <td>37.199645</td>\n",
       "      <td>6.273300</td>\n",
       "      <td>8.526700</td>\n",
       "      <td>12.609400</td>\n",
       "      <td>3.990166e+03</td>\n",
       "      <td>0.118858</td>\n",
       "      <td>24.687000</td>\n",
       "      <td>5352.157400</td>\n",
       "      <td>8.039200</td>\n",
       "      <td>1142.904460</td>\n",
       "      <td>1.319500</td>\n",
       "      <td>4.231300</td>\n",
       "      <td>214138.857399</td>\n",
       "    </tr>\n",
       "    <tr>\n",
       "      <th>std</th>\n",
       "      <td>4859.01902</td>\n",
       "      <td>43.587592</td>\n",
       "      <td>0.839512</td>\n",
       "      <td>21.058732</td>\n",
       "      <td>86.241209</td>\n",
       "      <td>28.560917</td>\n",
       "      <td>5.241148</td>\n",
       "      <td>6.775974</td>\n",
       "      <td>2.005003e+05</td>\n",
       "      <td>0.119025</td>\n",
       "      <td>17.532614</td>\n",
       "      <td>4006.799803</td>\n",
       "      <td>23.831875</td>\n",
       "      <td>1021.517264</td>\n",
       "      <td>1.493601</td>\n",
       "      <td>4.806341</td>\n",
       "      <td>92872.293865</td>\n",
       "    </tr>\n",
       "    <tr>\n",
       "      <th>min</th>\n",
       "      <td>0.00000</td>\n",
       "      <td>0.000000</td>\n",
       "      <td>0.000000</td>\n",
       "      <td>1.136859</td>\n",
       "      <td>0.370619</td>\n",
       "      <td>0.000000</td>\n",
       "      <td>1.000000</td>\n",
       "      <td>0.000000</td>\n",
       "      <td>1.910000e+03</td>\n",
       "      <td>0.000000</td>\n",
       "      <td>0.000000</td>\n",
       "      <td>168.000000</td>\n",
       "      <td>0.000000</td>\n",
       "      <td>0.000000</td>\n",
       "      <td>0.000000</td>\n",
       "      <td>0.000000</td>\n",
       "      <td>59174.778028</td>\n",
       "    </tr>\n",
       "    <tr>\n",
       "      <th>25%</th>\n",
       "      <td>4169.50000</td>\n",
       "      <td>20.000000</td>\n",
       "      <td>1.000000</td>\n",
       "      <td>41.774881</td>\n",
       "      <td>22.769832</td>\n",
       "      <td>1.000000</td>\n",
       "      <td>4.000000</td>\n",
       "      <td>9.000000</td>\n",
       "      <td>1.974000e+03</td>\n",
       "      <td>0.017647</td>\n",
       "      <td>6.000000</td>\n",
       "      <td>1564.000000</td>\n",
       "      <td>0.000000</td>\n",
       "      <td>350.000000</td>\n",
       "      <td>0.000000</td>\n",
       "      <td>1.000000</td>\n",
       "      <td>153872.633942</td>\n",
       "    </tr>\n",
       "    <tr>\n",
       "      <th>50%</th>\n",
       "      <td>8394.50000</td>\n",
       "      <td>36.000000</td>\n",
       "      <td>2.000000</td>\n",
       "      <td>52.513310</td>\n",
       "      <td>32.781260</td>\n",
       "      <td>6.000000</td>\n",
       "      <td>7.000000</td>\n",
       "      <td>13.000000</td>\n",
       "      <td>1.977000e+03</td>\n",
       "      <td>0.075424</td>\n",
       "      <td>25.000000</td>\n",
       "      <td>5285.000000</td>\n",
       "      <td>2.000000</td>\n",
       "      <td>900.000000</td>\n",
       "      <td>1.000000</td>\n",
       "      <td>3.000000</td>\n",
       "      <td>192269.644879</td>\n",
       "    </tr>\n",
       "    <tr>\n",
       "      <th>75%</th>\n",
       "      <td>12592.50000</td>\n",
       "      <td>75.000000</td>\n",
       "      <td>2.000000</td>\n",
       "      <td>65.900625</td>\n",
       "      <td>45.128803</td>\n",
       "      <td>9.000000</td>\n",
       "      <td>12.000000</td>\n",
       "      <td>17.000000</td>\n",
       "      <td>2.001000e+03</td>\n",
       "      <td>0.195781</td>\n",
       "      <td>36.000000</td>\n",
       "      <td>7227.000000</td>\n",
       "      <td>5.000000</td>\n",
       "      <td>1548.000000</td>\n",
       "      <td>2.000000</td>\n",
       "      <td>6.000000</td>\n",
       "      <td>249135.462171</td>\n",
       "    </tr>\n",
       "    <tr>\n",
       "      <th>max</th>\n",
       "      <td>16798.00000</td>\n",
       "      <td>209.000000</td>\n",
       "      <td>19.000000</td>\n",
       "      <td>641.065193</td>\n",
       "      <td>7480.592129</td>\n",
       "      <td>2014.000000</td>\n",
       "      <td>42.000000</td>\n",
       "      <td>117.000000</td>\n",
       "      <td>2.005201e+07</td>\n",
       "      <td>0.521867</td>\n",
       "      <td>74.000000</td>\n",
       "      <td>19083.000000</td>\n",
       "      <td>141.000000</td>\n",
       "      <td>4849.000000</td>\n",
       "      <td>6.000000</td>\n",
       "      <td>23.000000</td>\n",
       "      <td>633233.466570</td>\n",
       "    </tr>\n",
       "  </tbody>\n",
       "</table>\n",
       "</div>"
      ],
      "text/plain": [
       "                Id    DistrictId         Rooms        Square   LifeSquare  \\\n",
       "count  10000.00000  10000.000000  10000.000000  10000.000000  7887.000000   \n",
       "mean    8383.40770     50.400800      1.890500     56.315775    37.199645   \n",
       "std     4859.01902     43.587592      0.839512     21.058732    86.241209   \n",
       "min        0.00000      0.000000      0.000000      1.136859     0.370619   \n",
       "25%     4169.50000     20.000000      1.000000     41.774881    22.769832   \n",
       "50%     8394.50000     36.000000      2.000000     52.513310    32.781260   \n",
       "75%    12592.50000     75.000000      2.000000     65.900625    45.128803   \n",
       "max    16798.00000    209.000000     19.000000    641.065193  7480.592129   \n",
       "\n",
       "       KitchenSquare         Floor    HouseFloor     HouseYear     Ecology_1  \\\n",
       "count   10000.000000  10000.000000  10000.000000  1.000000e+04  10000.000000   \n",
       "mean        6.273300      8.526700     12.609400  3.990166e+03      0.118858   \n",
       "std        28.560917      5.241148      6.775974  2.005003e+05      0.119025   \n",
       "min         0.000000      1.000000      0.000000  1.910000e+03      0.000000   \n",
       "25%         1.000000      4.000000      9.000000  1.974000e+03      0.017647   \n",
       "50%         6.000000      7.000000     13.000000  1.977000e+03      0.075424   \n",
       "75%         9.000000     12.000000     17.000000  2.001000e+03      0.195781   \n",
       "max      2014.000000     42.000000    117.000000  2.005201e+07      0.521867   \n",
       "\n",
       "           Social_1      Social_2      Social_3  Healthcare_1   Helthcare_2  \\\n",
       "count  10000.000000  10000.000000  10000.000000   5202.000000  10000.000000   \n",
       "mean      24.687000   5352.157400      8.039200   1142.904460      1.319500   \n",
       "std       17.532614   4006.799803     23.831875   1021.517264      1.493601   \n",
       "min        0.000000    168.000000      0.000000      0.000000      0.000000   \n",
       "25%        6.000000   1564.000000      0.000000    350.000000      0.000000   \n",
       "50%       25.000000   5285.000000      2.000000    900.000000      1.000000   \n",
       "75%       36.000000   7227.000000      5.000000   1548.000000      2.000000   \n",
       "max       74.000000  19083.000000    141.000000   4849.000000      6.000000   \n",
       "\n",
       "            Shops_1          Price  \n",
       "count  10000.000000   10000.000000  \n",
       "mean       4.231300  214138.857399  \n",
       "std        4.806341   92872.293865  \n",
       "min        0.000000   59174.778028  \n",
       "25%        1.000000  153872.633942  \n",
       "50%        3.000000  192269.644879  \n",
       "75%        6.000000  249135.462171  \n",
       "max       23.000000  633233.466570  "
      ]
     },
     "execution_count": 5,
     "metadata": {},
     "output_type": "execute_result"
    }
   ],
   "source": [
    "df.describe()"
   ]
  },
  {
   "cell_type": "markdown",
   "metadata": {},
   "source": [
    "Не-числовые признаки у нас Ecology_2, Ecology_3, Shops_2:"
   ]
  },
  {
   "cell_type": "code",
   "execution_count": 6,
   "metadata": {},
   "outputs": [
    {
     "data": {
      "text/html": [
       "<div>\n",
       "<style scoped>\n",
       "    .dataframe tbody tr th:only-of-type {\n",
       "        vertical-align: middle;\n",
       "    }\n",
       "\n",
       "    .dataframe tbody tr th {\n",
       "        vertical-align: top;\n",
       "    }\n",
       "\n",
       "    .dataframe thead th {\n",
       "        text-align: right;\n",
       "    }\n",
       "</style>\n",
       "<table border=\"1\" class=\"dataframe\">\n",
       "  <thead>\n",
       "    <tr style=\"text-align: right;\">\n",
       "      <th></th>\n",
       "      <th>Ecology_2</th>\n",
       "      <th>Ecology_3</th>\n",
       "      <th>Shops_2</th>\n",
       "    </tr>\n",
       "  </thead>\n",
       "  <tbody>\n",
       "    <tr>\n",
       "      <th>0</th>\n",
       "      <td>B</td>\n",
       "      <td>B</td>\n",
       "      <td>B</td>\n",
       "    </tr>\n",
       "    <tr>\n",
       "      <th>1</th>\n",
       "      <td>B</td>\n",
       "      <td>B</td>\n",
       "      <td>B</td>\n",
       "    </tr>\n",
       "    <tr>\n",
       "      <th>2</th>\n",
       "      <td>B</td>\n",
       "      <td>B</td>\n",
       "      <td>B</td>\n",
       "    </tr>\n",
       "    <tr>\n",
       "      <th>3</th>\n",
       "      <td>B</td>\n",
       "      <td>B</td>\n",
       "      <td>B</td>\n",
       "    </tr>\n",
       "    <tr>\n",
       "      <th>4</th>\n",
       "      <td>B</td>\n",
       "      <td>B</td>\n",
       "      <td>B</td>\n",
       "    </tr>\n",
       "  </tbody>\n",
       "</table>\n",
       "</div>"
      ],
      "text/plain": [
       "  Ecology_2 Ecology_3 Shops_2\n",
       "0         B         B       B\n",
       "1         B         B       B\n",
       "2         B         B       B\n",
       "3         B         B       B\n",
       "4         B         B       B"
      ]
     },
     "execution_count": 6,
     "metadata": {},
     "output_type": "execute_result"
    }
   ],
   "source": [
    "df.select_dtypes(include=['object']).head()"
   ]
  },
  {
   "cell_type": "markdown",
   "metadata": {},
   "source": [
    "Пропуски. (они у нас в числовых значениях Healthcare_1 и жилой площади) Healthcare_1 некая абстрактная переменная - представить ее смысл исходя из описания невозможно, поэтому думаю пропуски в ней можно пока попробовать заполнить просто средним значением... (какого-то наиболее частого значения в этом признаке не прослеживается)"
   ]
  },
  {
   "cell_type": "code",
   "execution_count": 7,
   "metadata": {},
   "outputs": [
    {
     "data": {
      "text/plain": [
       "0    540.0\n",
       "dtype: float64"
      ]
     },
     "execution_count": 7,
     "metadata": {},
     "output_type": "execute_result"
    }
   ],
   "source": [
    "df['Healthcare_1'].mode()"
   ]
  },
  {
   "cell_type": "markdown",
   "metadata": {},
   "source": [
    "0 повторяется чаще всего - но в общем объеме данных составляет < 0.1, соответственно пока берем median по району. (это явно будет лучше, особенно если там еще есть выбросы.."
   ]
  },
  {
   "cell_type": "code",
   "execution_count": 8,
   "metadata": {},
   "outputs": [
    {
     "name": "stdout",
     "output_type": "stream",
     "text": [
      "<class 'pandas.core.frame.DataFrame'>\n",
      "Int64Index: 205 entries, 0 to 204\n",
      "Data columns (total 2 columns):\n",
      "DistrictId     205 non-null int64\n",
      "fixedcare_1    170 non-null float64\n",
      "dtypes: float64(1), int64(1)\n",
      "memory usage: 4.8 KB\n"
     ]
    }
   ],
   "source": [
    "fix = df.groupby(['DistrictId'], as_index=False).agg({'Healthcare_1': 'median'}).\\\n",
    "rename(columns={'Healthcare_1': 'fixedcare_1'})\n",
    "fix.info()"
   ]
  },
  {
   "cell_type": "markdown",
   "metadata": {},
   "source": [
    "То же будем делать для тестового сета"
   ]
  },
  {
   "cell_type": "code",
   "execution_count": 9,
   "metadata": {},
   "outputs": [
    {
     "name": "stdout",
     "output_type": "stream",
     "text": [
      "<class 'pandas.core.frame.DataFrame'>\n",
      "Int64Index: 201 entries, 0 to 200\n",
      "Data columns (total 2 columns):\n",
      "DistrictId     201 non-null int64\n",
      "fixedcare_1    159 non-null float64\n",
      "dtypes: float64(1), int64(1)\n",
      "memory usage: 4.7 KB\n"
     ]
    }
   ],
   "source": [
    "fix_t = dft.groupby(['DistrictId'], as_index=False).agg({'Healthcare_1': 'median'}).\\\n",
    "rename(columns={'Healthcare_1': 'fixedcare_1'})\n",
    "fix_t.info()"
   ]
  },
  {
   "cell_type": "markdown",
   "metadata": {},
   "source": [
    "Мерджим с основным df"
   ]
  },
  {
   "cell_type": "code",
   "execution_count": 10,
   "metadata": {},
   "outputs": [],
   "source": [
    "df = df.merge(fix, on=['DistrictId'], how='left')\n",
    "dft = dft.merge(fix_t, on=['DistrictId'], how='left')"
   ]
  },
  {
   "cell_type": "code",
   "execution_count": 11,
   "metadata": {},
   "outputs": [
    {
     "data": {
      "text/html": [
       "<div>\n",
       "<style scoped>\n",
       "    .dataframe tbody tr th:only-of-type {\n",
       "        vertical-align: middle;\n",
       "    }\n",
       "\n",
       "    .dataframe tbody tr th {\n",
       "        vertical-align: top;\n",
       "    }\n",
       "\n",
       "    .dataframe thead th {\n",
       "        text-align: right;\n",
       "    }\n",
       "</style>\n",
       "<table border=\"1\" class=\"dataframe\">\n",
       "  <thead>\n",
       "    <tr style=\"text-align: right;\">\n",
       "      <th></th>\n",
       "      <th>Id</th>\n",
       "      <th>DistrictId</th>\n",
       "      <th>Rooms</th>\n",
       "      <th>Square</th>\n",
       "      <th>LifeSquare</th>\n",
       "      <th>KitchenSquare</th>\n",
       "      <th>Floor</th>\n",
       "      <th>HouseFloor</th>\n",
       "      <th>HouseYear</th>\n",
       "      <th>Ecology_1</th>\n",
       "      <th>...</th>\n",
       "      <th>Ecology_3</th>\n",
       "      <th>Social_1</th>\n",
       "      <th>Social_2</th>\n",
       "      <th>Social_3</th>\n",
       "      <th>Healthcare_1</th>\n",
       "      <th>Helthcare_2</th>\n",
       "      <th>Shops_1</th>\n",
       "      <th>Shops_2</th>\n",
       "      <th>Price</th>\n",
       "      <th>fixedcare_1</th>\n",
       "    </tr>\n",
       "  </thead>\n",
       "  <tbody>\n",
       "    <tr>\n",
       "      <th>0</th>\n",
       "      <td>14038</td>\n",
       "      <td>35</td>\n",
       "      <td>2.0</td>\n",
       "      <td>47.981561</td>\n",
       "      <td>29.442751</td>\n",
       "      <td>6.0</td>\n",
       "      <td>7</td>\n",
       "      <td>9.0</td>\n",
       "      <td>1969</td>\n",
       "      <td>0.089040</td>\n",
       "      <td>...</td>\n",
       "      <td>B</td>\n",
       "      <td>33</td>\n",
       "      <td>7976</td>\n",
       "      <td>5</td>\n",
       "      <td>NaN</td>\n",
       "      <td>0</td>\n",
       "      <td>11</td>\n",
       "      <td>B</td>\n",
       "      <td>184966.930730</td>\n",
       "      <td>NaN</td>\n",
       "    </tr>\n",
       "    <tr>\n",
       "      <th>1</th>\n",
       "      <td>15053</td>\n",
       "      <td>41</td>\n",
       "      <td>3.0</td>\n",
       "      <td>65.683640</td>\n",
       "      <td>40.049543</td>\n",
       "      <td>8.0</td>\n",
       "      <td>7</td>\n",
       "      <td>9.0</td>\n",
       "      <td>1978</td>\n",
       "      <td>0.000070</td>\n",
       "      <td>...</td>\n",
       "      <td>B</td>\n",
       "      <td>46</td>\n",
       "      <td>10309</td>\n",
       "      <td>1</td>\n",
       "      <td>240.0</td>\n",
       "      <td>1</td>\n",
       "      <td>16</td>\n",
       "      <td>B</td>\n",
       "      <td>300009.450063</td>\n",
       "      <td>320.0</td>\n",
       "    </tr>\n",
       "    <tr>\n",
       "      <th>2</th>\n",
       "      <td>4765</td>\n",
       "      <td>53</td>\n",
       "      <td>2.0</td>\n",
       "      <td>44.947953</td>\n",
       "      <td>29.197612</td>\n",
       "      <td>0.0</td>\n",
       "      <td>8</td>\n",
       "      <td>12.0</td>\n",
       "      <td>1968</td>\n",
       "      <td>0.049637</td>\n",
       "      <td>...</td>\n",
       "      <td>B</td>\n",
       "      <td>34</td>\n",
       "      <td>7759</td>\n",
       "      <td>0</td>\n",
       "      <td>229.0</td>\n",
       "      <td>1</td>\n",
       "      <td>3</td>\n",
       "      <td>B</td>\n",
       "      <td>220925.908524</td>\n",
       "      <td>229.0</td>\n",
       "    </tr>\n",
       "    <tr>\n",
       "      <th>3</th>\n",
       "      <td>5809</td>\n",
       "      <td>58</td>\n",
       "      <td>2.0</td>\n",
       "      <td>53.352981</td>\n",
       "      <td>52.731512</td>\n",
       "      <td>9.0</td>\n",
       "      <td>8</td>\n",
       "      <td>17.0</td>\n",
       "      <td>1977</td>\n",
       "      <td>0.437885</td>\n",
       "      <td>...</td>\n",
       "      <td>B</td>\n",
       "      <td>23</td>\n",
       "      <td>5735</td>\n",
       "      <td>3</td>\n",
       "      <td>1084.0</td>\n",
       "      <td>0</td>\n",
       "      <td>5</td>\n",
       "      <td>B</td>\n",
       "      <td>175616.227217</td>\n",
       "      <td>1084.0</td>\n",
       "    </tr>\n",
       "    <tr>\n",
       "      <th>4</th>\n",
       "      <td>10783</td>\n",
       "      <td>99</td>\n",
       "      <td>1.0</td>\n",
       "      <td>39.649192</td>\n",
       "      <td>23.776169</td>\n",
       "      <td>7.0</td>\n",
       "      <td>11</td>\n",
       "      <td>12.0</td>\n",
       "      <td>1976</td>\n",
       "      <td>0.012339</td>\n",
       "      <td>...</td>\n",
       "      <td>B</td>\n",
       "      <td>35</td>\n",
       "      <td>5776</td>\n",
       "      <td>1</td>\n",
       "      <td>2078.0</td>\n",
       "      <td>2</td>\n",
       "      <td>4</td>\n",
       "      <td>B</td>\n",
       "      <td>150226.531644</td>\n",
       "      <td>2078.0</td>\n",
       "    </tr>\n",
       "  </tbody>\n",
       "</table>\n",
       "<p>5 rows × 21 columns</p>\n",
       "</div>"
      ],
      "text/plain": [
       "      Id  DistrictId  Rooms     Square  LifeSquare  KitchenSquare  Floor  \\\n",
       "0  14038          35    2.0  47.981561   29.442751            6.0      7   \n",
       "1  15053          41    3.0  65.683640   40.049543            8.0      7   \n",
       "2   4765          53    2.0  44.947953   29.197612            0.0      8   \n",
       "3   5809          58    2.0  53.352981   52.731512            9.0      8   \n",
       "4  10783          99    1.0  39.649192   23.776169            7.0     11   \n",
       "\n",
       "   HouseFloor  HouseYear  Ecology_1  ... Ecology_3 Social_1  Social_2  \\\n",
       "0         9.0       1969   0.089040  ...         B       33      7976   \n",
       "1         9.0       1978   0.000070  ...         B       46     10309   \n",
       "2        12.0       1968   0.049637  ...         B       34      7759   \n",
       "3        17.0       1977   0.437885  ...         B       23      5735   \n",
       "4        12.0       1976   0.012339  ...         B       35      5776   \n",
       "\n",
       "   Social_3  Healthcare_1  Helthcare_2  Shops_1  Shops_2          Price  \\\n",
       "0         5           NaN            0       11        B  184966.930730   \n",
       "1         1         240.0            1       16        B  300009.450063   \n",
       "2         0         229.0            1        3        B  220925.908524   \n",
       "3         3        1084.0            0        5        B  175616.227217   \n",
       "4         1        2078.0            2        4        B  150226.531644   \n",
       "\n",
       "   fixedcare_1  \n",
       "0          NaN  \n",
       "1        320.0  \n",
       "2        229.0  \n",
       "3       1084.0  \n",
       "4       2078.0  \n",
       "\n",
       "[5 rows x 21 columns]"
      ]
     },
     "execution_count": 11,
     "metadata": {},
     "output_type": "execute_result"
    }
   ],
   "source": [
    "df.head()"
   ]
  },
  {
   "cell_type": "markdown",
   "metadata": {},
   "source": [
    "Теперь заменим nan на средние и удалим вспомогательную колонку"
   ]
  },
  {
   "cell_type": "code",
   "execution_count": 12,
   "metadata": {},
   "outputs": [],
   "source": [
    "df.loc[df['Healthcare_1'].isnull(), 'Healthcare_1'] = df['fixedcare_1']\n",
    "df.drop(['fixedcare_1'], axis=1, inplace=True)\n",
    "\n",
    "dft.loc[dft['Healthcare_1'].isnull(), 'Healthcare_1'] = dft['fixedcare_1']\n",
    "dft.drop(['fixedcare_1'], axis=1, inplace=True)"
   ]
  },
  {
   "cell_type": "code",
   "execution_count": 13,
   "metadata": {},
   "outputs": [
    {
     "name": "stdout",
     "output_type": "stream",
     "text": [
      "<class 'pandas.core.frame.DataFrame'>\n",
      "Int64Index: 10000 entries, 0 to 9999\n",
      "Data columns (total 20 columns):\n",
      "Id               10000 non-null int64\n",
      "DistrictId       10000 non-null int64\n",
      "Rooms            10000 non-null float64\n",
      "Square           10000 non-null float64\n",
      "LifeSquare       7887 non-null float64\n",
      "KitchenSquare    10000 non-null float64\n",
      "Floor            10000 non-null int64\n",
      "HouseFloor       10000 non-null float64\n",
      "HouseYear        10000 non-null int64\n",
      "Ecology_1        10000 non-null float64\n",
      "Ecology_2        10000 non-null object\n",
      "Ecology_3        10000 non-null object\n",
      "Social_1         10000 non-null int64\n",
      "Social_2         10000 non-null int64\n",
      "Social_3         10000 non-null int64\n",
      "Healthcare_1     8116 non-null float64\n",
      "Helthcare_2      10000 non-null int64\n",
      "Shops_1          10000 non-null int64\n",
      "Shops_2          10000 non-null object\n",
      "Price            10000 non-null float64\n",
      "dtypes: float64(8), int64(9), object(3)\n",
      "memory usage: 1.9+ MB\n"
     ]
    }
   ],
   "source": [
    "df.info()"
   ]
  },
  {
   "cell_type": "code",
   "execution_count": 14,
   "metadata": {},
   "outputs": [
    {
     "name": "stdout",
     "output_type": "stream",
     "text": [
      "<class 'pandas.core.frame.DataFrame'>\n",
      "Int64Index: 5000 entries, 0 to 4999\n",
      "Data columns (total 19 columns):\n",
      "Id               5000 non-null int64\n",
      "DistrictId       5000 non-null int64\n",
      "Rooms            5000 non-null float64\n",
      "Square           5000 non-null float64\n",
      "LifeSquare       3959 non-null float64\n",
      "KitchenSquare    5000 non-null float64\n",
      "Floor            5000 non-null int64\n",
      "HouseFloor       5000 non-null float64\n",
      "HouseYear        5000 non-null int64\n",
      "Ecology_1        5000 non-null float64\n",
      "Ecology_2        5000 non-null object\n",
      "Ecology_3        5000 non-null object\n",
      "Social_1         5000 non-null int64\n",
      "Social_2         5000 non-null int64\n",
      "Social_3         5000 non-null int64\n",
      "Healthcare_1     3970 non-null float64\n",
      "Helthcare_2      5000 non-null int64\n",
      "Shops_1          5000 non-null int64\n",
      "Shops_2          5000 non-null object\n",
      "dtypes: float64(7), int64(9), object(3)\n",
      "memory usage: 941.2+ KB\n"
     ]
    }
   ],
   "source": [
    "dft.info()"
   ]
  },
  {
   "cell_type": "markdown",
   "metadata": {},
   "source": [
    "Пропусков было так много, что есть целые районы без единого значения. Таким будем ставить общий median.."
   ]
  },
  {
   "cell_type": "code",
   "execution_count": 15,
   "metadata": {},
   "outputs": [],
   "source": [
    "df.loc[df['Healthcare_1'].isnull(), 'Healthcare_1'] = df['Healthcare_1'].median()\n",
    "dft.loc[dft['Healthcare_1'].isnull(), 'Healthcare_1'] = dft['Healthcare_1'].median()"
   ]
  },
  {
   "cell_type": "markdown",
   "metadata": {},
   "source": [
    "Далее - площади. Тут некоторый бардак. Есть квартиры с нулевыми площадями, есть пропуски в жилых площадях, есть нулевые кухни.."
   ]
  },
  {
   "cell_type": "code",
   "execution_count": 16,
   "metadata": {},
   "outputs": [
    {
     "data": {
      "text/plain": [
       "count    10000.000000\n",
       "mean        56.315775\n",
       "std         21.058732\n",
       "min          1.136859\n",
       "25%         41.774881\n",
       "50%         52.513310\n",
       "75%         65.900625\n",
       "max        641.065193\n",
       "Name: Square, dtype: float64"
      ]
     },
     "execution_count": 16,
     "metadata": {},
     "output_type": "execute_result"
    }
   ],
   "source": [
    "df['Square'].describe()"
   ]
  },
  {
   "cell_type": "code",
   "execution_count": 17,
   "metadata": {},
   "outputs": [
    {
     "data": {
      "text/plain": [
       "(12, 20)"
      ]
     },
     "execution_count": 17,
     "metadata": {},
     "output_type": "execute_result"
    }
   ],
   "source": [
    "df[df['Square'] < 10].shape"
   ]
  },
  {
   "cell_type": "code",
   "execution_count": 18,
   "metadata": {},
   "outputs": [
    {
     "data": {
      "text/plain": [
       "(8, 19)"
      ]
     },
     "execution_count": 18,
     "metadata": {},
     "output_type": "execute_result"
    }
   ],
   "source": [
    "dft[dft['Square'] < 10].shape"
   ]
  },
  {
   "cell_type": "markdown",
   "metadata": {},
   "source": [
    "Домов с площадью меньше 10м2 всего-то 12 штук в трейновом датасете. В тестовом - 8. И там полный бред в соотношении площадей Жилой и общей. Попробуем выявить все у кого жилая площадь больше общей.."
   ]
  },
  {
   "cell_type": "code",
   "execution_count": 19,
   "metadata": {},
   "outputs": [
    {
     "data": {
      "text/plain": [
       "(482, 20)"
      ]
     },
     "execution_count": 19,
     "metadata": {},
     "output_type": "execute_result"
    }
   ],
   "source": [
    "df[df['Square'] < df['LifeSquare']].shape"
   ]
  },
  {
   "cell_type": "code",
   "execution_count": 20,
   "metadata": {},
   "outputs": [
    {
     "data": {
      "text/plain": [
       "(241, 19)"
      ]
     },
     "execution_count": 20,
     "metadata": {},
     "output_type": "execute_result"
    }
   ],
   "source": [
    "dft[dft['Square'] < dft['LifeSquare']].shape"
   ]
  },
  {
   "cell_type": "markdown",
   "metadata": {},
   "source": [
    "Таких довольно много уже. Посмотрим сколько супер-больших"
   ]
  },
  {
   "cell_type": "code",
   "execution_count": 21,
   "metadata": {},
   "outputs": [
    {
     "data": {
      "text/html": [
       "<div>\n",
       "<style scoped>\n",
       "    .dataframe tbody tr th:only-of-type {\n",
       "        vertical-align: middle;\n",
       "    }\n",
       "\n",
       "    .dataframe tbody tr th {\n",
       "        vertical-align: top;\n",
       "    }\n",
       "\n",
       "    .dataframe thead th {\n",
       "        text-align: right;\n",
       "    }\n",
       "</style>\n",
       "<table border=\"1\" class=\"dataframe\">\n",
       "  <thead>\n",
       "    <tr style=\"text-align: right;\">\n",
       "      <th></th>\n",
       "      <th>Id</th>\n",
       "      <th>DistrictId</th>\n",
       "      <th>Rooms</th>\n",
       "      <th>Square</th>\n",
       "      <th>LifeSquare</th>\n",
       "      <th>KitchenSquare</th>\n",
       "      <th>Floor</th>\n",
       "      <th>HouseFloor</th>\n",
       "      <th>HouseYear</th>\n",
       "      <th>Ecology_1</th>\n",
       "      <th>Ecology_2</th>\n",
       "      <th>Ecology_3</th>\n",
       "      <th>Social_1</th>\n",
       "      <th>Social_2</th>\n",
       "      <th>Social_3</th>\n",
       "      <th>Healthcare_1</th>\n",
       "      <th>Helthcare_2</th>\n",
       "      <th>Shops_1</th>\n",
       "      <th>Shops_2</th>\n",
       "      <th>Price</th>\n",
       "    </tr>\n",
       "  </thead>\n",
       "  <tbody>\n",
       "    <tr>\n",
       "      <th>652</th>\n",
       "      <td>3718</td>\n",
       "      <td>56</td>\n",
       "      <td>3.0</td>\n",
       "      <td>190.857689</td>\n",
       "      <td>107.376164</td>\n",
       "      <td>19.0</td>\n",
       "      <td>7</td>\n",
       "      <td>3.0</td>\n",
       "      <td>2007</td>\n",
       "      <td>0.000000</td>\n",
       "      <td>B</td>\n",
       "      <td>B</td>\n",
       "      <td>23</td>\n",
       "      <td>5067</td>\n",
       "      <td>4</td>\n",
       "      <td>2620.0</td>\n",
       "      <td>2</td>\n",
       "      <td>6</td>\n",
       "      <td>B</td>\n",
       "      <td>338644.075979</td>\n",
       "    </tr>\n",
       "    <tr>\n",
       "      <th>1981</th>\n",
       "      <td>7917</td>\n",
       "      <td>27</td>\n",
       "      <td>0.0</td>\n",
       "      <td>212.932361</td>\n",
       "      <td>211.231125</td>\n",
       "      <td>0.0</td>\n",
       "      <td>2</td>\n",
       "      <td>3.0</td>\n",
       "      <td>2008</td>\n",
       "      <td>0.211401</td>\n",
       "      <td>B</td>\n",
       "      <td>B</td>\n",
       "      <td>9</td>\n",
       "      <td>1892</td>\n",
       "      <td>0</td>\n",
       "      <td>750.0</td>\n",
       "      <td>0</td>\n",
       "      <td>1</td>\n",
       "      <td>B</td>\n",
       "      <td>302211.260887</td>\n",
       "    </tr>\n",
       "    <tr>\n",
       "      <th>1982</th>\n",
       "      <td>5548</td>\n",
       "      <td>86</td>\n",
       "      <td>5.0</td>\n",
       "      <td>275.645284</td>\n",
       "      <td>233.949309</td>\n",
       "      <td>26.0</td>\n",
       "      <td>12</td>\n",
       "      <td>37.0</td>\n",
       "      <td>2011</td>\n",
       "      <td>0.161976</td>\n",
       "      <td>B</td>\n",
       "      <td>A</td>\n",
       "      <td>31</td>\n",
       "      <td>7010</td>\n",
       "      <td>5</td>\n",
       "      <td>4508.0</td>\n",
       "      <td>3</td>\n",
       "      <td>7</td>\n",
       "      <td>B</td>\n",
       "      <td>455264.882666</td>\n",
       "    </tr>\n",
       "    <tr>\n",
       "      <th>4262</th>\n",
       "      <td>28</td>\n",
       "      <td>9</td>\n",
       "      <td>2.0</td>\n",
       "      <td>604.705972</td>\n",
       "      <td>NaN</td>\n",
       "      <td>1.0</td>\n",
       "      <td>17</td>\n",
       "      <td>18.0</td>\n",
       "      <td>1977</td>\n",
       "      <td>0.161532</td>\n",
       "      <td>B</td>\n",
       "      <td>B</td>\n",
       "      <td>25</td>\n",
       "      <td>5648</td>\n",
       "      <td>1</td>\n",
       "      <td>30.0</td>\n",
       "      <td>2</td>\n",
       "      <td>4</td>\n",
       "      <td>B</td>\n",
       "      <td>187717.242538</td>\n",
       "    </tr>\n",
       "    <tr>\n",
       "      <th>4690</th>\n",
       "      <td>2307</td>\n",
       "      <td>102</td>\n",
       "      <td>1.0</td>\n",
       "      <td>409.425181</td>\n",
       "      <td>410.639749</td>\n",
       "      <td>10.0</td>\n",
       "      <td>4</td>\n",
       "      <td>4.0</td>\n",
       "      <td>2016</td>\n",
       "      <td>0.238617</td>\n",
       "      <td>B</td>\n",
       "      <td>B</td>\n",
       "      <td>26</td>\n",
       "      <td>3889</td>\n",
       "      <td>6</td>\n",
       "      <td>705.0</td>\n",
       "      <td>3</td>\n",
       "      <td>6</td>\n",
       "      <td>B</td>\n",
       "      <td>90470.430830</td>\n",
       "    </tr>\n",
       "    <tr>\n",
       "      <th>5087</th>\n",
       "      <td>15947</td>\n",
       "      <td>129</td>\n",
       "      <td>4.0</td>\n",
       "      <td>185.906396</td>\n",
       "      <td>84.830074</td>\n",
       "      <td>31.0</td>\n",
       "      <td>5</td>\n",
       "      <td>3.0</td>\n",
       "      <td>2015</td>\n",
       "      <td>0.020741</td>\n",
       "      <td>B</td>\n",
       "      <td>B</td>\n",
       "      <td>24</td>\n",
       "      <td>5613</td>\n",
       "      <td>5</td>\n",
       "      <td>1340.0</td>\n",
       "      <td>2</td>\n",
       "      <td>5</td>\n",
       "      <td>B</td>\n",
       "      <td>340273.238253</td>\n",
       "    </tr>\n",
       "    <tr>\n",
       "      <th>6977</th>\n",
       "      <td>11602</td>\n",
       "      <td>30</td>\n",
       "      <td>2.0</td>\n",
       "      <td>641.065193</td>\n",
       "      <td>638.163193</td>\n",
       "      <td>10.0</td>\n",
       "      <td>20</td>\n",
       "      <td>19.0</td>\n",
       "      <td>2019</td>\n",
       "      <td>0.000078</td>\n",
       "      <td>B</td>\n",
       "      <td>B</td>\n",
       "      <td>22</td>\n",
       "      <td>6398</td>\n",
       "      <td>141</td>\n",
       "      <td>1046.0</td>\n",
       "      <td>3</td>\n",
       "      <td>23</td>\n",
       "      <td>B</td>\n",
       "      <td>133529.681562</td>\n",
       "    </tr>\n",
       "    <tr>\n",
       "      <th>7201</th>\n",
       "      <td>3233</td>\n",
       "      <td>129</td>\n",
       "      <td>4.0</td>\n",
       "      <td>186.692602</td>\n",
       "      <td>87.487080</td>\n",
       "      <td>32.0</td>\n",
       "      <td>3</td>\n",
       "      <td>3.0</td>\n",
       "      <td>2011</td>\n",
       "      <td>0.020741</td>\n",
       "      <td>B</td>\n",
       "      <td>B</td>\n",
       "      <td>24</td>\n",
       "      <td>5613</td>\n",
       "      <td>5</td>\n",
       "      <td>1340.0</td>\n",
       "      <td>2</td>\n",
       "      <td>5</td>\n",
       "      <td>B</td>\n",
       "      <td>423443.464367</td>\n",
       "    </tr>\n",
       "    <tr>\n",
       "      <th>8511</th>\n",
       "      <td>4249</td>\n",
       "      <td>23</td>\n",
       "      <td>5.0</td>\n",
       "      <td>198.930182</td>\n",
       "      <td>123.139863</td>\n",
       "      <td>10.0</td>\n",
       "      <td>1</td>\n",
       "      <td>2.0</td>\n",
       "      <td>2011</td>\n",
       "      <td>0.014073</td>\n",
       "      <td>B</td>\n",
       "      <td>B</td>\n",
       "      <td>2</td>\n",
       "      <td>475</td>\n",
       "      <td>0</td>\n",
       "      <td>0.0</td>\n",
       "      <td>0</td>\n",
       "      <td>0</td>\n",
       "      <td>B</td>\n",
       "      <td>345665.209100</td>\n",
       "    </tr>\n",
       "    <tr>\n",
       "      <th>9910</th>\n",
       "      <td>16568</td>\n",
       "      <td>27</td>\n",
       "      <td>4.0</td>\n",
       "      <td>200.334539</td>\n",
       "      <td>201.627361</td>\n",
       "      <td>25.0</td>\n",
       "      <td>1</td>\n",
       "      <td>2.0</td>\n",
       "      <td>2013</td>\n",
       "      <td>0.041116</td>\n",
       "      <td>B</td>\n",
       "      <td>B</td>\n",
       "      <td>53</td>\n",
       "      <td>14892</td>\n",
       "      <td>4</td>\n",
       "      <td>750.0</td>\n",
       "      <td>1</td>\n",
       "      <td>4</td>\n",
       "      <td>B</td>\n",
       "      <td>528560.506016</td>\n",
       "    </tr>\n",
       "  </tbody>\n",
       "</table>\n",
       "</div>"
      ],
      "text/plain": [
       "         Id  DistrictId  Rooms      Square  LifeSquare  KitchenSquare  Floor  \\\n",
       "652    3718          56    3.0  190.857689  107.376164           19.0      7   \n",
       "1981   7917          27    0.0  212.932361  211.231125            0.0      2   \n",
       "1982   5548          86    5.0  275.645284  233.949309           26.0     12   \n",
       "4262     28           9    2.0  604.705972         NaN            1.0     17   \n",
       "4690   2307         102    1.0  409.425181  410.639749           10.0      4   \n",
       "5087  15947         129    4.0  185.906396   84.830074           31.0      5   \n",
       "6977  11602          30    2.0  641.065193  638.163193           10.0     20   \n",
       "7201   3233         129    4.0  186.692602   87.487080           32.0      3   \n",
       "8511   4249          23    5.0  198.930182  123.139863           10.0      1   \n",
       "9910  16568          27    4.0  200.334539  201.627361           25.0      1   \n",
       "\n",
       "      HouseFloor  HouseYear  Ecology_1 Ecology_2 Ecology_3  Social_1  \\\n",
       "652          3.0       2007   0.000000         B         B        23   \n",
       "1981         3.0       2008   0.211401         B         B         9   \n",
       "1982        37.0       2011   0.161976         B         A        31   \n",
       "4262        18.0       1977   0.161532         B         B        25   \n",
       "4690         4.0       2016   0.238617         B         B        26   \n",
       "5087         3.0       2015   0.020741         B         B        24   \n",
       "6977        19.0       2019   0.000078         B         B        22   \n",
       "7201         3.0       2011   0.020741         B         B        24   \n",
       "8511         2.0       2011   0.014073         B         B         2   \n",
       "9910         2.0       2013   0.041116         B         B        53   \n",
       "\n",
       "      Social_2  Social_3  Healthcare_1  Helthcare_2  Shops_1 Shops_2  \\\n",
       "652       5067         4        2620.0            2        6       B   \n",
       "1981      1892         0         750.0            0        1       B   \n",
       "1982      7010         5        4508.0            3        7       B   \n",
       "4262      5648         1          30.0            2        4       B   \n",
       "4690      3889         6         705.0            3        6       B   \n",
       "5087      5613         5        1340.0            2        5       B   \n",
       "6977      6398       141        1046.0            3       23       B   \n",
       "7201      5613         5        1340.0            2        5       B   \n",
       "8511       475         0           0.0            0        0       B   \n",
       "9910     14892         4         750.0            1        4       B   \n",
       "\n",
       "              Price  \n",
       "652   338644.075979  \n",
       "1981  302211.260887  \n",
       "1982  455264.882666  \n",
       "4262  187717.242538  \n",
       "4690   90470.430830  \n",
       "5087  340273.238253  \n",
       "6977  133529.681562  \n",
       "7201  423443.464367  \n",
       "8511  345665.209100  \n",
       "9910  528560.506016  "
      ]
     },
     "execution_count": 21,
     "metadata": {},
     "output_type": "execute_result"
    }
   ],
   "source": [
    "df[df['Square'] > df['Square'].quantile(.999)]"
   ]
  },
  {
   "cell_type": "markdown",
   "metadata": {},
   "source": [
    "600м2 и цена невысокая - явно ошибка. И 400 метров - тоже. "
   ]
  },
  {
   "cell_type": "code",
   "execution_count": 22,
   "metadata": {},
   "outputs": [],
   "source": [
    "df.drop(df[df['Square']>400].index, inplace=True)"
   ]
  },
  {
   "cell_type": "markdown",
   "metadata": {},
   "source": [
    "Так делать в тестовом датасете мы не можем конечно же, но там и нет таких экстремально больших значений."
   ]
  },
  {
   "cell_type": "code",
   "execution_count": 23,
   "metadata": {},
   "outputs": [
    {
     "data": {
      "text/html": [
       "<div>\n",
       "<style scoped>\n",
       "    .dataframe tbody tr th:only-of-type {\n",
       "        vertical-align: middle;\n",
       "    }\n",
       "\n",
       "    .dataframe tbody tr th {\n",
       "        vertical-align: top;\n",
       "    }\n",
       "\n",
       "    .dataframe thead th {\n",
       "        text-align: right;\n",
       "    }\n",
       "</style>\n",
       "<table border=\"1\" class=\"dataframe\">\n",
       "  <thead>\n",
       "    <tr style=\"text-align: right;\">\n",
       "      <th></th>\n",
       "      <th>Id</th>\n",
       "      <th>DistrictId</th>\n",
       "      <th>Rooms</th>\n",
       "      <th>Square</th>\n",
       "      <th>LifeSquare</th>\n",
       "      <th>KitchenSquare</th>\n",
       "      <th>Floor</th>\n",
       "      <th>HouseFloor</th>\n",
       "      <th>HouseYear</th>\n",
       "      <th>Ecology_1</th>\n",
       "      <th>Ecology_2</th>\n",
       "      <th>Ecology_3</th>\n",
       "      <th>Social_1</th>\n",
       "      <th>Social_2</th>\n",
       "      <th>Social_3</th>\n",
       "      <th>Healthcare_1</th>\n",
       "      <th>Helthcare_2</th>\n",
       "      <th>Shops_1</th>\n",
       "      <th>Shops_2</th>\n",
       "    </tr>\n",
       "  </thead>\n",
       "  <tbody>\n",
       "    <tr>\n",
       "      <th>1264</th>\n",
       "      <td>13589</td>\n",
       "      <td>27</td>\n",
       "      <td>3.0</td>\n",
       "      <td>173.974480</td>\n",
       "      <td>76.289475</td>\n",
       "      <td>9.0</td>\n",
       "      <td>3</td>\n",
       "      <td>3.0</td>\n",
       "      <td>2017</td>\n",
       "      <td>0.041116</td>\n",
       "      <td>B</td>\n",
       "      <td>B</td>\n",
       "      <td>53</td>\n",
       "      <td>14892</td>\n",
       "      <td>4</td>\n",
       "      <td>800.0</td>\n",
       "      <td>1</td>\n",
       "      <td>4</td>\n",
       "      <td>B</td>\n",
       "    </tr>\n",
       "    <tr>\n",
       "      <th>1499</th>\n",
       "      <td>7769</td>\n",
       "      <td>124</td>\n",
       "      <td>4.0</td>\n",
       "      <td>189.679576</td>\n",
       "      <td>114.708673</td>\n",
       "      <td>4.0</td>\n",
       "      <td>19</td>\n",
       "      <td>40.0</td>\n",
       "      <td>2013</td>\n",
       "      <td>0.174739</td>\n",
       "      <td>B</td>\n",
       "      <td>B</td>\n",
       "      <td>17</td>\n",
       "      <td>3379</td>\n",
       "      <td>9</td>\n",
       "      <td>100.0</td>\n",
       "      <td>0</td>\n",
       "      <td>3</td>\n",
       "      <td>B</td>\n",
       "    </tr>\n",
       "    <tr>\n",
       "      <th>2039</th>\n",
       "      <td>3357</td>\n",
       "      <td>27</td>\n",
       "      <td>3.0</td>\n",
       "      <td>170.476326</td>\n",
       "      <td>75.973612</td>\n",
       "      <td>8.0</td>\n",
       "      <td>2</td>\n",
       "      <td>2.0</td>\n",
       "      <td>2017</td>\n",
       "      <td>0.041116</td>\n",
       "      <td>B</td>\n",
       "      <td>B</td>\n",
       "      <td>53</td>\n",
       "      <td>14892</td>\n",
       "      <td>4</td>\n",
       "      <td>800.0</td>\n",
       "      <td>1</td>\n",
       "      <td>4</td>\n",
       "      <td>B</td>\n",
       "    </tr>\n",
       "    <tr>\n",
       "      <th>3217</th>\n",
       "      <td>4058</td>\n",
       "      <td>27</td>\n",
       "      <td>6.0</td>\n",
       "      <td>223.453689</td>\n",
       "      <td>104.113552</td>\n",
       "      <td>16.0</td>\n",
       "      <td>2</td>\n",
       "      <td>2.0</td>\n",
       "      <td>2017</td>\n",
       "      <td>0.041116</td>\n",
       "      <td>B</td>\n",
       "      <td>B</td>\n",
       "      <td>53</td>\n",
       "      <td>14892</td>\n",
       "      <td>4</td>\n",
       "      <td>800.0</td>\n",
       "      <td>1</td>\n",
       "      <td>4</td>\n",
       "      <td>B</td>\n",
       "    </tr>\n",
       "    <tr>\n",
       "      <th>3909</th>\n",
       "      <td>1397</td>\n",
       "      <td>76</td>\n",
       "      <td>3.0</td>\n",
       "      <td>221.138768</td>\n",
       "      <td>118.055342</td>\n",
       "      <td>4.0</td>\n",
       "      <td>32</td>\n",
       "      <td>48.0</td>\n",
       "      <td>2011</td>\n",
       "      <td>0.000000</td>\n",
       "      <td>B</td>\n",
       "      <td>B</td>\n",
       "      <td>7</td>\n",
       "      <td>1660</td>\n",
       "      <td>39</td>\n",
       "      <td>1786.0</td>\n",
       "      <td>1</td>\n",
       "      <td>5</td>\n",
       "      <td>B</td>\n",
       "    </tr>\n",
       "  </tbody>\n",
       "</table>\n",
       "</div>"
      ],
      "text/plain": [
       "         Id  DistrictId  Rooms      Square  LifeSquare  KitchenSquare  Floor  \\\n",
       "1264  13589          27    3.0  173.974480   76.289475            9.0      3   \n",
       "1499   7769         124    4.0  189.679576  114.708673            4.0     19   \n",
       "2039   3357          27    3.0  170.476326   75.973612            8.0      2   \n",
       "3217   4058          27    6.0  223.453689  104.113552           16.0      2   \n",
       "3909   1397          76    3.0  221.138768  118.055342            4.0     32   \n",
       "\n",
       "      HouseFloor  HouseYear  Ecology_1 Ecology_2 Ecology_3  Social_1  \\\n",
       "1264         3.0       2017   0.041116         B         B        53   \n",
       "1499        40.0       2013   0.174739         B         B        17   \n",
       "2039         2.0       2017   0.041116         B         B        53   \n",
       "3217         2.0       2017   0.041116         B         B        53   \n",
       "3909        48.0       2011   0.000000         B         B         7   \n",
       "\n",
       "      Social_2  Social_3  Healthcare_1  Helthcare_2  Shops_1 Shops_2  \n",
       "1264     14892         4         800.0            1        4       B  \n",
       "1499      3379         9         100.0            0        3       B  \n",
       "2039     14892         4         800.0            1        4       B  \n",
       "3217     14892         4         800.0            1        4       B  \n",
       "3909      1660        39        1786.0            1        5       B  "
      ]
     },
     "execution_count": 23,
     "metadata": {},
     "output_type": "execute_result"
    }
   ],
   "source": [
    "dft[dft['Square'] > dft['Square'].quantile(.999)]"
   ]
  },
  {
   "cell_type": "markdown",
   "metadata": {},
   "source": [
    "Теперь микроскопические. Попробуем выяснить основное соотношение общей площади к жилой.."
   ]
  },
  {
   "cell_type": "code",
   "execution_count": 24,
   "metadata": {},
   "outputs": [
    {
     "data": {
      "text/plain": [
       "1.6021326087961296"
      ]
     },
     "execution_count": 24,
     "metadata": {},
     "output_type": "execute_result"
    }
   ],
   "source": [
    "square_ratio = df['Square'].median()/df['LifeSquare'].median()\n",
    "square_ratio"
   ]
  },
  {
   "cell_type": "code",
   "execution_count": 25,
   "metadata": {},
   "outputs": [
    {
     "data": {
      "text/plain": [
       "1.607325749942755"
      ]
     },
     "execution_count": 25,
     "metadata": {},
     "output_type": "execute_result"
    }
   ],
   "source": [
    "square_ratio_t = dft['Square'].median()/dft['LifeSquare'].median()\n",
    "square_ratio_t"
   ]
  },
  {
   "cell_type": "markdown",
   "metadata": {},
   "source": [
    "Ок.. Попробуем восстановить с помощью этого супер-маленькие общие площади.."
   ]
  },
  {
   "cell_type": "code",
   "execution_count": 26,
   "metadata": {},
   "outputs": [],
   "source": [
    "df.loc[(df['Square'] < 10) & (df['LifeSquare'] > 10), 'Square'] = df['LifeSquare'] * square_ratio"
   ]
  },
  {
   "cell_type": "code",
   "execution_count": 27,
   "metadata": {},
   "outputs": [],
   "source": [
    "dft.loc[(dft['Square'] < 10) & (dft['LifeSquare'] > 10), 'Square'] = dft['LifeSquare'] * square_ratio_t"
   ]
  },
  {
   "cell_type": "markdown",
   "metadata": {},
   "source": [
    "Остальные отсутствующие или супер-маленькие общие площади..."
   ]
  },
  {
   "cell_type": "code",
   "execution_count": 28,
   "metadata": {},
   "outputs": [
    {
     "data": {
      "text/plain": [
       "(9, 20)"
      ]
     },
     "execution_count": 28,
     "metadata": {},
     "output_type": "execute_result"
    }
   ],
   "source": [
    "df.loc[(df['Square'] < 6)].shape"
   ]
  },
  {
   "cell_type": "markdown",
   "metadata": {},
   "source": [
    "Всего 9 записей. Удаляем. А в тесте.."
   ]
  },
  {
   "cell_type": "code",
   "execution_count": 29,
   "metadata": {},
   "outputs": [],
   "source": [
    "df.drop(df[df['Square']<6].index, inplace=True)"
   ]
  },
  {
   "cell_type": "code",
   "execution_count": 30,
   "metadata": {},
   "outputs": [
    {
     "data": {
      "text/html": [
       "<div>\n",
       "<style scoped>\n",
       "    .dataframe tbody tr th:only-of-type {\n",
       "        vertical-align: middle;\n",
       "    }\n",
       "\n",
       "    .dataframe tbody tr th {\n",
       "        vertical-align: top;\n",
       "    }\n",
       "\n",
       "    .dataframe thead th {\n",
       "        text-align: right;\n",
       "    }\n",
       "</style>\n",
       "<table border=\"1\" class=\"dataframe\">\n",
       "  <thead>\n",
       "    <tr style=\"text-align: right;\">\n",
       "      <th></th>\n",
       "      <th>Id</th>\n",
       "      <th>DistrictId</th>\n",
       "      <th>Rooms</th>\n",
       "      <th>Square</th>\n",
       "      <th>LifeSquare</th>\n",
       "      <th>KitchenSquare</th>\n",
       "      <th>Floor</th>\n",
       "      <th>HouseFloor</th>\n",
       "      <th>HouseYear</th>\n",
       "      <th>Ecology_1</th>\n",
       "      <th>Ecology_2</th>\n",
       "      <th>Ecology_3</th>\n",
       "      <th>Social_1</th>\n",
       "      <th>Social_2</th>\n",
       "      <th>Social_3</th>\n",
       "      <th>Healthcare_1</th>\n",
       "      <th>Helthcare_2</th>\n",
       "      <th>Shops_1</th>\n",
       "      <th>Shops_2</th>\n",
       "    </tr>\n",
       "  </thead>\n",
       "  <tbody>\n",
       "    <tr>\n",
       "      <th>66</th>\n",
       "      <td>9011</td>\n",
       "      <td>53</td>\n",
       "      <td>1.0</td>\n",
       "      <td>1.378543</td>\n",
       "      <td>1.353573</td>\n",
       "      <td>1.0</td>\n",
       "      <td>1</td>\n",
       "      <td>1.0</td>\n",
       "      <td>1977</td>\n",
       "      <td>0.049637</td>\n",
       "      <td>B</td>\n",
       "      <td>B</td>\n",
       "      <td>34</td>\n",
       "      <td>7759</td>\n",
       "      <td>0</td>\n",
       "      <td>229.0</td>\n",
       "      <td>1</td>\n",
       "      <td>3</td>\n",
       "      <td>B</td>\n",
       "    </tr>\n",
       "    <tr>\n",
       "      <th>608</th>\n",
       "      <td>16401</td>\n",
       "      <td>30</td>\n",
       "      <td>1.0</td>\n",
       "      <td>2.645046</td>\n",
       "      <td>4.338755</td>\n",
       "      <td>1.0</td>\n",
       "      <td>2</td>\n",
       "      <td>1.0</td>\n",
       "      <td>1977</td>\n",
       "      <td>0.000078</td>\n",
       "      <td>B</td>\n",
       "      <td>B</td>\n",
       "      <td>22</td>\n",
       "      <td>6398</td>\n",
       "      <td>141</td>\n",
       "      <td>1046.0</td>\n",
       "      <td>3</td>\n",
       "      <td>23</td>\n",
       "      <td>B</td>\n",
       "    </tr>\n",
       "    <tr>\n",
       "      <th>837</th>\n",
       "      <td>2138</td>\n",
       "      <td>27</td>\n",
       "      <td>1.0</td>\n",
       "      <td>5.647458</td>\n",
       "      <td>1.501582</td>\n",
       "      <td>1.0</td>\n",
       "      <td>1</td>\n",
       "      <td>1.0</td>\n",
       "      <td>1977</td>\n",
       "      <td>0.017647</td>\n",
       "      <td>B</td>\n",
       "      <td>B</td>\n",
       "      <td>2</td>\n",
       "      <td>469</td>\n",
       "      <td>0</td>\n",
       "      <td>800.0</td>\n",
       "      <td>0</td>\n",
       "      <td>0</td>\n",
       "      <td>B</td>\n",
       "    </tr>\n",
       "    <tr>\n",
       "      <th>1165</th>\n",
       "      <td>10120</td>\n",
       "      <td>6</td>\n",
       "      <td>1.0</td>\n",
       "      <td>5.100672</td>\n",
       "      <td>3.861780</td>\n",
       "      <td>1.0</td>\n",
       "      <td>3</td>\n",
       "      <td>1.0</td>\n",
       "      <td>1977</td>\n",
       "      <td>0.243205</td>\n",
       "      <td>B</td>\n",
       "      <td>B</td>\n",
       "      <td>5</td>\n",
       "      <td>1564</td>\n",
       "      <td>0</td>\n",
       "      <td>540.0</td>\n",
       "      <td>0</td>\n",
       "      <td>0</td>\n",
       "      <td>B</td>\n",
       "    </tr>\n",
       "    <tr>\n",
       "      <th>4490</th>\n",
       "      <td>1165</td>\n",
       "      <td>27</td>\n",
       "      <td>1.0</td>\n",
       "      <td>2.372101</td>\n",
       "      <td>1.899119</td>\n",
       "      <td>1.0</td>\n",
       "      <td>2</td>\n",
       "      <td>17.0</td>\n",
       "      <td>1977</td>\n",
       "      <td>0.011654</td>\n",
       "      <td>B</td>\n",
       "      <td>B</td>\n",
       "      <td>4</td>\n",
       "      <td>915</td>\n",
       "      <td>0</td>\n",
       "      <td>800.0</td>\n",
       "      <td>0</td>\n",
       "      <td>0</td>\n",
       "      <td>B</td>\n",
       "    </tr>\n",
       "    <tr>\n",
       "      <th>4540</th>\n",
       "      <td>7855</td>\n",
       "      <td>6</td>\n",
       "      <td>1.0</td>\n",
       "      <td>4.967143</td>\n",
       "      <td>2.968086</td>\n",
       "      <td>1.0</td>\n",
       "      <td>3</td>\n",
       "      <td>1.0</td>\n",
       "      <td>2018</td>\n",
       "      <td>0.243205</td>\n",
       "      <td>B</td>\n",
       "      <td>B</td>\n",
       "      <td>5</td>\n",
       "      <td>1564</td>\n",
       "      <td>0</td>\n",
       "      <td>540.0</td>\n",
       "      <td>0</td>\n",
       "      <td>0</td>\n",
       "      <td>B</td>\n",
       "    </tr>\n",
       "    <tr>\n",
       "      <th>4902</th>\n",
       "      <td>1420</td>\n",
       "      <td>45</td>\n",
       "      <td>1.0</td>\n",
       "      <td>1.975769</td>\n",
       "      <td>2.900371</td>\n",
       "      <td>1.0</td>\n",
       "      <td>1</td>\n",
       "      <td>1.0</td>\n",
       "      <td>1977</td>\n",
       "      <td>0.195781</td>\n",
       "      <td>B</td>\n",
       "      <td>B</td>\n",
       "      <td>23</td>\n",
       "      <td>5212</td>\n",
       "      <td>6</td>\n",
       "      <td>800.0</td>\n",
       "      <td>3</td>\n",
       "      <td>2</td>\n",
       "      <td>B</td>\n",
       "    </tr>\n",
       "  </tbody>\n",
       "</table>\n",
       "</div>"
      ],
      "text/plain": [
       "         Id  DistrictId  Rooms    Square  LifeSquare  KitchenSquare  Floor  \\\n",
       "66     9011          53    1.0  1.378543    1.353573            1.0      1   \n",
       "608   16401          30    1.0  2.645046    4.338755            1.0      2   \n",
       "837    2138          27    1.0  5.647458    1.501582            1.0      1   \n",
       "1165  10120           6    1.0  5.100672    3.861780            1.0      3   \n",
       "4490   1165          27    1.0  2.372101    1.899119            1.0      2   \n",
       "4540   7855           6    1.0  4.967143    2.968086            1.0      3   \n",
       "4902   1420          45    1.0  1.975769    2.900371            1.0      1   \n",
       "\n",
       "      HouseFloor  HouseYear  Ecology_1 Ecology_2 Ecology_3  Social_1  \\\n",
       "66           1.0       1977   0.049637         B         B        34   \n",
       "608          1.0       1977   0.000078         B         B        22   \n",
       "837          1.0       1977   0.017647         B         B         2   \n",
       "1165         1.0       1977   0.243205         B         B         5   \n",
       "4490        17.0       1977   0.011654         B         B         4   \n",
       "4540         1.0       2018   0.243205         B         B         5   \n",
       "4902         1.0       1977   0.195781         B         B        23   \n",
       "\n",
       "      Social_2  Social_3  Healthcare_1  Helthcare_2  Shops_1 Shops_2  \n",
       "66        7759         0         229.0            1        3       B  \n",
       "608       6398       141        1046.0            3       23       B  \n",
       "837        469         0         800.0            0        0       B  \n",
       "1165      1564         0         540.0            0        0       B  \n",
       "4490       915         0         800.0            0        0       B  \n",
       "4540      1564         0         540.0            0        0       B  \n",
       "4902      5212         6         800.0            3        2       B  "
      ]
     },
     "execution_count": 30,
     "metadata": {},
     "output_type": "execute_result"
    }
   ],
   "source": [
    "dft.loc[(dft['Square'] < 6)]"
   ]
  },
  {
   "cell_type": "markdown",
   "metadata": {},
   "source": [
    "Никакой внятной инфы ни по какому признаку связанному с площадью квартиры. Ставим в средрее по району."
   ]
  },
  {
   "cell_type": "code",
   "execution_count": 31,
   "metadata": {},
   "outputs": [
    {
     "name": "stdout",
     "output_type": "stream",
     "text": [
      "<class 'pandas.core.frame.DataFrame'>\n",
      "Int64Index: 201 entries, 0 to 200\n",
      "Data columns (total 2 columns):\n",
      "DistrictId    201 non-null int64\n",
      "medSquare     201 non-null float64\n",
      "dtypes: float64(1), int64(1)\n",
      "memory usage: 4.7 KB\n"
     ]
    }
   ],
   "source": [
    "fix_s = dft.groupby(['DistrictId'], as_index=False).agg({'Square': 'median'}).\\\n",
    "rename(columns={'Square': 'medSquare'})\n",
    "fix_s.info()"
   ]
  },
  {
   "cell_type": "code",
   "execution_count": 32,
   "metadata": {},
   "outputs": [],
   "source": [
    "dft = dft.merge(fix_s, on=['DistrictId'], how='left')\n",
    "dft.loc[dft['Square'] < 6, 'Square'] = dft['medSquare']\n",
    "dft.drop(['medSquare'], axis=1, inplace=True)"
   ]
  },
  {
   "cell_type": "markdown",
   "metadata": {},
   "source": [
    "Ну и теперь попробуем выправить отсутствующие жилые площади обратно."
   ]
  },
  {
   "cell_type": "code",
   "execution_count": 33,
   "metadata": {},
   "outputs": [],
   "source": [
    "df.loc[(df['LifeSquare'] < 5), 'LifeSquare'] = df['Square'] / square_ratio\n",
    "dft.loc[(dft['LifeSquare'] < 5), 'LifeSquare'] = dft['Square'] / square_ratio_t"
   ]
  },
  {
   "cell_type": "code",
   "execution_count": 34,
   "metadata": {},
   "outputs": [
    {
     "data": {
      "image/png": "[encoded data removed]",
      "text/plain": [
       "<Figure size 432x288 with 1 Axes>"
      ]
     },
     "metadata": {
      "needs_background": "light"
     },
     "output_type": "display_data"
    }
   ],
   "source": [
    "plt.scatter(df['LifeSquare'], df['Square'])\n",
    "plt.draw()"
   ]
  },
  {
   "cell_type": "code",
   "execution_count": 35,
   "metadata": {},
   "outputs": [
    {
     "data": {
      "image/png": "[encoded data removed]",
      "text/plain": [
       "<Figure size 432x288 with 1 Axes>"
      ]
     },
     "metadata": {
      "needs_background": "light"
     },
     "output_type": "display_data"
    }
   ],
   "source": [
    "plt.scatter(dft['LifeSquare'], dft['Square'])\n",
    "plt.draw()"
   ]
  },
  {
   "cell_type": "code",
   "execution_count": 36,
   "metadata": {},
   "outputs": [
    {
     "data": {
      "text/plain": [
       "7480.592128925201"
      ]
     },
     "execution_count": 36,
     "metadata": {},
     "output_type": "execute_result"
    }
   ],
   "source": [
    "df['LifeSquare'].max()"
   ]
  },
  {
   "cell_type": "markdown",
   "metadata": {},
   "source": [
    "Еще выбросы по жилой площади в обоих наборах. "
   ]
  },
  {
   "cell_type": "code",
   "execution_count": 37,
   "metadata": {},
   "outputs": [],
   "source": [
    "df.loc[df['LifeSquare'] > df['Square'], 'LifeSquare'] = df['Square'] / square_ratio\n",
    "dft.loc[dft['LifeSquare'] > dft['Square'], 'LifeSquare'] = dft['Square'] / square_ratio_t"
   ]
  },
  {
   "cell_type": "code",
   "execution_count": 38,
   "metadata": {},
   "outputs": [
    {
     "data": {
      "image/png": "[encoded data removed]",
      "text/plain": [
       "<Figure size 432x288 with 1 Axes>"
      ]
     },
     "metadata": {
      "needs_background": "light"
     },
     "output_type": "display_data"
    }
   ],
   "source": [
    "plt.scatter(df['LifeSquare'], df['Square'])\n",
    "plt.draw()"
   ]
  },
  {
   "cell_type": "code",
   "execution_count": 39,
   "metadata": {},
   "outputs": [
    {
     "data": {
      "image/png": "[encoded data removed]",
      "text/plain": [
       "<Figure size 432x288 with 1 Axes>"
      ]
     },
     "metadata": {
      "needs_background": "light"
     },
     "output_type": "display_data"
    }
   ],
   "source": [
    "plt.scatter(dft['LifeSquare'], dft['Square'])\n",
    "plt.draw()"
   ]
  },
  {
   "cell_type": "markdown",
   "metadata": {},
   "source": [
    "Все-таки часть значений для жилой площади все еще не соответствует общим площадям квартир."
   ]
  },
  {
   "cell_type": "code",
   "execution_count": 40,
   "metadata": {},
   "outputs": [
    {
     "data": {
      "text/html": [
       "<div>\n",
       "<style scoped>\n",
       "    .dataframe tbody tr th:only-of-type {\n",
       "        vertical-align: middle;\n",
       "    }\n",
       "\n",
       "    .dataframe tbody tr th {\n",
       "        vertical-align: top;\n",
       "    }\n",
       "\n",
       "    .dataframe thead th {\n",
       "        text-align: right;\n",
       "    }\n",
       "</style>\n",
       "<table border=\"1\" class=\"dataframe\">\n",
       "  <thead>\n",
       "    <tr style=\"text-align: right;\">\n",
       "      <th></th>\n",
       "      <th>Id</th>\n",
       "      <th>DistrictId</th>\n",
       "      <th>Rooms</th>\n",
       "      <th>Square</th>\n",
       "      <th>LifeSquare</th>\n",
       "      <th>KitchenSquare</th>\n",
       "      <th>Floor</th>\n",
       "      <th>HouseFloor</th>\n",
       "      <th>HouseYear</th>\n",
       "      <th>Ecology_1</th>\n",
       "      <th>Social_1</th>\n",
       "      <th>Social_2</th>\n",
       "      <th>Social_3</th>\n",
       "      <th>Healthcare_1</th>\n",
       "      <th>Helthcare_2</th>\n",
       "      <th>Shops_1</th>\n",
       "      <th>Price</th>\n",
       "    </tr>\n",
       "  </thead>\n",
       "  <tbody>\n",
       "    <tr>\n",
       "      <th>count</th>\n",
       "      <td>9988.000000</td>\n",
       "      <td>9988.000000</td>\n",
       "      <td>9988.00000</td>\n",
       "      <td>9988.000000</td>\n",
       "      <td>7876.000000</td>\n",
       "      <td>9988.000000</td>\n",
       "      <td>9988.000000</td>\n",
       "      <td>9988.000000</td>\n",
       "      <td>9.988000e+03</td>\n",
       "      <td>9988.000000</td>\n",
       "      <td>9988.000000</td>\n",
       "      <td>9988.000000</td>\n",
       "      <td>9988.000000</td>\n",
       "      <td>9988.000000</td>\n",
       "      <td>9988.000000</td>\n",
       "      <td>9988.000000</td>\n",
       "      <td>9988.000000</td>\n",
       "    </tr>\n",
       "    <tr>\n",
       "      <th>mean</th>\n",
       "      <td>8383.683220</td>\n",
       "      <td>50.426211</td>\n",
       "      <td>1.89127</td>\n",
       "      <td>56.243459</td>\n",
       "      <td>35.341413</td>\n",
       "      <td>6.277934</td>\n",
       "      <td>8.524229</td>\n",
       "      <td>12.615138</td>\n",
       "      <td>3.992569e+03</td>\n",
       "      <td>0.118863</td>\n",
       "      <td>24.696536</td>\n",
       "      <td>5353.968062</td>\n",
       "      <td>8.032439</td>\n",
       "      <td>984.539447</td>\n",
       "      <td>1.319483</td>\n",
       "      <td>4.230376</td>\n",
       "      <td>214108.240296</td>\n",
       "    </tr>\n",
       "    <tr>\n",
       "      <th>std</th>\n",
       "      <td>4859.141539</td>\n",
       "      <td>43.598423</td>\n",
       "      <td>0.83935</td>\n",
       "      <td>19.095167</td>\n",
       "      <td>15.472153</td>\n",
       "      <td>28.577514</td>\n",
       "      <td>5.234227</td>\n",
       "      <td>6.770839</td>\n",
       "      <td>2.006207e+05</td>\n",
       "      <td>0.119054</td>\n",
       "      <td>17.534235</td>\n",
       "      <td>4006.975770</td>\n",
       "      <td>23.808096</td>\n",
       "      <td>922.471515</td>\n",
       "      <td>1.493604</td>\n",
       "      <td>4.804133</td>\n",
       "      <td>92789.208200</td>\n",
       "    </tr>\n",
       "    <tr>\n",
       "      <th>min</th>\n",
       "      <td>0.000000</td>\n",
       "      <td>0.000000</td>\n",
       "      <td>0.00000</td>\n",
       "      <td>13.784865</td>\n",
       "      <td>5.005477</td>\n",
       "      <td>0.000000</td>\n",
       "      <td>1.000000</td>\n",
       "      <td>0.000000</td>\n",
       "      <td>1.910000e+03</td>\n",
       "      <td>0.000000</td>\n",
       "      <td>0.000000</td>\n",
       "      <td>168.000000</td>\n",
       "      <td>0.000000</td>\n",
       "      <td>0.000000</td>\n",
       "      <td>0.000000</td>\n",
       "      <td>0.000000</td>\n",
       "      <td>59174.778028</td>\n",
       "    </tr>\n",
       "    <tr>\n",
       "      <th>25%</th>\n",
       "      <td>4169.500000</td>\n",
       "      <td>20.000000</td>\n",
       "      <td>1.00000</td>\n",
       "      <td>41.787090</td>\n",
       "      <td>23.189854</td>\n",
       "      <td>1.000000</td>\n",
       "      <td>4.000000</td>\n",
       "      <td>9.000000</td>\n",
       "      <td>1.974000e+03</td>\n",
       "      <td>0.017647</td>\n",
       "      <td>6.000000</td>\n",
       "      <td>1564.000000</td>\n",
       "      <td>0.000000</td>\n",
       "      <td>240.000000</td>\n",
       "      <td>0.000000</td>\n",
       "      <td>1.000000</td>\n",
       "      <td>153907.528147</td>\n",
       "    </tr>\n",
       "    <tr>\n",
       "      <th>50%</th>\n",
       "      <td>8394.500000</td>\n",
       "      <td>36.000000</td>\n",
       "      <td>2.00000</td>\n",
       "      <td>52.539909</td>\n",
       "      <td>32.416157</td>\n",
       "      <td>6.000000</td>\n",
       "      <td>7.000000</td>\n",
       "      <td>13.000000</td>\n",
       "      <td>1.977000e+03</td>\n",
       "      <td>0.075424</td>\n",
       "      <td>25.000000</td>\n",
       "      <td>5285.000000</td>\n",
       "      <td>2.000000</td>\n",
       "      <td>750.000000</td>\n",
       "      <td>1.000000</td>\n",
       "      <td>3.000000</td>\n",
       "      <td>192304.063740</td>\n",
       "    </tr>\n",
       "    <tr>\n",
       "      <th>75%</th>\n",
       "      <td>12594.250000</td>\n",
       "      <td>75.000000</td>\n",
       "      <td>2.00000</td>\n",
       "      <td>65.912854</td>\n",
       "      <td>44.066923</td>\n",
       "      <td>9.000000</td>\n",
       "      <td>12.000000</td>\n",
       "      <td>17.000000</td>\n",
       "      <td>2.001000e+03</td>\n",
       "      <td>0.195781</td>\n",
       "      <td>36.000000</td>\n",
       "      <td>7227.000000</td>\n",
       "      <td>5.000000</td>\n",
       "      <td>1322.000000</td>\n",
       "      <td>2.000000</td>\n",
       "      <td>6.000000</td>\n",
       "      <td>249116.513046</td>\n",
       "    </tr>\n",
       "    <tr>\n",
       "      <th>max</th>\n",
       "      <td>16798.000000</td>\n",
       "      <td>209.000000</td>\n",
       "      <td>19.00000</td>\n",
       "      <td>275.645284</td>\n",
       "      <td>233.949309</td>\n",
       "      <td>2014.000000</td>\n",
       "      <td>42.000000</td>\n",
       "      <td>117.000000</td>\n",
       "      <td>2.005201e+07</td>\n",
       "      <td>0.521867</td>\n",
       "      <td>74.000000</td>\n",
       "      <td>19083.000000</td>\n",
       "      <td>141.000000</td>\n",
       "      <td>4849.000000</td>\n",
       "      <td>6.000000</td>\n",
       "      <td>23.000000</td>\n",
       "      <td>633233.466570</td>\n",
       "    </tr>\n",
       "  </tbody>\n",
       "</table>\n",
       "</div>"
      ],
      "text/plain": [
       "                 Id   DistrictId       Rooms       Square   LifeSquare  \\\n",
       "count   9988.000000  9988.000000  9988.00000  9988.000000  7876.000000   \n",
       "mean    8383.683220    50.426211     1.89127    56.243459    35.341413   \n",
       "std     4859.141539    43.598423     0.83935    19.095167    15.472153   \n",
       "min        0.000000     0.000000     0.00000    13.784865     5.005477   \n",
       "25%     4169.500000    20.000000     1.00000    41.787090    23.189854   \n",
       "50%     8394.500000    36.000000     2.00000    52.539909    32.416157   \n",
       "75%    12594.250000    75.000000     2.00000    65.912854    44.066923   \n",
       "max    16798.000000   209.000000    19.00000   275.645284   233.949309   \n",
       "\n",
       "       KitchenSquare        Floor   HouseFloor     HouseYear    Ecology_1  \\\n",
       "count    9988.000000  9988.000000  9988.000000  9.988000e+03  9988.000000   \n",
       "mean        6.277934     8.524229    12.615138  3.992569e+03     0.118863   \n",
       "std        28.577514     5.234227     6.770839  2.006207e+05     0.119054   \n",
       "min         0.000000     1.000000     0.000000  1.910000e+03     0.000000   \n",
       "25%         1.000000     4.000000     9.000000  1.974000e+03     0.017647   \n",
       "50%         6.000000     7.000000    13.000000  1.977000e+03     0.075424   \n",
       "75%         9.000000    12.000000    17.000000  2.001000e+03     0.195781   \n",
       "max      2014.000000    42.000000   117.000000  2.005201e+07     0.521867   \n",
       "\n",
       "          Social_1      Social_2     Social_3  Healthcare_1  Helthcare_2  \\\n",
       "count  9988.000000   9988.000000  9988.000000   9988.000000  9988.000000   \n",
       "mean     24.696536   5353.968062     8.032439    984.539447     1.319483   \n",
       "std      17.534235   4006.975770    23.808096    922.471515     1.493604   \n",
       "min       0.000000    168.000000     0.000000      0.000000     0.000000   \n",
       "25%       6.000000   1564.000000     0.000000    240.000000     0.000000   \n",
       "50%      25.000000   5285.000000     2.000000    750.000000     1.000000   \n",
       "75%      36.000000   7227.000000     5.000000   1322.000000     2.000000   \n",
       "max      74.000000  19083.000000   141.000000   4849.000000     6.000000   \n",
       "\n",
       "           Shops_1          Price  \n",
       "count  9988.000000    9988.000000  \n",
       "mean      4.230376  214108.240296  \n",
       "std       4.804133   92789.208200  \n",
       "min       0.000000   59174.778028  \n",
       "25%       1.000000  153907.528147  \n",
       "50%       3.000000  192304.063740  \n",
       "75%       6.000000  249116.513046  \n",
       "max      23.000000  633233.466570  "
      ]
     },
     "execution_count": 40,
     "metadata": {},
     "output_type": "execute_result"
    }
   ],
   "source": [
    "df.describe()"
   ]
  },
  {
   "cell_type": "markdown",
   "metadata": {},
   "source": [
    "Попробуем как то их исправить.. Возможно критерий будет такой - если жилая площадь очень маленькая (меньше первого квартиле) и разрыв между ней и общей площадью достаточно велик - то исправляем ее согласно общей площади."
   ]
  },
  {
   "cell_type": "code",
   "execution_count": 41,
   "metadata": {},
   "outputs": [],
   "source": [
    "df.loc[(df['Square'] / df['LifeSquare'] > square_ratio * 2) & (df['LifeSquare'] < 20)\\\n",
    "       , 'LifeSquare'] = df['Square'] / square_ratio\n",
    "dft.loc[(dft['Square'] / dft['LifeSquare'] > square_ratio_t * 2) & (dft['LifeSquare'] < 20)\\\n",
    "       , 'LifeSquare'] = dft['Square'] / square_ratio_t"
   ]
  },
  {
   "cell_type": "code",
   "execution_count": 42,
   "metadata": {},
   "outputs": [
    {
     "data": {
      "image/png": "[encoded data removed]",
      "text/plain": [
       "<Figure size 432x288 with 1 Axes>"
      ]
     },
     "metadata": {
      "needs_background": "light"
     },
     "output_type": "display_data"
    }
   ],
   "source": [
    "plt.scatter(df['LifeSquare'], df['Square'])\n",
    "plt.draw()"
   ]
  },
  {
   "cell_type": "code",
   "execution_count": 43,
   "metadata": {},
   "outputs": [
    {
     "data": {
      "image/png": "[encoded data removed]",
      "text/plain": [
       "<Figure size 432x288 with 1 Axes>"
      ]
     },
     "metadata": {
      "needs_background": "light"
     },
     "output_type": "display_data"
    }
   ],
   "source": [
    "plt.scatter(dft['LifeSquare'], dft['Square'])\n",
    "plt.draw()"
   ]
  },
  {
   "cell_type": "markdown",
   "metadata": {},
   "source": [
    "Не знаю - поможет ли нам это - но выглядит более-менее разумно...\n",
    "Ну и ради чего всё затевалось - вылечить пропуски в LifeSquare"
   ]
  },
  {
   "cell_type": "code",
   "execution_count": 44,
   "metadata": {},
   "outputs": [],
   "source": [
    "df.loc[df['LifeSquare'].isnull(), 'LifeSquare'] = df['Square'] / square_ratio\n",
    "dft.loc[dft['LifeSquare'].isnull(), 'LifeSquare'] = dft['Square'] / square_ratio_t"
   ]
  },
  {
   "cell_type": "code",
   "execution_count": 45,
   "metadata": {},
   "outputs": [
    {
     "data": {
      "image/png": "[encoded data removed]",
      "text/plain": [
       "<Figure size 432x288 with 1 Axes>"
      ]
     },
     "metadata": {
      "needs_background": "light"
     },
     "output_type": "display_data"
    }
   ],
   "source": [
    "plt.scatter(df['LifeSquare'], df['Square'])\n",
    "plt.xlabel('Жил')\n",
    "plt.ylabel('Общ')\n",
    "plt.draw()"
   ]
  },
  {
   "cell_type": "code",
   "execution_count": 46,
   "metadata": {},
   "outputs": [
    {
     "data": {
      "image/png": "[encoded data removed]",
      "text/plain": [
       "<Figure size 432x288 with 1 Axes>"
      ]
     },
     "metadata": {
      "needs_background": "light"
     },
     "output_type": "display_data"
    }
   ],
   "source": [
    "plt.scatter(dft['LifeSquare'], dft['Square'])\n",
    "plt.xlabel('Жил')\n",
    "plt.ylabel('Общ')\n",
    "plt.draw()"
   ]
  },
  {
   "cell_type": "code",
   "execution_count": 47,
   "metadata": {},
   "outputs": [
    {
     "name": "stdout",
     "output_type": "stream",
     "text": [
      "<class 'pandas.core.frame.DataFrame'>\n",
      "Int64Index: 5000 entries, 0 to 4999\n",
      "Data columns (total 19 columns):\n",
      "Id               5000 non-null int64\n",
      "DistrictId       5000 non-null int64\n",
      "Rooms            5000 non-null float64\n",
      "Square           5000 non-null float64\n",
      "LifeSquare       5000 non-null float64\n",
      "KitchenSquare    5000 non-null float64\n",
      "Floor            5000 non-null int64\n",
      "HouseFloor       5000 non-null float64\n",
      "HouseYear        5000 non-null int64\n",
      "Ecology_1        5000 non-null float64\n",
      "Ecology_2        5000 non-null object\n",
      "Ecology_3        5000 non-null object\n",
      "Social_1         5000 non-null int64\n",
      "Social_2         5000 non-null int64\n",
      "Social_3         5000 non-null int64\n",
      "Healthcare_1     5000 non-null float64\n",
      "Helthcare_2      5000 non-null int64\n",
      "Shops_1          5000 non-null int64\n",
      "Shops_2          5000 non-null object\n",
      "dtypes: float64(7), int64(9), object(3)\n",
      "memory usage: 941.2+ KB\n"
     ]
    }
   ],
   "source": [
    "dft.info()"
   ]
  },
  {
   "cell_type": "markdown",
   "metadata": {},
   "source": [
    "В площади кухни тоже явно есть выбросы посмотрим.."
   ]
  },
  {
   "cell_type": "code",
   "execution_count": 48,
   "metadata": {},
   "outputs": [
    {
     "data": {
      "image/png": "[encoded data removed]",
      "text/plain": [
       "<Figure size 432x288 with 1 Axes>"
      ]
     },
     "metadata": {
      "needs_background": "light"
     },
     "output_type": "display_data"
    }
   ],
   "source": [
    "plt.scatter(df['Square'], df['KitchenSquare'])\n",
    "plt.draw()"
   ]
  },
  {
   "cell_type": "code",
   "execution_count": 49,
   "metadata": {},
   "outputs": [
    {
     "data": {
      "image/png": "[encoded data removed]",
      "text/plain": [
       "<Figure size 432x288 with 1 Axes>"
      ]
     },
     "metadata": {
      "needs_background": "light"
     },
     "output_type": "display_data"
    }
   ],
   "source": [
    "plt.scatter(dft['Square'], dft['KitchenSquare'])\n",
    "plt.draw()"
   ]
  },
  {
   "cell_type": "markdown",
   "metadata": {},
   "source": [
    "Есть нулевые кухни и супер-огромные надо вылечить."
   ]
  },
  {
   "cell_type": "code",
   "execution_count": 50,
   "metadata": {},
   "outputs": [
    {
     "data": {
      "text/html": [
       "<div>\n",
       "<style scoped>\n",
       "    .dataframe tbody tr th:only-of-type {\n",
       "        vertical-align: middle;\n",
       "    }\n",
       "\n",
       "    .dataframe tbody tr th {\n",
       "        vertical-align: top;\n",
       "    }\n",
       "\n",
       "    .dataframe thead th {\n",
       "        text-align: right;\n",
       "    }\n",
       "</style>\n",
       "<table border=\"1\" class=\"dataframe\">\n",
       "  <thead>\n",
       "    <tr style=\"text-align: right;\">\n",
       "      <th></th>\n",
       "      <th>Id</th>\n",
       "      <th>DistrictId</th>\n",
       "      <th>Rooms</th>\n",
       "      <th>Square</th>\n",
       "      <th>LifeSquare</th>\n",
       "      <th>KitchenSquare</th>\n",
       "      <th>Floor</th>\n",
       "      <th>HouseFloor</th>\n",
       "      <th>HouseYear</th>\n",
       "      <th>Ecology_1</th>\n",
       "      <th>Ecology_2</th>\n",
       "      <th>Ecology_3</th>\n",
       "      <th>Social_1</th>\n",
       "      <th>Social_2</th>\n",
       "      <th>Social_3</th>\n",
       "      <th>Healthcare_1</th>\n",
       "      <th>Helthcare_2</th>\n",
       "      <th>Shops_1</th>\n",
       "      <th>Shops_2</th>\n",
       "      <th>Price</th>\n",
       "    </tr>\n",
       "  </thead>\n",
       "  <tbody>\n",
       "    <tr>\n",
       "      <th>227</th>\n",
       "      <td>16395</td>\n",
       "      <td>2</td>\n",
       "      <td>3.0</td>\n",
       "      <td>79.722243</td>\n",
       "      <td>44.731219</td>\n",
       "      <td>72.0</td>\n",
       "      <td>12</td>\n",
       "      <td>16.0</td>\n",
       "      <td>1987</td>\n",
       "      <td>0.130618</td>\n",
       "      <td>B</td>\n",
       "      <td>B</td>\n",
       "      <td>39</td>\n",
       "      <td>10418</td>\n",
       "      <td>9</td>\n",
       "      <td>900.0</td>\n",
       "      <td>1</td>\n",
       "      <td>9</td>\n",
       "      <td>B</td>\n",
       "      <td>370148.625285</td>\n",
       "    </tr>\n",
       "    <tr>\n",
       "      <th>1064</th>\n",
       "      <td>14656</td>\n",
       "      <td>62</td>\n",
       "      <td>1.0</td>\n",
       "      <td>47.100719</td>\n",
       "      <td>46.447960</td>\n",
       "      <td>2014.0</td>\n",
       "      <td>4</td>\n",
       "      <td>1.0</td>\n",
       "      <td>2014</td>\n",
       "      <td>0.072158</td>\n",
       "      <td>B</td>\n",
       "      <td>B</td>\n",
       "      <td>2</td>\n",
       "      <td>629</td>\n",
       "      <td>1</td>\n",
       "      <td>2300.0</td>\n",
       "      <td>0</td>\n",
       "      <td>0</td>\n",
       "      <td>A</td>\n",
       "      <td>108337.484207</td>\n",
       "    </tr>\n",
       "    <tr>\n",
       "      <th>1369</th>\n",
       "      <td>2371</td>\n",
       "      <td>27</td>\n",
       "      <td>2.0</td>\n",
       "      <td>68.841073</td>\n",
       "      <td>64.234956</td>\n",
       "      <td>66.0</td>\n",
       "      <td>4</td>\n",
       "      <td>2.0</td>\n",
       "      <td>2014</td>\n",
       "      <td>0.017647</td>\n",
       "      <td>B</td>\n",
       "      <td>B</td>\n",
       "      <td>2</td>\n",
       "      <td>469</td>\n",
       "      <td>0</td>\n",
       "      <td>750.0</td>\n",
       "      <td>0</td>\n",
       "      <td>0</td>\n",
       "      <td>B</td>\n",
       "      <td>189244.249909</td>\n",
       "    </tr>\n",
       "    <tr>\n",
       "      <th>1455</th>\n",
       "      <td>12507</td>\n",
       "      <td>54</td>\n",
       "      <td>2.0</td>\n",
       "      <td>79.810535</td>\n",
       "      <td>79.578961</td>\n",
       "      <td>78.0</td>\n",
       "      <td>10</td>\n",
       "      <td>15.0</td>\n",
       "      <td>2014</td>\n",
       "      <td>0.006076</td>\n",
       "      <td>B</td>\n",
       "      <td>B</td>\n",
       "      <td>30</td>\n",
       "      <td>5285</td>\n",
       "      <td>0</td>\n",
       "      <td>645.0</td>\n",
       "      <td>6</td>\n",
       "      <td>6</td>\n",
       "      <td>B</td>\n",
       "      <td>438708.707579</td>\n",
       "    </tr>\n",
       "    <tr>\n",
       "      <th>1860</th>\n",
       "      <td>4265</td>\n",
       "      <td>161</td>\n",
       "      <td>2.0</td>\n",
       "      <td>53.216778</td>\n",
       "      <td>32.644859</td>\n",
       "      <td>53.0</td>\n",
       "      <td>7</td>\n",
       "      <td>17.0</td>\n",
       "      <td>1994</td>\n",
       "      <td>0.000699</td>\n",
       "      <td>B</td>\n",
       "      <td>B</td>\n",
       "      <td>14</td>\n",
       "      <td>3369</td>\n",
       "      <td>24</td>\n",
       "      <td>4129.0</td>\n",
       "      <td>0</td>\n",
       "      <td>3</td>\n",
       "      <td>B</td>\n",
       "      <td>261125.669724</td>\n",
       "    </tr>\n",
       "    <tr>\n",
       "      <th>2916</th>\n",
       "      <td>12390</td>\n",
       "      <td>72</td>\n",
       "      <td>3.0</td>\n",
       "      <td>97.490674</td>\n",
       "      <td>60.850565</td>\n",
       "      <td>96.0</td>\n",
       "      <td>22</td>\n",
       "      <td>25.0</td>\n",
       "      <td>2019</td>\n",
       "      <td>0.210473</td>\n",
       "      <td>B</td>\n",
       "      <td>B</td>\n",
       "      <td>11</td>\n",
       "      <td>2398</td>\n",
       "      <td>2</td>\n",
       "      <td>1994.0</td>\n",
       "      <td>3</td>\n",
       "      <td>0</td>\n",
       "      <td>B</td>\n",
       "      <td>445074.956552</td>\n",
       "    </tr>\n",
       "    <tr>\n",
       "      <th>2969</th>\n",
       "      <td>7441</td>\n",
       "      <td>62</td>\n",
       "      <td>3.0</td>\n",
       "      <td>114.734473</td>\n",
       "      <td>112.589083</td>\n",
       "      <td>112.0</td>\n",
       "      <td>3</td>\n",
       "      <td>3.0</td>\n",
       "      <td>2015</td>\n",
       "      <td>0.072158</td>\n",
       "      <td>B</td>\n",
       "      <td>B</td>\n",
       "      <td>2</td>\n",
       "      <td>629</td>\n",
       "      <td>1</td>\n",
       "      <td>2300.0</td>\n",
       "      <td>0</td>\n",
       "      <td>0</td>\n",
       "      <td>A</td>\n",
       "      <td>315245.521059</td>\n",
       "    </tr>\n",
       "    <tr>\n",
       "      <th>4079</th>\n",
       "      <td>6508</td>\n",
       "      <td>23</td>\n",
       "      <td>2.0</td>\n",
       "      <td>67.146049</td>\n",
       "      <td>33.959154</td>\n",
       "      <td>63.0</td>\n",
       "      <td>5</td>\n",
       "      <td>17.0</td>\n",
       "      <td>2019</td>\n",
       "      <td>0.034656</td>\n",
       "      <td>B</td>\n",
       "      <td>B</td>\n",
       "      <td>0</td>\n",
       "      <td>168</td>\n",
       "      <td>0</td>\n",
       "      <td>0.0</td>\n",
       "      <td>0</td>\n",
       "      <td>0</td>\n",
       "      <td>B</td>\n",
       "      <td>193130.585871</td>\n",
       "    </tr>\n",
       "    <tr>\n",
       "      <th>4110</th>\n",
       "      <td>299</td>\n",
       "      <td>27</td>\n",
       "      <td>2.0</td>\n",
       "      <td>66.787523</td>\n",
       "      <td>64.616662</td>\n",
       "      <td>60.0</td>\n",
       "      <td>14</td>\n",
       "      <td>20.0</td>\n",
       "      <td>2015</td>\n",
       "      <td>0.017647</td>\n",
       "      <td>B</td>\n",
       "      <td>B</td>\n",
       "      <td>2</td>\n",
       "      <td>469</td>\n",
       "      <td>0</td>\n",
       "      <td>750.0</td>\n",
       "      <td>0</td>\n",
       "      <td>0</td>\n",
       "      <td>B</td>\n",
       "      <td>179466.094235</td>\n",
       "    </tr>\n",
       "    <tr>\n",
       "      <th>4651</th>\n",
       "      <td>12552</td>\n",
       "      <td>58</td>\n",
       "      <td>3.0</td>\n",
       "      <td>116.405693</td>\n",
       "      <td>113.109653</td>\n",
       "      <td>112.0</td>\n",
       "      <td>3</td>\n",
       "      <td>3.0</td>\n",
       "      <td>2016</td>\n",
       "      <td>0.437885</td>\n",
       "      <td>B</td>\n",
       "      <td>B</td>\n",
       "      <td>23</td>\n",
       "      <td>5735</td>\n",
       "      <td>3</td>\n",
       "      <td>1084.0</td>\n",
       "      <td>0</td>\n",
       "      <td>5</td>\n",
       "      <td>B</td>\n",
       "      <td>296165.936689</td>\n",
       "    </tr>\n",
       "    <tr>\n",
       "      <th>5149</th>\n",
       "      <td>13703</td>\n",
       "      <td>42</td>\n",
       "      <td>1.0</td>\n",
       "      <td>38.071692</td>\n",
       "      <td>19.723548</td>\n",
       "      <td>73.0</td>\n",
       "      <td>9</td>\n",
       "      <td>10.0</td>\n",
       "      <td>2006</td>\n",
       "      <td>0.158249</td>\n",
       "      <td>B</td>\n",
       "      <td>B</td>\n",
       "      <td>21</td>\n",
       "      <td>5731</td>\n",
       "      <td>0</td>\n",
       "      <td>750.0</td>\n",
       "      <td>1</td>\n",
       "      <td>0</td>\n",
       "      <td>B</td>\n",
       "      <td>160488.033165</td>\n",
       "    </tr>\n",
       "    <tr>\n",
       "      <th>5162</th>\n",
       "      <td>11739</td>\n",
       "      <td>27</td>\n",
       "      <td>2.0</td>\n",
       "      <td>61.070298</td>\n",
       "      <td>59.845092</td>\n",
       "      <td>58.0</td>\n",
       "      <td>8</td>\n",
       "      <td>17.0</td>\n",
       "      <td>2016</td>\n",
       "      <td>0.072158</td>\n",
       "      <td>B</td>\n",
       "      <td>B</td>\n",
       "      <td>2</td>\n",
       "      <td>629</td>\n",
       "      <td>1</td>\n",
       "      <td>750.0</td>\n",
       "      <td>0</td>\n",
       "      <td>0</td>\n",
       "      <td>A</td>\n",
       "      <td>212188.959537</td>\n",
       "    </tr>\n",
       "    <tr>\n",
       "      <th>5888</th>\n",
       "      <td>16593</td>\n",
       "      <td>52</td>\n",
       "      <td>2.0</td>\n",
       "      <td>64.859242</td>\n",
       "      <td>40.483067</td>\n",
       "      <td>62.0</td>\n",
       "      <td>15</td>\n",
       "      <td>17.0</td>\n",
       "      <td>1977</td>\n",
       "      <td>0.371149</td>\n",
       "      <td>B</td>\n",
       "      <td>B</td>\n",
       "      <td>34</td>\n",
       "      <td>7065</td>\n",
       "      <td>1</td>\n",
       "      <td>750.0</td>\n",
       "      <td>2</td>\n",
       "      <td>5</td>\n",
       "      <td>B</td>\n",
       "      <td>185993.474671</td>\n",
       "    </tr>\n",
       "    <tr>\n",
       "      <th>6036</th>\n",
       "      <td>12666</td>\n",
       "      <td>34</td>\n",
       "      <td>2.0</td>\n",
       "      <td>60.603363</td>\n",
       "      <td>37.826684</td>\n",
       "      <td>58.0</td>\n",
       "      <td>14</td>\n",
       "      <td>22.0</td>\n",
       "      <td>1977</td>\n",
       "      <td>0.069753</td>\n",
       "      <td>B</td>\n",
       "      <td>B</td>\n",
       "      <td>53</td>\n",
       "      <td>13670</td>\n",
       "      <td>4</td>\n",
       "      <td>750.0</td>\n",
       "      <td>1</td>\n",
       "      <td>11</td>\n",
       "      <td>B</td>\n",
       "      <td>261733.472106</td>\n",
       "    </tr>\n",
       "    <tr>\n",
       "      <th>6240</th>\n",
       "      <td>4966</td>\n",
       "      <td>96</td>\n",
       "      <td>3.0</td>\n",
       "      <td>78.445675</td>\n",
       "      <td>47.146757</td>\n",
       "      <td>75.0</td>\n",
       "      <td>9</td>\n",
       "      <td>12.0</td>\n",
       "      <td>1977</td>\n",
       "      <td>0.041116</td>\n",
       "      <td>B</td>\n",
       "      <td>B</td>\n",
       "      <td>53</td>\n",
       "      <td>14892</td>\n",
       "      <td>4</td>\n",
       "      <td>750.0</td>\n",
       "      <td>1</td>\n",
       "      <td>4</td>\n",
       "      <td>B</td>\n",
       "      <td>290354.484070</td>\n",
       "    </tr>\n",
       "    <tr>\n",
       "      <th>7088</th>\n",
       "      <td>6569</td>\n",
       "      <td>27</td>\n",
       "      <td>1.0</td>\n",
       "      <td>38.220258</td>\n",
       "      <td>18.716856</td>\n",
       "      <td>84.0</td>\n",
       "      <td>4</td>\n",
       "      <td>17.0</td>\n",
       "      <td>2018</td>\n",
       "      <td>0.011654</td>\n",
       "      <td>B</td>\n",
       "      <td>B</td>\n",
       "      <td>4</td>\n",
       "      <td>915</td>\n",
       "      <td>0</td>\n",
       "      <td>750.0</td>\n",
       "      <td>0</td>\n",
       "      <td>0</td>\n",
       "      <td>B</td>\n",
       "      <td>99079.960518</td>\n",
       "    </tr>\n",
       "    <tr>\n",
       "      <th>8232</th>\n",
       "      <td>7162</td>\n",
       "      <td>34</td>\n",
       "      <td>2.0</td>\n",
       "      <td>56.738764</td>\n",
       "      <td>35.414524</td>\n",
       "      <td>54.0</td>\n",
       "      <td>26</td>\n",
       "      <td>25.0</td>\n",
       "      <td>2016</td>\n",
       "      <td>0.069753</td>\n",
       "      <td>B</td>\n",
       "      <td>B</td>\n",
       "      <td>53</td>\n",
       "      <td>13670</td>\n",
       "      <td>4</td>\n",
       "      <td>750.0</td>\n",
       "      <td>1</td>\n",
       "      <td>11</td>\n",
       "      <td>B</td>\n",
       "      <td>244220.621495</td>\n",
       "    </tr>\n",
       "    <tr>\n",
       "      <th>8584</th>\n",
       "      <td>14679</td>\n",
       "      <td>81</td>\n",
       "      <td>1.0</td>\n",
       "      <td>32.276663</td>\n",
       "      <td>19.278394</td>\n",
       "      <td>1970.0</td>\n",
       "      <td>6</td>\n",
       "      <td>1.0</td>\n",
       "      <td>1977</td>\n",
       "      <td>0.006076</td>\n",
       "      <td>B</td>\n",
       "      <td>B</td>\n",
       "      <td>30</td>\n",
       "      <td>5285</td>\n",
       "      <td>0</td>\n",
       "      <td>645.0</td>\n",
       "      <td>6</td>\n",
       "      <td>6</td>\n",
       "      <td>B</td>\n",
       "      <td>105539.556275</td>\n",
       "    </tr>\n",
       "    <tr>\n",
       "      <th>9895</th>\n",
       "      <td>2737</td>\n",
       "      <td>27</td>\n",
       "      <td>3.0</td>\n",
       "      <td>123.430072</td>\n",
       "      <td>77.041108</td>\n",
       "      <td>123.0</td>\n",
       "      <td>5</td>\n",
       "      <td>10.0</td>\n",
       "      <td>2015</td>\n",
       "      <td>0.017647</td>\n",
       "      <td>B</td>\n",
       "      <td>B</td>\n",
       "      <td>2</td>\n",
       "      <td>469</td>\n",
       "      <td>0</td>\n",
       "      <td>750.0</td>\n",
       "      <td>0</td>\n",
       "      <td>0</td>\n",
       "      <td>B</td>\n",
       "      <td>234194.837047</td>\n",
       "    </tr>\n",
       "  </tbody>\n",
       "</table>\n",
       "</div>"
      ],
      "text/plain": [
       "         Id  DistrictId  Rooms      Square  LifeSquare  KitchenSquare  Floor  \\\n",
       "227   16395           2    3.0   79.722243   44.731219           72.0     12   \n",
       "1064  14656          62    1.0   47.100719   46.447960         2014.0      4   \n",
       "1369   2371          27    2.0   68.841073   64.234956           66.0      4   \n",
       "1455  12507          54    2.0   79.810535   79.578961           78.0     10   \n",
       "1860   4265         161    2.0   53.216778   32.644859           53.0      7   \n",
       "2916  12390          72    3.0   97.490674   60.850565           96.0     22   \n",
       "2969   7441          62    3.0  114.734473  112.589083          112.0      3   \n",
       "4079   6508          23    2.0   67.146049   33.959154           63.0      5   \n",
       "4110    299          27    2.0   66.787523   64.616662           60.0     14   \n",
       "4651  12552          58    3.0  116.405693  113.109653          112.0      3   \n",
       "5149  13703          42    1.0   38.071692   19.723548           73.0      9   \n",
       "5162  11739          27    2.0   61.070298   59.845092           58.0      8   \n",
       "5888  16593          52    2.0   64.859242   40.483067           62.0     15   \n",
       "6036  12666          34    2.0   60.603363   37.826684           58.0     14   \n",
       "6240   4966          96    3.0   78.445675   47.146757           75.0      9   \n",
       "7088   6569          27    1.0   38.220258   18.716856           84.0      4   \n",
       "8232   7162          34    2.0   56.738764   35.414524           54.0     26   \n",
       "8584  14679          81    1.0   32.276663   19.278394         1970.0      6   \n",
       "9895   2737          27    3.0  123.430072   77.041108          123.0      5   \n",
       "\n",
       "      HouseFloor  HouseYear  Ecology_1 Ecology_2 Ecology_3  Social_1  \\\n",
       "227         16.0       1987   0.130618         B         B        39   \n",
       "1064         1.0       2014   0.072158         B         B         2   \n",
       "1369         2.0       2014   0.017647         B         B         2   \n",
       "1455        15.0       2014   0.006076         B         B        30   \n",
       "1860        17.0       1994   0.000699         B         B        14   \n",
       "2916        25.0       2019   0.210473         B         B        11   \n",
       "2969         3.0       2015   0.072158         B         B         2   \n",
       "4079        17.0       2019   0.034656         B         B         0   \n",
       "4110        20.0       2015   0.017647         B         B         2   \n",
       "4651         3.0       2016   0.437885         B         B        23   \n",
       "5149        10.0       2006   0.158249         B         B        21   \n",
       "5162        17.0       2016   0.072158         B         B         2   \n",
       "5888        17.0       1977   0.371149         B         B        34   \n",
       "6036        22.0       1977   0.069753         B         B        53   \n",
       "6240        12.0       1977   0.041116         B         B        53   \n",
       "7088        17.0       2018   0.011654         B         B         4   \n",
       "8232        25.0       2016   0.069753         B         B        53   \n",
       "8584         1.0       1977   0.006076         B         B        30   \n",
       "9895        10.0       2015   0.017647         B         B         2   \n",
       "\n",
       "      Social_2  Social_3  Healthcare_1  Helthcare_2  Shops_1 Shops_2  \\\n",
       "227      10418         9         900.0            1        9       B   \n",
       "1064       629         1        2300.0            0        0       A   \n",
       "1369       469         0         750.0            0        0       B   \n",
       "1455      5285         0         645.0            6        6       B   \n",
       "1860      3369        24        4129.0            0        3       B   \n",
       "2916      2398         2        1994.0            3        0       B   \n",
       "2969       629         1        2300.0            0        0       A   \n",
       "4079       168         0           0.0            0        0       B   \n",
       "4110       469         0         750.0            0        0       B   \n",
       "4651      5735         3        1084.0            0        5       B   \n",
       "5149      5731         0         750.0            1        0       B   \n",
       "5162       629         1         750.0            0        0       A   \n",
       "5888      7065         1         750.0            2        5       B   \n",
       "6036     13670         4         750.0            1       11       B   \n",
       "6240     14892         4         750.0            1        4       B   \n",
       "7088       915         0         750.0            0        0       B   \n",
       "8232     13670         4         750.0            1       11       B   \n",
       "8584      5285         0         645.0            6        6       B   \n",
       "9895       469         0         750.0            0        0       B   \n",
       "\n",
       "              Price  \n",
       "227   370148.625285  \n",
       "1064  108337.484207  \n",
       "1369  189244.249909  \n",
       "1455  438708.707579  \n",
       "1860  261125.669724  \n",
       "2916  445074.956552  \n",
       "2969  315245.521059  \n",
       "4079  193130.585871  \n",
       "4110  179466.094235  \n",
       "4651  296165.936689  \n",
       "5149  160488.033165  \n",
       "5162  212188.959537  \n",
       "5888  185993.474671  \n",
       "6036  261733.472106  \n",
       "6240  290354.484070  \n",
       "7088   99079.960518  \n",
       "8232  244220.621495  \n",
       "8584  105539.556275  \n",
       "9895  234194.837047  "
      ]
     },
     "execution_count": 50,
     "metadata": {},
     "output_type": "execute_result"
    }
   ],
   "source": [
    "df.loc[df['KitchenSquare'] > df['KitchenSquare'].quantile(.998)]"
   ]
  },
  {
   "cell_type": "markdown",
   "metadata": {},
   "source": [
    "Даже 60м2 кухня в квартире - это перебор наверное...."
   ]
  },
  {
   "cell_type": "code",
   "execution_count": 51,
   "metadata": {},
   "outputs": [],
   "source": [
    "df.loc[df['KitchenSquare'] > df['Square'], 'KitchenSquare'] =\\\n",
    "df['Square'] / (df['Square'].median()/df['KitchenSquare'].median())\n",
    "dft.loc[dft['KitchenSquare'] > dft['Square'], 'KitchenSquare'] =\\\n",
    "dft['Square'] / (dft['Square'].median()/dft['KitchenSquare'].median())"
   ]
  },
  {
   "cell_type": "code",
   "execution_count": 52,
   "metadata": {},
   "outputs": [
    {
     "data": {
      "image/png": "[encoded data removed]",
      "text/plain": [
       "<Figure size 432x288 with 1 Axes>"
      ]
     },
     "metadata": {
      "needs_background": "light"
     },
     "output_type": "display_data"
    }
   ],
   "source": [
    "plt.scatter(df['Square'], df['KitchenSquare'])\n",
    "plt.xlabel('Общая')\n",
    "plt.ylabel('Кухня')\n",
    "plt.draw()"
   ]
  },
  {
   "cell_type": "code",
   "execution_count": 53,
   "metadata": {},
   "outputs": [
    {
     "data": {
      "image/png": "[encoded data removed]",
      "text/plain": [
       "<Figure size 432x288 with 1 Axes>"
      ]
     },
     "metadata": {
      "needs_background": "light"
     },
     "output_type": "display_data"
    }
   ],
   "source": [
    "plt.scatter(dft['Square'], dft['KitchenSquare'])\n",
    "plt.xlabel('Общая')\n",
    "plt.ylabel('Кухня')\n",
    "plt.draw()"
   ]
  },
  {
   "cell_type": "markdown",
   "metadata": {},
   "source": [
    "Вот с этой диагональю что нибудь сделаем - это не выглядит нормальным - может конечно жил площадь в кухни записали - но этого мы не знаем точно"
   ]
  },
  {
   "cell_type": "code",
   "execution_count": 54,
   "metadata": {},
   "outputs": [
    {
     "name": "stdout",
     "output_type": "stream",
     "text": [
      "8.756651563192996\n",
      "8.835276927744268\n"
     ]
    }
   ],
   "source": [
    "kitchen_ratio = df['Square'].median()/df['KitchenSquare'].median()\n",
    "print(kitchen_ratio)\n",
    "kitchen_ratio_t = dft['Square'].median()/dft['KitchenSquare'].median()\n",
    "print(kitchen_ratio_t)"
   ]
  },
  {
   "cell_type": "code",
   "execution_count": 55,
   "metadata": {},
   "outputs": [],
   "source": [
    "df.loc[abs((df['KitchenSquare']/df['Square']) > 0.7), 'KitchenSquare'] = df['Square'] / kitchen_ratio\n",
    "dft.loc[abs((dft['KitchenSquare']/dft['Square']) > 0.7), 'KitchenSquare'] = dft['Square'] / kitchen_ratio_t"
   ]
  },
  {
   "cell_type": "code",
   "execution_count": 56,
   "metadata": {},
   "outputs": [
    {
     "data": {
      "image/png": "[encoded data removed]",
      "text/plain": [
       "<Figure size 720x504 with 1 Axes>"
      ]
     },
     "metadata": {
      "needs_background": "light"
     },
     "output_type": "display_data"
    }
   ],
   "source": [
    "plt.figure(figsize=(10,7))\n",
    "plt.scatter(df['Square'], df['KitchenSquare'])\n",
    "plt.xlabel('Общая')\n",
    "plt.ylabel('Кухня')\n",
    "plt.draw()"
   ]
  },
  {
   "cell_type": "code",
   "execution_count": 57,
   "metadata": {},
   "outputs": [
    {
     "data": {
      "image/png": "[encoded data removed]",
      "text/plain": [
       "<Figure size 720x504 with 1 Axes>"
      ]
     },
     "metadata": {
      "needs_background": "light"
     },
     "output_type": "display_data"
    }
   ],
   "source": [
    "plt.figure(figsize=(10,7))\n",
    "plt.scatter(dft['Square'], dft['KitchenSquare'])\n",
    "plt.xlabel('Общая')\n",
    "plt.ylabel('Кухня')\n",
    "plt.draw()"
   ]
  },
  {
   "cell_type": "markdown",
   "metadata": {},
   "source": [
    "Нулевые тоже приведем по соотношению"
   ]
  },
  {
   "cell_type": "code",
   "execution_count": 58,
   "metadata": {},
   "outputs": [],
   "source": [
    "df.loc[df['KitchenSquare'] == 0, 'KitchenSquare'] = round(df['Square']/kitchen_ratio)\n",
    "dft.loc[dft['KitchenSquare'] == 0, 'KitchenSquare'] = round(dft['Square']/kitchen_ratio_t)"
   ]
  },
  {
   "cell_type": "code",
   "execution_count": 59,
   "metadata": {},
   "outputs": [
    {
     "data": {
      "image/png": "[encoded data removed]",
      "text/plain": [
       "<Figure size 720x504 with 1 Axes>"
      ]
     },
     "metadata": {
      "needs_background": "light"
     },
     "output_type": "display_data"
    }
   ],
   "source": [
    "plt.figure(figsize=(10,7))\n",
    "plt.scatter(df['Square'], df['KitchenSquare'])\n",
    "plt.xlabel('Общая')\n",
    "plt.ylabel('Кухня')\n",
    "plt.draw()"
   ]
  },
  {
   "cell_type": "code",
   "execution_count": 60,
   "metadata": {},
   "outputs": [
    {
     "data": {
      "image/png": "[encoded data removed]",
      "text/plain": [
       "<Figure size 720x504 with 1 Axes>"
      ]
     },
     "metadata": {
      "needs_background": "light"
     },
     "output_type": "display_data"
    }
   ],
   "source": [
    "plt.figure(figsize=(10,7))\n",
    "plt.scatter(dft['Square'], dft['KitchenSquare'])\n",
    "plt.xlabel('Общая')\n",
    "plt.ylabel('Кухня')\n",
    "plt.draw()"
   ]
  },
  {
   "cell_type": "markdown",
   "metadata": {},
   "source": [
    "Выбросы в количестве комнат... "
   ]
  },
  {
   "cell_type": "code",
   "execution_count": 61,
   "metadata": {},
   "outputs": [
    {
     "data": {
      "image/png": "[encoded data removed]",
      "text/plain": [
       "<Figure size 720x504 with 1 Axes>"
      ]
     },
     "metadata": {
      "needs_background": "light"
     },
     "output_type": "display_data"
    }
   ],
   "source": [
    "plt.figure(figsize=(10,7))\n",
    "plt.scatter(df['Rooms'], df['Square'])\n",
    "plt.xlabel('Комнат')\n",
    "plt.ylabel('Площадь')\n",
    "plt.draw()"
   ]
  },
  {
   "cell_type": "code",
   "execution_count": 62,
   "metadata": {},
   "outputs": [
    {
     "data": {
      "image/png": "[encoded data removed]",
      "text/plain": [
       "<Figure size 720x504 with 1 Axes>"
      ]
     },
     "metadata": {
      "needs_background": "light"
     },
     "output_type": "display_data"
    }
   ],
   "source": [
    "plt.figure(figsize=(10,7))\n",
    "plt.scatter(dft['Rooms'], dft['Square'])\n",
    "plt.xlabel('Комнат')\n",
    "plt.ylabel('Площадь')\n",
    "plt.draw()"
   ]
  },
  {
   "cell_type": "code",
   "execution_count": 63,
   "metadata": {},
   "outputs": [
    {
     "data": {
      "text/html": [
       "<div>\n",
       "<style scoped>\n",
       "    .dataframe tbody tr th:only-of-type {\n",
       "        vertical-align: middle;\n",
       "    }\n",
       "\n",
       "    .dataframe tbody tr th {\n",
       "        vertical-align: top;\n",
       "    }\n",
       "\n",
       "    .dataframe thead th {\n",
       "        text-align: right;\n",
       "    }\n",
       "</style>\n",
       "<table border=\"1\" class=\"dataframe\">\n",
       "  <thead>\n",
       "    <tr style=\"text-align: right;\">\n",
       "      <th></th>\n",
       "      <th>Id</th>\n",
       "      <th>DistrictId</th>\n",
       "      <th>Rooms</th>\n",
       "      <th>Square</th>\n",
       "      <th>LifeSquare</th>\n",
       "      <th>KitchenSquare</th>\n",
       "      <th>Floor</th>\n",
       "      <th>HouseFloor</th>\n",
       "      <th>HouseYear</th>\n",
       "      <th>Ecology_1</th>\n",
       "      <th>Ecology_2</th>\n",
       "      <th>Ecology_3</th>\n",
       "      <th>Social_1</th>\n",
       "      <th>Social_2</th>\n",
       "      <th>Social_3</th>\n",
       "      <th>Healthcare_1</th>\n",
       "      <th>Helthcare_2</th>\n",
       "      <th>Shops_1</th>\n",
       "      <th>Shops_2</th>\n",
       "      <th>Price</th>\n",
       "    </tr>\n",
       "  </thead>\n",
       "  <tbody>\n",
       "    <tr>\n",
       "      <th>1397</th>\n",
       "      <td>12638</td>\n",
       "      <td>27</td>\n",
       "      <td>0.0</td>\n",
       "      <td>138.427694</td>\n",
       "      <td>136.215499</td>\n",
       "      <td>16.0</td>\n",
       "      <td>4</td>\n",
       "      <td>3.0</td>\n",
       "      <td>2016</td>\n",
       "      <td>0.075424</td>\n",
       "      <td>B</td>\n",
       "      <td>B</td>\n",
       "      <td>11</td>\n",
       "      <td>3097</td>\n",
       "      <td>0</td>\n",
       "      <td>750.0</td>\n",
       "      <td>0</td>\n",
       "      <td>0</td>\n",
       "      <td>B</td>\n",
       "      <td>268394.744389</td>\n",
       "    </tr>\n",
       "    <tr>\n",
       "      <th>1981</th>\n",
       "      <td>7917</td>\n",
       "      <td>27</td>\n",
       "      <td>0.0</td>\n",
       "      <td>212.932361</td>\n",
       "      <td>211.231125</td>\n",
       "      <td>24.0</td>\n",
       "      <td>2</td>\n",
       "      <td>3.0</td>\n",
       "      <td>2008</td>\n",
       "      <td>0.211401</td>\n",
       "      <td>B</td>\n",
       "      <td>B</td>\n",
       "      <td>9</td>\n",
       "      <td>1892</td>\n",
       "      <td>0</td>\n",
       "      <td>750.0</td>\n",
       "      <td>0</td>\n",
       "      <td>1</td>\n",
       "      <td>B</td>\n",
       "      <td>302211.260887</td>\n",
       "    </tr>\n",
       "    <tr>\n",
       "      <th>2269</th>\n",
       "      <td>7317</td>\n",
       "      <td>27</td>\n",
       "      <td>0.0</td>\n",
       "      <td>41.790881</td>\n",
       "      <td>26.084533</td>\n",
       "      <td>5.0</td>\n",
       "      <td>13</td>\n",
       "      <td>0.0</td>\n",
       "      <td>1977</td>\n",
       "      <td>0.211401</td>\n",
       "      <td>B</td>\n",
       "      <td>B</td>\n",
       "      <td>9</td>\n",
       "      <td>1892</td>\n",
       "      <td>0</td>\n",
       "      <td>750.0</td>\n",
       "      <td>0</td>\n",
       "      <td>1</td>\n",
       "      <td>B</td>\n",
       "      <td>98129.976788</td>\n",
       "    </tr>\n",
       "    <tr>\n",
       "      <th>3911</th>\n",
       "      <td>770</td>\n",
       "      <td>28</td>\n",
       "      <td>0.0</td>\n",
       "      <td>49.483501</td>\n",
       "      <td>30.886021</td>\n",
       "      <td>6.0</td>\n",
       "      <td>16</td>\n",
       "      <td>0.0</td>\n",
       "      <td>2015</td>\n",
       "      <td>0.118537</td>\n",
       "      <td>B</td>\n",
       "      <td>B</td>\n",
       "      <td>30</td>\n",
       "      <td>6207</td>\n",
       "      <td>1</td>\n",
       "      <td>1183.0</td>\n",
       "      <td>1</td>\n",
       "      <td>0</td>\n",
       "      <td>B</td>\n",
       "      <td>217009.338463</td>\n",
       "    </tr>\n",
       "    <tr>\n",
       "      <th>4366</th>\n",
       "      <td>456</td>\n",
       "      <td>6</td>\n",
       "      <td>0.0</td>\n",
       "      <td>81.491446</td>\n",
       "      <td>50.864358</td>\n",
       "      <td>9.0</td>\n",
       "      <td>4</td>\n",
       "      <td>0.0</td>\n",
       "      <td>1977</td>\n",
       "      <td>0.243205</td>\n",
       "      <td>B</td>\n",
       "      <td>B</td>\n",
       "      <td>5</td>\n",
       "      <td>1564</td>\n",
       "      <td>0</td>\n",
       "      <td>540.0</td>\n",
       "      <td>0</td>\n",
       "      <td>0</td>\n",
       "      <td>B</td>\n",
       "      <td>212864.799112</td>\n",
       "    </tr>\n",
       "    <tr>\n",
       "      <th>6149</th>\n",
       "      <td>3159</td>\n",
       "      <td>88</td>\n",
       "      <td>0.0</td>\n",
       "      <td>38.697117</td>\n",
       "      <td>19.345131</td>\n",
       "      <td>9.0</td>\n",
       "      <td>9</td>\n",
       "      <td>16.0</td>\n",
       "      <td>1982</td>\n",
       "      <td>0.127376</td>\n",
       "      <td>B</td>\n",
       "      <td>B</td>\n",
       "      <td>43</td>\n",
       "      <td>8429</td>\n",
       "      <td>3</td>\n",
       "      <td>750.0</td>\n",
       "      <td>3</td>\n",
       "      <td>9</td>\n",
       "      <td>B</td>\n",
       "      <td>158998.110646</td>\n",
       "    </tr>\n",
       "    <tr>\n",
       "      <th>8834</th>\n",
       "      <td>9443</td>\n",
       "      <td>27</td>\n",
       "      <td>0.0</td>\n",
       "      <td>87.762616</td>\n",
       "      <td>85.125471</td>\n",
       "      <td>10.0</td>\n",
       "      <td>5</td>\n",
       "      <td>15.0</td>\n",
       "      <td>1977</td>\n",
       "      <td>0.211401</td>\n",
       "      <td>B</td>\n",
       "      <td>B</td>\n",
       "      <td>9</td>\n",
       "      <td>1892</td>\n",
       "      <td>0</td>\n",
       "      <td>750.0</td>\n",
       "      <td>0</td>\n",
       "      <td>1</td>\n",
       "      <td>B</td>\n",
       "      <td>219281.918007</td>\n",
       "    </tr>\n",
       "  </tbody>\n",
       "</table>\n",
       "</div>"
      ],
      "text/plain": [
       "         Id  DistrictId  Rooms      Square  LifeSquare  KitchenSquare  Floor  \\\n",
       "1397  12638          27    0.0  138.427694  136.215499           16.0      4   \n",
       "1981   7917          27    0.0  212.932361  211.231125           24.0      2   \n",
       "2269   7317          27    0.0   41.790881   26.084533            5.0     13   \n",
       "3911    770          28    0.0   49.483501   30.886021            6.0     16   \n",
       "4366    456           6    0.0   81.491446   50.864358            9.0      4   \n",
       "6149   3159          88    0.0   38.697117   19.345131            9.0      9   \n",
       "8834   9443          27    0.0   87.762616   85.125471           10.0      5   \n",
       "\n",
       "      HouseFloor  HouseYear  Ecology_1 Ecology_2 Ecology_3  Social_1  \\\n",
       "1397         3.0       2016   0.075424         B         B        11   \n",
       "1981         3.0       2008   0.211401         B         B         9   \n",
       "2269         0.0       1977   0.211401         B         B         9   \n",
       "3911         0.0       2015   0.118537         B         B        30   \n",
       "4366         0.0       1977   0.243205         B         B         5   \n",
       "6149        16.0       1982   0.127376         B         B        43   \n",
       "8834        15.0       1977   0.211401         B         B         9   \n",
       "\n",
       "      Social_2  Social_3  Healthcare_1  Helthcare_2  Shops_1 Shops_2  \\\n",
       "1397      3097         0         750.0            0        0       B   \n",
       "1981      1892         0         750.0            0        1       B   \n",
       "2269      1892         0         750.0            0        1       B   \n",
       "3911      6207         1        1183.0            1        0       B   \n",
       "4366      1564         0         540.0            0        0       B   \n",
       "6149      8429         3         750.0            3        9       B   \n",
       "8834      1892         0         750.0            0        1       B   \n",
       "\n",
       "              Price  \n",
       "1397  268394.744389  \n",
       "1981  302211.260887  \n",
       "2269   98129.976788  \n",
       "3911  217009.338463  \n",
       "4366  212864.799112  \n",
       "6149  158998.110646  \n",
       "8834  219281.918007  "
      ]
     },
     "execution_count": 63,
     "metadata": {},
     "output_type": "execute_result"
    }
   ],
   "source": [
    "df.loc[df['Rooms']==0]"
   ]
  },
  {
   "cell_type": "code",
   "execution_count": 64,
   "metadata": {},
   "outputs": [
    {
     "data": {
      "text/html": [
       "<div>\n",
       "<style scoped>\n",
       "    .dataframe tbody tr th:only-of-type {\n",
       "        vertical-align: middle;\n",
       "    }\n",
       "\n",
       "    .dataframe tbody tr th {\n",
       "        vertical-align: top;\n",
       "    }\n",
       "\n",
       "    .dataframe thead th {\n",
       "        text-align: right;\n",
       "    }\n",
       "</style>\n",
       "<table border=\"1\" class=\"dataframe\">\n",
       "  <thead>\n",
       "    <tr style=\"text-align: right;\">\n",
       "      <th></th>\n",
       "      <th>Id</th>\n",
       "      <th>DistrictId</th>\n",
       "      <th>Rooms</th>\n",
       "      <th>Square</th>\n",
       "      <th>LifeSquare</th>\n",
       "      <th>KitchenSquare</th>\n",
       "      <th>Floor</th>\n",
       "      <th>HouseFloor</th>\n",
       "      <th>HouseYear</th>\n",
       "      <th>Ecology_1</th>\n",
       "      <th>Ecology_2</th>\n",
       "      <th>Ecology_3</th>\n",
       "      <th>Social_1</th>\n",
       "      <th>Social_2</th>\n",
       "      <th>Social_3</th>\n",
       "      <th>Healthcare_1</th>\n",
       "      <th>Helthcare_2</th>\n",
       "      <th>Shops_1</th>\n",
       "      <th>Shops_2</th>\n",
       "    </tr>\n",
       "  </thead>\n",
       "  <tbody>\n",
       "    <tr>\n",
       "      <th>2406</th>\n",
       "      <td>3343</td>\n",
       "      <td>58</td>\n",
       "      <td>0.0</td>\n",
       "      <td>116.824201</td>\n",
       "      <td>113.692424</td>\n",
       "      <td>13.0</td>\n",
       "      <td>3</td>\n",
       "      <td>3.0</td>\n",
       "      <td>1977</td>\n",
       "      <td>0.437885</td>\n",
       "      <td>B</td>\n",
       "      <td>B</td>\n",
       "      <td>23</td>\n",
       "      <td>5735</td>\n",
       "      <td>3</td>\n",
       "      <td>1084.0</td>\n",
       "      <td>0</td>\n",
       "      <td>5</td>\n",
       "      <td>B</td>\n",
       "    </tr>\n",
       "    <tr>\n",
       "      <th>2524</th>\n",
       "      <td>10729</td>\n",
       "      <td>27</td>\n",
       "      <td>0.0</td>\n",
       "      <td>76.345154</td>\n",
       "      <td>42.820796</td>\n",
       "      <td>12.0</td>\n",
       "      <td>14</td>\n",
       "      <td>0.0</td>\n",
       "      <td>1977</td>\n",
       "      <td>0.017647</td>\n",
       "      <td>B</td>\n",
       "      <td>B</td>\n",
       "      <td>2</td>\n",
       "      <td>469</td>\n",
       "      <td>0</td>\n",
       "      <td>800.0</td>\n",
       "      <td>0</td>\n",
       "      <td>0</td>\n",
       "      <td>B</td>\n",
       "    </tr>\n",
       "  </tbody>\n",
       "</table>\n",
       "</div>"
      ],
      "text/plain": [
       "         Id  DistrictId  Rooms      Square  LifeSquare  KitchenSquare  Floor  \\\n",
       "2406   3343          58    0.0  116.824201  113.692424           13.0      3   \n",
       "2524  10729          27    0.0   76.345154   42.820796           12.0     14   \n",
       "\n",
       "      HouseFloor  HouseYear  Ecology_1 Ecology_2 Ecology_3  Social_1  \\\n",
       "2406         3.0       1977   0.437885         B         B        23   \n",
       "2524         0.0       1977   0.017647         B         B         2   \n",
       "\n",
       "      Social_2  Social_3  Healthcare_1  Helthcare_2  Shops_1 Shops_2  \n",
       "2406      5735         3        1084.0            0        5       B  \n",
       "2524       469         0         800.0            0        0       B  "
      ]
     },
     "execution_count": 64,
     "metadata": {},
     "output_type": "execute_result"
    }
   ],
   "source": [
    "dft.loc[dft['Rooms']==0]"
   ]
  },
  {
   "cell_type": "markdown",
   "metadata": {},
   "source": [
    "0 комнат - это конечно бред для квартиры.. Думаю количество комнат в некотором роде все-таки зависит от площади.."
   ]
  },
  {
   "cell_type": "code",
   "execution_count": 65,
   "metadata": {},
   "outputs": [
    {
     "name": "stdout",
     "output_type": "stream",
     "text": [
      "26.269954689578988\n",
      "26.505830783232803\n"
     ]
    }
   ],
   "source": [
    "rooms_ratio = df['Square'].median()/df['Rooms'].median()\n",
    "print(rooms_ratio)\n",
    "rooms_ratio_t = dft['Square'].median()/dft['Rooms'].median()\n",
    "print(rooms_ratio_t)"
   ]
  },
  {
   "cell_type": "code",
   "execution_count": 66,
   "metadata": {},
   "outputs": [],
   "source": [
    "df.loc[df['Rooms'] == 0, 'Rooms'] = df['Square'] / rooms_ratio\n",
    "dft.loc[dft['Rooms'] == 0, 'Rooms'] = dft['Square'] / rooms_ratio_t"
   ]
  },
  {
   "cell_type": "code",
   "execution_count": 67,
   "metadata": {},
   "outputs": [
    {
     "data": {
      "image/png": "[encoded data removed]",
      "text/plain": [
       "<Figure size 720x504 with 1 Axes>"
      ]
     },
     "metadata": {
      "needs_background": "light"
     },
     "output_type": "display_data"
    }
   ],
   "source": [
    "plt.figure(figsize=(10,7))\n",
    "plt.scatter(df['Rooms'], df['Square'])\n",
    "plt.xlabel('Комнат')\n",
    "plt.ylabel('Площадь')\n",
    "plt.draw()"
   ]
  },
  {
   "cell_type": "code",
   "execution_count": 68,
   "metadata": {},
   "outputs": [
    {
     "data": {
      "image/png": "[encoded data removed]",
      "text/plain": [
       "<Figure size 720x504 with 1 Axes>"
      ]
     },
     "metadata": {
      "needs_background": "light"
     },
     "output_type": "display_data"
    }
   ],
   "source": [
    "plt.figure(figsize=(10,7))\n",
    "plt.scatter(dft['Rooms'], dft['Square'])\n",
    "plt.xlabel('Комнат')\n",
    "plt.ylabel('Площадь')\n",
    "plt.draw()"
   ]
  },
  {
   "cell_type": "markdown",
   "metadata": {},
   "source": [
    "19 комнат в квартире площадью 50м2 тоже думаю неправда - даже 10 много попробуем вылечить."
   ]
  },
  {
   "cell_type": "code",
   "execution_count": 69,
   "metadata": {},
   "outputs": [],
   "source": [
    "df.loc[df['Square']/df['Rooms'] < 7, 'Rooms'] = df['Square'] / rooms_ratio\n",
    "dft.loc[dft['Square']/dft['Rooms'] < 7, 'Rooms'] = dft['Square'] / rooms_ratio_t"
   ]
  },
  {
   "cell_type": "code",
   "execution_count": 70,
   "metadata": {},
   "outputs": [
    {
     "data": {
      "image/png": "[encoded data removed]",
      "text/plain": [
       "<Figure size 720x504 with 1 Axes>"
      ]
     },
     "metadata": {
      "needs_background": "light"
     },
     "output_type": "display_data"
    }
   ],
   "source": [
    "plt.figure(figsize=(10,7))\n",
    "plt.scatter(df['Rooms'], df['Square'])\n",
    "plt.xlabel('Комнат')\n",
    "plt.ylabel('Площадь')\n",
    "plt.draw()"
   ]
  },
  {
   "cell_type": "code",
   "execution_count": 71,
   "metadata": {},
   "outputs": [
    {
     "data": {
      "image/png": "[encoded data removed]",
      "text/plain": [
       "<Figure size 720x504 with 1 Axes>"
      ]
     },
     "metadata": {
      "needs_background": "light"
     },
     "output_type": "display_data"
    }
   ],
   "source": [
    "plt.figure(figsize=(10,7))\n",
    "plt.scatter(dft['Rooms'], dft['Square'])\n",
    "plt.xlabel('Комнат')\n",
    "plt.ylabel('Площадь')\n",
    "plt.draw()"
   ]
  },
  {
   "cell_type": "markdown",
   "metadata": {},
   "source": [
    "С этажами и этажностью тоже много путаницы. Этаж тоже немного влияет на цены вроде как.."
   ]
  },
  {
   "cell_type": "code",
   "execution_count": 72,
   "metadata": {},
   "outputs": [
    {
     "name": "stdout",
     "output_type": "stream",
     "text": [
      "(1818, 20)\n",
      "13.0\n",
      "12.615138165798959\n"
     ]
    }
   ],
   "source": [
    "print(df.loc[df['Floor'] > df['HouseFloor']].shape)\n",
    "print(df['HouseFloor'].median())\n",
    "print(df['HouseFloor'].mean())"
   ]
  },
  {
   "cell_type": "code",
   "execution_count": 73,
   "metadata": {},
   "outputs": [
    {
     "name": "stdout",
     "output_type": "stream",
     "text": [
      "(884, 19)\n",
      "12.0\n",
      "12.601\n"
     ]
    }
   ],
   "source": [
    "print(dft.loc[dft['Floor'] > dft['HouseFloor']].shape)\n",
    "print(dft['HouseFloor'].median())\n",
    "print(dft['HouseFloor'].mean())"
   ]
  },
  {
   "cell_type": "markdown",
   "metadata": {},
   "source": [
    "Средние по этажности домов выглядят довольно консистентно - немного со смещением mean в сторону 0. Трудно предположить зависимость этажности дома от чего-то остального, имеющегося в нашем распоряжении - поэтому видимо нулевые выставляем в медианное значение.\n"
   ]
  },
  {
   "cell_type": "code",
   "execution_count": 74,
   "metadata": {},
   "outputs": [],
   "source": [
    "df.loc[df['HouseFloor'] == 0, 'HouseFloor'] = df['HouseFloor'].median()\n",
    "dft.loc[dft['HouseFloor'] == 0, 'HouseFloor'] = dft['HouseFloor'].median()"
   ]
  },
  {
   "cell_type": "markdown",
   "metadata": {},
   "source": [
    "Теперь с этажом квартиры. Впринципе (насколько я знаю) - на цену влияют сильнее всего первый и последний этажи. Попробуем хотя-бя проследить нечто подобное. Как мы видим из describe нулевых этажей нет (это кстати наводит на мысли о том, что данные в этом признаке аккуратны - им как-то больше доверия сразу."
   ]
  },
  {
   "cell_type": "code",
   "execution_count": 75,
   "metadata": {},
   "outputs": [],
   "source": [
    "middle_floor_df = df.loc[(df['Floor'] != df['HouseFloor'])  & (df['Floor'] != 1)]\n",
    "margin_floor_df = df.loc[(df['Floor'] == df['HouseFloor']) | (df['Floor'] == 1)]\n",
    "\n",
    "middle_floor_dft = dft.loc[(dft['Floor'] != dft['HouseFloor'])  & (dft['Floor'] != 1)]\n",
    "margin_floor_dft = dft.loc[(dft['Floor'] == dft['HouseFloor']) | (dft['Floor'] == 1)]"
   ]
  },
  {
   "cell_type": "code",
   "execution_count": 76,
   "metadata": {},
   "outputs": [
    {
     "data": {
      "image/png": "[encoded data removed]",
      "text/plain": [
       "<Figure size 576x360 with 1 Axes>"
      ]
     },
     "metadata": {
      "needs_background": "light"
     },
     "output_type": "display_data"
    }
   ],
   "source": [
    "plt.figure(figsize=(8,5))\n",
    "plt.scatter(middle_floor_df['Floor'], middle_floor_df['Price'], color='blue', alpha=0.5, label='Этаж в середине')\n",
    "plt.scatter(margin_floor_df['Floor'], margin_floor_df['Price'], color='red', alpha=0.5, label='Первый/последний')\n",
    "plt.xlabel('Этаж квартиры')\n",
    "plt.ylabel('Цена')\n",
    "plt.legend(loc='upper right')\n",
    "plt.draw()"
   ]
  },
  {
   "cell_type": "markdown",
   "metadata": {},
   "source": [
    "Ну - может быть мне кажется - но ощущение, что цена у первых и последних этажей в целом ниже... Соответственно - есть смысл наверное побороться за чистоту этого признака. Проблема в том, что общая этажность дома имеет неточности о чем свидетельствовали нули в этом признаке и значения этажа квартиры выше дома.."
   ]
  },
  {
   "cell_type": "code",
   "execution_count": 77,
   "metadata": {},
   "outputs": [
    {
     "name": "stdout",
     "output_type": "stream",
     "text": [
      "(1604, 20)\n",
      "(792, 19)\n"
     ]
    }
   ],
   "source": [
    "print(df.loc[df['Floor'] > df['HouseFloor']].shape)\n",
    "print(dft.loc[dft['Floor'] > dft['HouseFloor']].shape)"
   ]
  },
  {
   "cell_type": "markdown",
   "metadata": {},
   "source": [
    "Соотношение квартир на первых-последних этажах ко всем остальным (включая конечно же и ошибочные)"
   ]
  },
  {
   "cell_type": "code",
   "execution_count": 78,
   "metadata": {},
   "outputs": [
    {
     "name": "stdout",
     "output_type": "stream",
     "text": [
      "7.792253521126761\n",
      "7.156606851549755\n"
     ]
    }
   ],
   "source": [
    "print(len(middle_floor_df)/len(margin_floor_df))\n",
    "print(len(middle_floor_dft)/len(margin_floor_dft))"
   ]
  },
  {
   "cell_type": "markdown",
   "metadata": {},
   "source": [
    "Вот наверное согласно этому соотношению попробуем заполнить ошибочные этажности. Для начала сделаем новый бинарный признак (\"средний этаж\" - 1, \"первый/последний - 0\")"
   ]
  },
  {
   "cell_type": "code",
   "execution_count": 79,
   "metadata": {},
   "outputs": [],
   "source": [
    "df['middleFloor'] = np.where((df['Floor'] == 1) | (df['Floor'] == df['HouseFloor']), 0, 1)\n",
    "dft['middleFloor'] = np.where((dft['Floor'] == 1) | (dft['Floor'] == dft['HouseFloor']), 0, 1)"
   ]
  },
  {
   "cell_type": "markdown",
   "metadata": {},
   "source": [
    "И пометим все записи с явно ошибочной этажностью nan-ами в этом признаке"
   ]
  },
  {
   "cell_type": "code",
   "execution_count": 80,
   "metadata": {},
   "outputs": [],
   "source": [
    "df.loc[df['Floor'] > df['HouseFloor'], 'middleFloor'] = np.nan\n",
    "dft.loc[dft['Floor'] > dft['HouseFloor'], 'middleFloor'] = np.nan"
   ]
  },
  {
   "cell_type": "markdown",
   "metadata": {},
   "source": [
    "Теперь посмотрим соотношение \"средних\" к \"краевым\""
   ]
  },
  {
   "cell_type": "code",
   "execution_count": 81,
   "metadata": {},
   "outputs": [
    {
     "name": "stdout",
     "output_type": "stream",
     "text": [
      "1.0    7248\n",
      "0.0    1136\n",
      "Name: middleFloor, dtype: int64\n",
      "1.0    3595\n",
      "0.0     613\n",
      "Name: middleFloor, dtype: int64\n"
     ]
    }
   ],
   "source": [
    "print(df.middleFloor.value_counts())\n",
    "print(dft.middleFloor.value_counts())"
   ]
  },
  {
   "cell_type": "code",
   "execution_count": 82,
   "metadata": {},
   "outputs": [
    {
     "name": "stdout",
     "output_type": "stream",
     "text": [
      "1.0    0.864504\n",
      "0.0    0.135496\n",
      "Name: middleFloor, dtype: float64\n",
      "1.0    0.854325\n",
      "0.0    0.145675\n",
      "Name: middleFloor, dtype: float64\n"
     ]
    }
   ],
   "source": [
    "floorRatio = df.middleFloor.value_counts(normalize=True)\n",
    "print(floorRatio)\n",
    "floorRatio_t = dft.middleFloor.value_counts(normalize=True)\n",
    "print(floorRatio_t)"
   ]
  },
  {
   "cell_type": "markdown",
   "metadata": {},
   "source": [
    "Кстати, как сейчас выглядит распределение этаж/этажность дома"
   ]
  },
  {
   "cell_type": "code",
   "execution_count": 83,
   "metadata": {},
   "outputs": [
    {
     "data": {
      "image/png": "[encoded data removed]",
      "text/plain": [
       "<Figure size 1296x504 with 1 Axes>"
      ]
     },
     "metadata": {
      "needs_background": "light"
     },
     "output_type": "display_data"
    }
   ],
   "source": [
    "plt.figure(figsize=(18,7))\n",
    "plt.scatter(df['HouseFloor'], df['Floor'])\n",
    "plt.ylabel('Этаж')\n",
    "plt.xlabel('Этажность дома')\n",
    "plt.draw()"
   ]
  },
  {
   "cell_type": "code",
   "execution_count": 84,
   "metadata": {},
   "outputs": [
    {
     "data": {
      "image/png": "[encoded data removed]",
      "text/plain": [
       "<Figure size 1296x504 with 1 Axes>"
      ]
     },
     "metadata": {
      "needs_background": "light"
     },
     "output_type": "display_data"
    }
   ],
   "source": [
    "plt.figure(figsize=(18,7))\n",
    "plt.scatter(dft['HouseFloor'], dft['Floor'])\n",
    "plt.ylabel('Этаж')\n",
    "plt.xlabel('Этажность дома')\n",
    "plt.draw()"
   ]
  },
  {
   "cell_type": "markdown",
   "metadata": {},
   "source": [
    "Вот всё, что \"торчит\" слева над четким треугольником - и есть ошибки\n",
    "\n",
    "Попробуем лечить статистическим распределением (все ошибочные распределим в соотношении 0.864504 - средние этажи (выставим значение этажности куда-то выше этажа квартиры, скажем этажа на 3) к 0.135496 - крайние этажи - здесь значение этажности дома будем делать равным этажу квартиры. Сначала исправим бинарный признак"
   ]
  },
  {
   "cell_type": "code",
   "execution_count": 85,
   "metadata": {},
   "outputs": [],
   "source": [
    "wrong = df['middleFloor'].isnull()\n",
    "df.loc[wrong, 'middleFloor'] = np.random.choice(floorRatio.index, size=len(df[wrong]), p=floorRatio.values)\n",
    "\n",
    "wrong_t = dft['middleFloor'].isnull()\n",
    "dft.loc[wrong_t, 'middleFloor'] = np.random.choice(floorRatio_t.index, size=len(dft[wrong_t]), p=floorRatio_t.values)"
   ]
  },
  {
   "cell_type": "code",
   "execution_count": 86,
   "metadata": {},
   "outputs": [
    {
     "name": "stdout",
     "output_type": "stream",
     "text": [
      "<class 'pandas.core.frame.DataFrame'>\n",
      "Int64Index: 9988 entries, 0 to 9999\n",
      "Data columns (total 21 columns):\n",
      "Id               9988 non-null int64\n",
      "DistrictId       9988 non-null int64\n",
      "Rooms            9988 non-null float64\n",
      "Square           9988 non-null float64\n",
      "LifeSquare       9988 non-null float64\n",
      "KitchenSquare    9988 non-null float64\n",
      "Floor            9988 non-null int64\n",
      "HouseFloor       9988 non-null float64\n",
      "HouseYear        9988 non-null int64\n",
      "Ecology_1        9988 non-null float64\n",
      "Ecology_2        9988 non-null object\n",
      "Ecology_3        9988 non-null object\n",
      "Social_1         9988 non-null int64\n",
      "Social_2         9988 non-null int64\n",
      "Social_3         9988 non-null int64\n",
      "Healthcare_1     9988 non-null float64\n",
      "Helthcare_2      9988 non-null int64\n",
      "Shops_1          9988 non-null int64\n",
      "Shops_2          9988 non-null object\n",
      "Price            9988 non-null float64\n",
      "middleFloor      9988 non-null float64\n",
      "dtypes: float64(9), int64(9), object(3)\n",
      "memory usage: 2.0+ MB\n"
     ]
    }
   ],
   "source": [
    "df.info()"
   ]
  },
  {
   "cell_type": "markdown",
   "metadata": {},
   "source": [
    "middleFloor заполнился. Теперь по нему \"вылечим\" этажность дома там где она неверна."
   ]
  },
  {
   "cell_type": "code",
   "execution_count": 87,
   "metadata": {},
   "outputs": [],
   "source": [
    "df.loc[(df['HouseFloor'] < df['Floor']) & (df['middleFloor'] == 1), 'HouseFloor'] = df['Floor'] + 3\n",
    "df.loc[(df['HouseFloor'] < df['Floor']) & (df['middleFloor'] == 0), 'HouseFloor'] = df['Floor']\n",
    "\n",
    "dft.loc[(dft['HouseFloor'] < dft['Floor']) & (dft['middleFloor'] == 1), 'HouseFloor'] = dft['Floor'] + 3\n",
    "dft.loc[(dft['HouseFloor'] < dft['Floor']) & (dft['middleFloor'] == 0), 'HouseFloor'] = dft['Floor']"
   ]
  },
  {
   "cell_type": "code",
   "execution_count": 88,
   "metadata": {},
   "outputs": [
    {
     "data": {
      "image/png": "[encoded data removed]",
      "text/plain": [
       "<Figure size 1296x504 with 1 Axes>"
      ]
     },
     "metadata": {
      "needs_background": "light"
     },
     "output_type": "display_data"
    }
   ],
   "source": [
    "plt.figure(figsize=(18,7))\n",
    "plt.scatter(df['HouseFloor'], df['Floor'])\n",
    "plt.ylabel('Этаж')\n",
    "plt.xlabel('Этажность дома')\n",
    "plt.draw()"
   ]
  },
  {
   "cell_type": "code",
   "execution_count": 89,
   "metadata": {},
   "outputs": [
    {
     "data": {
      "image/png": "[encoded data removed]",
      "text/plain": [
       "<Figure size 1296x504 with 1 Axes>"
      ]
     },
     "metadata": {
      "needs_background": "light"
     },
     "output_type": "display_data"
    }
   ],
   "source": [
    "plt.figure(figsize=(18,7))\n",
    "plt.scatter(dft['HouseFloor'], dft['Floor'])\n",
    "plt.ylabel('Этаж')\n",
    "plt.xlabel('Этажность дома')\n",
    "plt.draw()"
   ]
  },
  {
   "cell_type": "markdown",
   "metadata": {},
   "source": [
    "Теперь красиво. Надеюсь что это еще и будет полезно )). Бинарный признак думаю тоже оставим."
   ]
  },
  {
   "cell_type": "markdown",
   "metadata": {},
   "source": [
    "Займемся годом постройки.."
   ]
  },
  {
   "cell_type": "code",
   "execution_count": 90,
   "metadata": {},
   "outputs": [
    {
     "data": {
      "text/plain": [
       "1977.0"
      ]
     },
     "execution_count": 90,
     "metadata": {},
     "output_type": "execute_result"
    }
   ],
   "source": [
    "df['HouseYear'].median()"
   ]
  },
  {
   "cell_type": "code",
   "execution_count": 91,
   "metadata": {},
   "outputs": [
    {
     "data": {
      "text/plain": [
       "1977.0"
      ]
     },
     "execution_count": 91,
     "metadata": {},
     "output_type": "execute_result"
    }
   ],
   "source": [
    "dft['HouseYear'].median()"
   ]
  },
  {
   "cell_type": "code",
   "execution_count": 92,
   "metadata": {},
   "outputs": [
    {
     "data": {
      "text/html": [
       "<div>\n",
       "<style scoped>\n",
       "    .dataframe tbody tr th:only-of-type {\n",
       "        vertical-align: middle;\n",
       "    }\n",
       "\n",
       "    .dataframe tbody tr th {\n",
       "        vertical-align: top;\n",
       "    }\n",
       "\n",
       "    .dataframe thead th {\n",
       "        text-align: right;\n",
       "    }\n",
       "</style>\n",
       "<table border=\"1\" class=\"dataframe\">\n",
       "  <thead>\n",
       "    <tr style=\"text-align: right;\">\n",
       "      <th></th>\n",
       "      <th>Id</th>\n",
       "      <th>DistrictId</th>\n",
       "      <th>Rooms</th>\n",
       "      <th>Square</th>\n",
       "      <th>LifeSquare</th>\n",
       "      <th>KitchenSquare</th>\n",
       "      <th>Floor</th>\n",
       "      <th>HouseFloor</th>\n",
       "      <th>HouseYear</th>\n",
       "      <th>Ecology_1</th>\n",
       "      <th>...</th>\n",
       "      <th>Ecology_3</th>\n",
       "      <th>Social_1</th>\n",
       "      <th>Social_2</th>\n",
       "      <th>Social_3</th>\n",
       "      <th>Healthcare_1</th>\n",
       "      <th>Helthcare_2</th>\n",
       "      <th>Shops_1</th>\n",
       "      <th>Shops_2</th>\n",
       "      <th>Price</th>\n",
       "      <th>middleFloor</th>\n",
       "    </tr>\n",
       "  </thead>\n",
       "  <tbody>\n",
       "    <tr>\n",
       "      <th>1497</th>\n",
       "      <td>10814</td>\n",
       "      <td>109</td>\n",
       "      <td>1.0</td>\n",
       "      <td>37.265070</td>\n",
       "      <td>20.239714</td>\n",
       "      <td>9.0</td>\n",
       "      <td>9</td>\n",
       "      <td>12.0</td>\n",
       "      <td>20052011</td>\n",
       "      <td>0.136330</td>\n",
       "      <td>...</td>\n",
       "      <td>B</td>\n",
       "      <td>30</td>\n",
       "      <td>6141</td>\n",
       "      <td>10</td>\n",
       "      <td>262.0</td>\n",
       "      <td>3</td>\n",
       "      <td>6</td>\n",
       "      <td>B</td>\n",
       "      <td>254084.534396</td>\n",
       "      <td>1.0</td>\n",
       "    </tr>\n",
       "    <tr>\n",
       "      <th>4189</th>\n",
       "      <td>11607</td>\n",
       "      <td>147</td>\n",
       "      <td>2.0</td>\n",
       "      <td>44.791836</td>\n",
       "      <td>28.360393</td>\n",
       "      <td>5.0</td>\n",
       "      <td>4</td>\n",
       "      <td>9.0</td>\n",
       "      <td>4968</td>\n",
       "      <td>0.319809</td>\n",
       "      <td>...</td>\n",
       "      <td>B</td>\n",
       "      <td>25</td>\n",
       "      <td>4756</td>\n",
       "      <td>16</td>\n",
       "      <td>2857.0</td>\n",
       "      <td>5</td>\n",
       "      <td>8</td>\n",
       "      <td>B</td>\n",
       "      <td>243028.603096</td>\n",
       "      <td>1.0</td>\n",
       "    </tr>\n",
       "  </tbody>\n",
       "</table>\n",
       "<p>2 rows × 21 columns</p>\n",
       "</div>"
      ],
      "text/plain": [
       "         Id  DistrictId  Rooms     Square  LifeSquare  KitchenSquare  Floor  \\\n",
       "1497  10814         109    1.0  37.265070   20.239714            9.0      9   \n",
       "4189  11607         147    2.0  44.791836   28.360393            5.0      4   \n",
       "\n",
       "      HouseFloor  HouseYear  Ecology_1  ... Ecology_3 Social_1  Social_2  \\\n",
       "1497        12.0   20052011   0.136330  ...         B       30      6141   \n",
       "4189         9.0       4968   0.319809  ...         B       25      4756   \n",
       "\n",
       "      Social_3  Healthcare_1  Helthcare_2  Shops_1  Shops_2          Price  \\\n",
       "1497        10         262.0            3        6        B  254084.534396   \n",
       "4189        16        2857.0            5        8        B  243028.603096   \n",
       "\n",
       "      middleFloor  \n",
       "1497          1.0  \n",
       "4189          1.0  \n",
       "\n",
       "[2 rows x 21 columns]"
      ]
     },
     "execution_count": 92,
     "metadata": {},
     "output_type": "execute_result"
    }
   ],
   "source": [
    "df.loc[df['HouseYear'] > 2020]"
   ]
  },
  {
   "cell_type": "code",
   "execution_count": 93,
   "metadata": {},
   "outputs": [
    {
     "data": {
      "text/html": [
       "<div>\n",
       "<style scoped>\n",
       "    .dataframe tbody tr th:only-of-type {\n",
       "        vertical-align: middle;\n",
       "    }\n",
       "\n",
       "    .dataframe tbody tr th {\n",
       "        vertical-align: top;\n",
       "    }\n",
       "\n",
       "    .dataframe thead th {\n",
       "        text-align: right;\n",
       "    }\n",
       "</style>\n",
       "<table border=\"1\" class=\"dataframe\">\n",
       "  <thead>\n",
       "    <tr style=\"text-align: right;\">\n",
       "      <th></th>\n",
       "      <th>Id</th>\n",
       "      <th>DistrictId</th>\n",
       "      <th>Rooms</th>\n",
       "      <th>Square</th>\n",
       "      <th>LifeSquare</th>\n",
       "      <th>KitchenSquare</th>\n",
       "      <th>Floor</th>\n",
       "      <th>HouseFloor</th>\n",
       "      <th>HouseYear</th>\n",
       "      <th>Ecology_1</th>\n",
       "      <th>Ecology_2</th>\n",
       "      <th>Ecology_3</th>\n",
       "      <th>Social_1</th>\n",
       "      <th>Social_2</th>\n",
       "      <th>Social_3</th>\n",
       "      <th>Healthcare_1</th>\n",
       "      <th>Helthcare_2</th>\n",
       "      <th>Shops_1</th>\n",
       "      <th>Shops_2</th>\n",
       "      <th>middleFloor</th>\n",
       "    </tr>\n",
       "  </thead>\n",
       "  <tbody>\n",
       "  </tbody>\n",
       "</table>\n",
       "</div>"
      ],
      "text/plain": [
       "Empty DataFrame\n",
       "Columns: [Id, DistrictId, Rooms, Square, LifeSquare, KitchenSquare, Floor, HouseFloor, HouseYear, Ecology_1, Ecology_2, Ecology_3, Social_1, Social_2, Social_3, Healthcare_1, Helthcare_2, Shops_1, Shops_2, middleFloor]\n",
       "Index: []"
      ]
     },
     "execution_count": 93,
     "metadata": {},
     "output_type": "execute_result"
    }
   ],
   "source": [
    "dft.loc[dft['HouseYear'] > 2020]"
   ]
  },
  {
   "cell_type": "markdown",
   "metadata": {},
   "source": [
    "Ну понятно - в трейновом наборе надо руками надо править."
   ]
  },
  {
   "cell_type": "code",
   "execution_count": 94,
   "metadata": {},
   "outputs": [],
   "source": [
    "df.loc[df['HouseYear'] > 5000, 'HouseYear'] = 2008\n",
    "df.loc[df['HouseYear'] > 4000, 'HouseYear'] = 1968"
   ]
  },
  {
   "cell_type": "code",
   "execution_count": 95,
   "metadata": {},
   "outputs": [
    {
     "data": {
      "image/png": "[encoded data removed]",
      "text/plain": [
       "<Figure size 1296x504 with 1 Axes>"
      ]
     },
     "metadata": {
      "needs_background": "light"
     },
     "output_type": "display_data"
    }
   ],
   "source": [
    "plt.figure(figsize=(18,7))\n",
    "plt.plot(df['HouseYear'])\n",
    "plt.draw()"
   ]
  },
  {
   "cell_type": "code",
   "execution_count": 96,
   "metadata": {},
   "outputs": [
    {
     "data": {
      "text/plain": [
       "count    9988.000000\n",
       "mean     1984.859732\n",
       "std        18.410836\n",
       "min      1910.000000\n",
       "25%      1974.000000\n",
       "50%      1977.000000\n",
       "75%      2001.000000\n",
       "max      2020.000000\n",
       "Name: HouseYear, dtype: float64"
      ]
     },
     "execution_count": 96,
     "metadata": {},
     "output_type": "execute_result"
    }
   ],
   "source": [
    "df['HouseYear'].describe()"
   ]
  },
  {
   "cell_type": "code",
   "execution_count": 97,
   "metadata": {},
   "outputs": [
    {
     "data": {
      "text/plain": [
       "count    5000.000000\n",
       "mean     1984.392600\n",
       "std        18.573149\n",
       "min      1908.000000\n",
       "25%      1973.000000\n",
       "50%      1977.000000\n",
       "75%      2000.000000\n",
       "max      2020.000000\n",
       "Name: HouseYear, dtype: float64"
      ]
     },
     "execution_count": 97,
     "metadata": {},
     "output_type": "execute_result"
    }
   ],
   "source": [
    "dft['HouseYear'].describe()"
   ]
  },
  {
   "cell_type": "markdown",
   "metadata": {},
   "source": [
    "Это выглядит приемлемым"
   ]
  },
  {
   "cell_type": "markdown",
   "metadata": {},
   "source": [
    "Теперь с категориальными признаками - все они по-сути бинарны (A/B)"
   ]
  },
  {
   "cell_type": "code",
   "execution_count": 98,
   "metadata": {},
   "outputs": [],
   "source": [
    "df.loc[df['Shops_2'] == 'A', 'Shops_2'] = 0\n",
    "df.loc[df['Shops_2'] == 'B', 'Shops_2'] = 1\n",
    "df.loc[df['Ecology_2'] == 'B', 'Ecology_2'] = 1\n",
    "df.loc[df['Ecology_2'] == 'A', 'Ecology_2'] = 0\n",
    "df.loc[df['Ecology_3'] == 'B', 'Ecology_3'] = 1\n",
    "df.loc[df['Ecology_3'] == 'A', 'Ecology_3'] = 0\n",
    "\n",
    "dft.loc[dft['Shops_2'] == 'A', 'Shops_2'] = 0\n",
    "dft.loc[dft['Shops_2'] == 'B', 'Shops_2'] = 1\n",
    "dft.loc[dft['Ecology_2'] == 'B', 'Ecology_2'] = 1\n",
    "dft.loc[dft['Ecology_2'] == 'A', 'Ecology_2'] = 0\n",
    "dft.loc[dft['Ecology_3'] == 'B', 'Ecology_3'] = 1\n",
    "dft.loc[dft['Ecology_3'] == 'A', 'Ecology_3'] = 0"
   ]
  },
  {
   "cell_type": "markdown",
   "metadata": {},
   "source": [
    "Заменим districtid строкой"
   ]
  },
  {
   "cell_type": "code",
   "execution_count": 99,
   "metadata": {},
   "outputs": [],
   "source": [
    "df.DistrictId = df.DistrictId.astype(str)\n",
    "dft.DistrictId = dft.DistrictId.astype(str)"
   ]
  },
  {
   "cell_type": "markdown",
   "metadata": {},
   "source": [
    "Теперь попробуем получить рассмотренный на вебинаре синтетический параметр средней цены в зависимости от района и количества комнат"
   ]
  },
  {
   "cell_type": "code",
   "execution_count": 100,
   "metadata": {},
   "outputs": [
    {
     "data": {
      "text/html": [
       "<div>\n",
       "<style scoped>\n",
       "    .dataframe tbody tr th:only-of-type {\n",
       "        vertical-align: middle;\n",
       "    }\n",
       "\n",
       "    .dataframe tbody tr th {\n",
       "        vertical-align: top;\n",
       "    }\n",
       "\n",
       "    .dataframe thead th {\n",
       "        text-align: right;\n",
       "    }\n",
       "</style>\n",
       "<table border=\"1\" class=\"dataframe\">\n",
       "  <thead>\n",
       "    <tr style=\"text-align: right;\">\n",
       "      <th></th>\n",
       "      <th></th>\n",
       "      <th>median</th>\n",
       "    </tr>\n",
       "    <tr>\n",
       "      <th>DistrictId</th>\n",
       "      <th>Rooms</th>\n",
       "      <th></th>\n",
       "    </tr>\n",
       "  </thead>\n",
       "  <tbody>\n",
       "    <tr>\n",
       "      <th rowspan=\"3\" valign=\"top\">0</th>\n",
       "      <th>1.000000</th>\n",
       "      <td>142799.434052</td>\n",
       "    </tr>\n",
       "    <tr>\n",
       "      <th>2.000000</th>\n",
       "      <td>176210.812334</td>\n",
       "    </tr>\n",
       "    <tr>\n",
       "      <th>3.000000</th>\n",
       "      <td>300610.359425</td>\n",
       "    </tr>\n",
       "    <tr>\n",
       "      <th rowspan=\"2\" valign=\"top\">1</th>\n",
       "      <th>1.000000</th>\n",
       "      <td>146574.015522</td>\n",
       "    </tr>\n",
       "    <tr>\n",
       "      <th>1.599015</th>\n",
       "      <td>78364.616704</td>\n",
       "    </tr>\n",
       "  </tbody>\n",
       "</table>\n",
       "</div>"
      ],
      "text/plain": [
       "                            median\n",
       "DistrictId Rooms                  \n",
       "0          1.000000  142799.434052\n",
       "           2.000000  176210.812334\n",
       "           3.000000  300610.359425\n",
       "1          1.000000  146574.015522\n",
       "           1.599015   78364.616704"
      ]
     },
     "execution_count": 100,
     "metadata": {},
     "output_type": "execute_result"
    }
   ],
   "source": [
    "df.groupby(['DistrictId', 'Rooms']).Price.agg(['median']).head()"
   ]
  },
  {
   "cell_type": "markdown",
   "metadata": {},
   "source": [
    "Что еще за 1.599 комнат.."
   ]
  },
  {
   "cell_type": "code",
   "execution_count": 101,
   "metadata": {},
   "outputs": [
    {
     "data": {
      "text/html": [
       "<div>\n",
       "<style scoped>\n",
       "    .dataframe tbody tr th:only-of-type {\n",
       "        vertical-align: middle;\n",
       "    }\n",
       "\n",
       "    .dataframe tbody tr th {\n",
       "        vertical-align: top;\n",
       "    }\n",
       "\n",
       "    .dataframe thead th {\n",
       "        text-align: right;\n",
       "    }\n",
       "</style>\n",
       "<table border=\"1\" class=\"dataframe\">\n",
       "  <thead>\n",
       "    <tr style=\"text-align: right;\">\n",
       "      <th></th>\n",
       "      <th>Id</th>\n",
       "      <th>DistrictId</th>\n",
       "      <th>Rooms</th>\n",
       "      <th>Square</th>\n",
       "      <th>LifeSquare</th>\n",
       "      <th>KitchenSquare</th>\n",
       "      <th>Floor</th>\n",
       "      <th>HouseFloor</th>\n",
       "      <th>HouseYear</th>\n",
       "      <th>Ecology_1</th>\n",
       "      <th>...</th>\n",
       "      <th>Ecology_3</th>\n",
       "      <th>Social_1</th>\n",
       "      <th>Social_2</th>\n",
       "      <th>Social_3</th>\n",
       "      <th>Healthcare_1</th>\n",
       "      <th>Helthcare_2</th>\n",
       "      <th>Shops_1</th>\n",
       "      <th>Shops_2</th>\n",
       "      <th>Price</th>\n",
       "      <th>middleFloor</th>\n",
       "    </tr>\n",
       "  </thead>\n",
       "  <tbody>\n",
       "    <tr>\n",
       "      <th>377</th>\n",
       "      <td>5927</td>\n",
       "      <td>57</td>\n",
       "      <td>2.248081</td>\n",
       "      <td>59.056975</td>\n",
       "      <td>36.223072</td>\n",
       "      <td>10.0</td>\n",
       "      <td>22</td>\n",
       "      <td>22.0</td>\n",
       "      <td>2002</td>\n",
       "      <td>0.090799</td>\n",
       "      <td>...</td>\n",
       "      <td>1</td>\n",
       "      <td>74</td>\n",
       "      <td>19083</td>\n",
       "      <td>2</td>\n",
       "      <td>1406.0</td>\n",
       "      <td>5</td>\n",
       "      <td>15</td>\n",
       "      <td>1</td>\n",
       "      <td>317265.323792</td>\n",
       "      <td>0.0</td>\n",
       "    </tr>\n",
       "    <tr>\n",
       "      <th>1397</th>\n",
       "      <td>12638</td>\n",
       "      <td>27</td>\n",
       "      <td>5.269430</td>\n",
       "      <td>138.427694</td>\n",
       "      <td>136.215499</td>\n",
       "      <td>16.0</td>\n",
       "      <td>4</td>\n",
       "      <td>7.0</td>\n",
       "      <td>2016</td>\n",
       "      <td>0.075424</td>\n",
       "      <td>...</td>\n",
       "      <td>1</td>\n",
       "      <td>11</td>\n",
       "      <td>3097</td>\n",
       "      <td>0</td>\n",
       "      <td>750.0</td>\n",
       "      <td>0</td>\n",
       "      <td>0</td>\n",
       "      <td>1</td>\n",
       "      <td>268394.744389</td>\n",
       "      <td>1.0</td>\n",
       "    </tr>\n",
       "    <tr>\n",
       "      <th>1454</th>\n",
       "      <td>8491</td>\n",
       "      <td>1</td>\n",
       "      <td>1.599015</td>\n",
       "      <td>42.006046</td>\n",
       "      <td>21.779288</td>\n",
       "      <td>7.0</td>\n",
       "      <td>17</td>\n",
       "      <td>17.0</td>\n",
       "      <td>2014</td>\n",
       "      <td>0.007122</td>\n",
       "      <td>...</td>\n",
       "      <td>1</td>\n",
       "      <td>1</td>\n",
       "      <td>264</td>\n",
       "      <td>0</td>\n",
       "      <td>240.0</td>\n",
       "      <td>0</td>\n",
       "      <td>1</td>\n",
       "      <td>1</td>\n",
       "      <td>78364.616704</td>\n",
       "      <td>0.0</td>\n",
       "    </tr>\n",
       "    <tr>\n",
       "      <th>1981</th>\n",
       "      <td>7917</td>\n",
       "      <td>27</td>\n",
       "      <td>8.105547</td>\n",
       "      <td>212.932361</td>\n",
       "      <td>211.231125</td>\n",
       "      <td>24.0</td>\n",
       "      <td>2</td>\n",
       "      <td>3.0</td>\n",
       "      <td>2008</td>\n",
       "      <td>0.211401</td>\n",
       "      <td>...</td>\n",
       "      <td>1</td>\n",
       "      <td>9</td>\n",
       "      <td>1892</td>\n",
       "      <td>0</td>\n",
       "      <td>750.0</td>\n",
       "      <td>0</td>\n",
       "      <td>1</td>\n",
       "      <td>1</td>\n",
       "      <td>302211.260887</td>\n",
       "      <td>1.0</td>\n",
       "    </tr>\n",
       "    <tr>\n",
       "      <th>2269</th>\n",
       "      <td>7317</td>\n",
       "      <td>27</td>\n",
       "      <td>1.590824</td>\n",
       "      <td>41.790881</td>\n",
       "      <td>26.084533</td>\n",
       "      <td>5.0</td>\n",
       "      <td>13</td>\n",
       "      <td>13.0</td>\n",
       "      <td>1977</td>\n",
       "      <td>0.211401</td>\n",
       "      <td>...</td>\n",
       "      <td>1</td>\n",
       "      <td>9</td>\n",
       "      <td>1892</td>\n",
       "      <td>0</td>\n",
       "      <td>750.0</td>\n",
       "      <td>0</td>\n",
       "      <td>1</td>\n",
       "      <td>1</td>\n",
       "      <td>98129.976788</td>\n",
       "      <td>0.0</td>\n",
       "    </tr>\n",
       "    <tr>\n",
       "      <th>3911</th>\n",
       "      <td>770</td>\n",
       "      <td>28</td>\n",
       "      <td>1.883654</td>\n",
       "      <td>49.483501</td>\n",
       "      <td>30.886021</td>\n",
       "      <td>6.0</td>\n",
       "      <td>16</td>\n",
       "      <td>19.0</td>\n",
       "      <td>2015</td>\n",
       "      <td>0.118537</td>\n",
       "      <td>...</td>\n",
       "      <td>1</td>\n",
       "      <td>30</td>\n",
       "      <td>6207</td>\n",
       "      <td>1</td>\n",
       "      <td>1183.0</td>\n",
       "      <td>1</td>\n",
       "      <td>0</td>\n",
       "      <td>1</td>\n",
       "      <td>217009.338463</td>\n",
       "      <td>1.0</td>\n",
       "    </tr>\n",
       "    <tr>\n",
       "      <th>4366</th>\n",
       "      <td>456</td>\n",
       "      <td>6</td>\n",
       "      <td>3.102078</td>\n",
       "      <td>81.491446</td>\n",
       "      <td>50.864358</td>\n",
       "      <td>9.0</td>\n",
       "      <td>4</td>\n",
       "      <td>13.0</td>\n",
       "      <td>1977</td>\n",
       "      <td>0.243205</td>\n",
       "      <td>...</td>\n",
       "      <td>1</td>\n",
       "      <td>5</td>\n",
       "      <td>1564</td>\n",
       "      <td>0</td>\n",
       "      <td>540.0</td>\n",
       "      <td>0</td>\n",
       "      <td>0</td>\n",
       "      <td>1</td>\n",
       "      <td>212864.799112</td>\n",
       "      <td>1.0</td>\n",
       "    </tr>\n",
       "    <tr>\n",
       "      <th>4739</th>\n",
       "      <td>12676</td>\n",
       "      <td>81</td>\n",
       "      <td>0.524739</td>\n",
       "      <td>13.784865</td>\n",
       "      <td>8.604072</td>\n",
       "      <td>7.0</td>\n",
       "      <td>4</td>\n",
       "      <td>5.0</td>\n",
       "      <td>1960</td>\n",
       "      <td>0.319809</td>\n",
       "      <td>...</td>\n",
       "      <td>1</td>\n",
       "      <td>25</td>\n",
       "      <td>4756</td>\n",
       "      <td>16</td>\n",
       "      <td>2857.0</td>\n",
       "      <td>5</td>\n",
       "      <td>8</td>\n",
       "      <td>1</td>\n",
       "      <td>78388.806186</td>\n",
       "      <td>1.0</td>\n",
       "    </tr>\n",
       "    <tr>\n",
       "      <th>5617</th>\n",
       "      <td>15877</td>\n",
       "      <td>57</td>\n",
       "      <td>0.629892</td>\n",
       "      <td>16.547242</td>\n",
       "      <td>10.328260</td>\n",
       "      <td>8.0</td>\n",
       "      <td>5</td>\n",
       "      <td>5.0</td>\n",
       "      <td>1962</td>\n",
       "      <td>0.133215</td>\n",
       "      <td>...</td>\n",
       "      <td>1</td>\n",
       "      <td>49</td>\n",
       "      <td>11395</td>\n",
       "      <td>3</td>\n",
       "      <td>1406.0</td>\n",
       "      <td>3</td>\n",
       "      <td>4</td>\n",
       "      <td>0</td>\n",
       "      <td>77835.185808</td>\n",
       "      <td>0.0</td>\n",
       "    </tr>\n",
       "    <tr>\n",
       "      <th>6149</th>\n",
       "      <td>3159</td>\n",
       "      <td>88</td>\n",
       "      <td>1.473056</td>\n",
       "      <td>38.697117</td>\n",
       "      <td>19.345131</td>\n",
       "      <td>9.0</td>\n",
       "      <td>9</td>\n",
       "      <td>16.0</td>\n",
       "      <td>1982</td>\n",
       "      <td>0.127376</td>\n",
       "      <td>...</td>\n",
       "      <td>1</td>\n",
       "      <td>43</td>\n",
       "      <td>8429</td>\n",
       "      <td>3</td>\n",
       "      <td>750.0</td>\n",
       "      <td>3</td>\n",
       "      <td>9</td>\n",
       "      <td>1</td>\n",
       "      <td>158998.110646</td>\n",
       "      <td>1.0</td>\n",
       "    </tr>\n",
       "    <tr>\n",
       "      <th>8834</th>\n",
       "      <td>9443</td>\n",
       "      <td>27</td>\n",
       "      <td>3.340798</td>\n",
       "      <td>87.762616</td>\n",
       "      <td>85.125471</td>\n",
       "      <td>10.0</td>\n",
       "      <td>5</td>\n",
       "      <td>15.0</td>\n",
       "      <td>1977</td>\n",
       "      <td>0.211401</td>\n",
       "      <td>...</td>\n",
       "      <td>1</td>\n",
       "      <td>9</td>\n",
       "      <td>1892</td>\n",
       "      <td>0</td>\n",
       "      <td>750.0</td>\n",
       "      <td>0</td>\n",
       "      <td>1</td>\n",
       "      <td>1</td>\n",
       "      <td>219281.918007</td>\n",
       "      <td>1.0</td>\n",
       "    </tr>\n",
       "    <tr>\n",
       "      <th>8849</th>\n",
       "      <td>14865</td>\n",
       "      <td>9</td>\n",
       "      <td>2.317144</td>\n",
       "      <td>60.871266</td>\n",
       "      <td>38.420681</td>\n",
       "      <td>10.0</td>\n",
       "      <td>3</td>\n",
       "      <td>6.0</td>\n",
       "      <td>1994</td>\n",
       "      <td>0.161532</td>\n",
       "      <td>...</td>\n",
       "      <td>1</td>\n",
       "      <td>25</td>\n",
       "      <td>5648</td>\n",
       "      <td>1</td>\n",
       "      <td>30.0</td>\n",
       "      <td>2</td>\n",
       "      <td>4</td>\n",
       "      <td>1</td>\n",
       "      <td>172329.270863</td>\n",
       "      <td>1.0</td>\n",
       "    </tr>\n",
       "  </tbody>\n",
       "</table>\n",
       "<p>12 rows × 21 columns</p>\n",
       "</div>"
      ],
      "text/plain": [
       "         Id DistrictId     Rooms      Square  LifeSquare  KitchenSquare  \\\n",
       "377    5927         57  2.248081   59.056975   36.223072           10.0   \n",
       "1397  12638         27  5.269430  138.427694  136.215499           16.0   \n",
       "1454   8491          1  1.599015   42.006046   21.779288            7.0   \n",
       "1981   7917         27  8.105547  212.932361  211.231125           24.0   \n",
       "2269   7317         27  1.590824   41.790881   26.084533            5.0   \n",
       "3911    770         28  1.883654   49.483501   30.886021            6.0   \n",
       "4366    456          6  3.102078   81.491446   50.864358            9.0   \n",
       "4739  12676         81  0.524739   13.784865    8.604072            7.0   \n",
       "5617  15877         57  0.629892   16.547242   10.328260            8.0   \n",
       "6149   3159         88  1.473056   38.697117   19.345131            9.0   \n",
       "8834   9443         27  3.340798   87.762616   85.125471           10.0   \n",
       "8849  14865          9  2.317144   60.871266   38.420681           10.0   \n",
       "\n",
       "      Floor  HouseFloor  HouseYear  Ecology_1  ...  Ecology_3  Social_1  \\\n",
       "377      22        22.0       2002   0.090799  ...          1        74   \n",
       "1397      4         7.0       2016   0.075424  ...          1        11   \n",
       "1454     17        17.0       2014   0.007122  ...          1         1   \n",
       "1981      2         3.0       2008   0.211401  ...          1         9   \n",
       "2269     13        13.0       1977   0.211401  ...          1         9   \n",
       "3911     16        19.0       2015   0.118537  ...          1        30   \n",
       "4366      4        13.0       1977   0.243205  ...          1         5   \n",
       "4739      4         5.0       1960   0.319809  ...          1        25   \n",
       "5617      5         5.0       1962   0.133215  ...          1        49   \n",
       "6149      9        16.0       1982   0.127376  ...          1        43   \n",
       "8834      5        15.0       1977   0.211401  ...          1         9   \n",
       "8849      3         6.0       1994   0.161532  ...          1        25   \n",
       "\n",
       "      Social_2  Social_3  Healthcare_1  Helthcare_2  Shops_1  Shops_2  \\\n",
       "377      19083         2        1406.0            5       15        1   \n",
       "1397      3097         0         750.0            0        0        1   \n",
       "1454       264         0         240.0            0        1        1   \n",
       "1981      1892         0         750.0            0        1        1   \n",
       "2269      1892         0         750.0            0        1        1   \n",
       "3911      6207         1        1183.0            1        0        1   \n",
       "4366      1564         0         540.0            0        0        1   \n",
       "4739      4756        16        2857.0            5        8        1   \n",
       "5617     11395         3        1406.0            3        4        0   \n",
       "6149      8429         3         750.0            3        9        1   \n",
       "8834      1892         0         750.0            0        1        1   \n",
       "8849      5648         1          30.0            2        4        1   \n",
       "\n",
       "              Price  middleFloor  \n",
       "377   317265.323792          0.0  \n",
       "1397  268394.744389          1.0  \n",
       "1454   78364.616704          0.0  \n",
       "1981  302211.260887          1.0  \n",
       "2269   98129.976788          0.0  \n",
       "3911  217009.338463          1.0  \n",
       "4366  212864.799112          1.0  \n",
       "4739   78388.806186          1.0  \n",
       "5617   77835.185808          0.0  \n",
       "6149  158998.110646          1.0  \n",
       "8834  219281.918007          1.0  \n",
       "8849  172329.270863          1.0  \n",
       "\n",
       "[12 rows x 21 columns]"
      ]
     },
     "execution_count": 101,
     "metadata": {},
     "output_type": "execute_result"
    }
   ],
   "source": [
    "df.loc[df['Rooms']%1 != 0]"
   ]
  },
  {
   "cell_type": "code",
   "execution_count": 102,
   "metadata": {},
   "outputs": [
    {
     "data": {
      "text/html": [
       "<div>\n",
       "<style scoped>\n",
       "    .dataframe tbody tr th:only-of-type {\n",
       "        vertical-align: middle;\n",
       "    }\n",
       "\n",
       "    .dataframe tbody tr th {\n",
       "        vertical-align: top;\n",
       "    }\n",
       "\n",
       "    .dataframe thead th {\n",
       "        text-align: right;\n",
       "    }\n",
       "</style>\n",
       "<table border=\"1\" class=\"dataframe\">\n",
       "  <thead>\n",
       "    <tr style=\"text-align: right;\">\n",
       "      <th></th>\n",
       "      <th>Id</th>\n",
       "      <th>DistrictId</th>\n",
       "      <th>Rooms</th>\n",
       "      <th>Square</th>\n",
       "      <th>LifeSquare</th>\n",
       "      <th>KitchenSquare</th>\n",
       "      <th>Floor</th>\n",
       "      <th>HouseFloor</th>\n",
       "      <th>HouseYear</th>\n",
       "      <th>Ecology_1</th>\n",
       "      <th>Ecology_2</th>\n",
       "      <th>Ecology_3</th>\n",
       "      <th>Social_1</th>\n",
       "      <th>Social_2</th>\n",
       "      <th>Social_3</th>\n",
       "      <th>Healthcare_1</th>\n",
       "      <th>Helthcare_2</th>\n",
       "      <th>Shops_1</th>\n",
       "      <th>Shops_2</th>\n",
       "      <th>middleFloor</th>\n",
       "    </tr>\n",
       "  </thead>\n",
       "  <tbody>\n",
       "    <tr>\n",
       "      <th>2406</th>\n",
       "      <td>3343</td>\n",
       "      <td>58</td>\n",
       "      <td>4.407491</td>\n",
       "      <td>116.824201</td>\n",
       "      <td>113.692424</td>\n",
       "      <td>13.0</td>\n",
       "      <td>3</td>\n",
       "      <td>3.0</td>\n",
       "      <td>1977</td>\n",
       "      <td>0.437885</td>\n",
       "      <td>1</td>\n",
       "      <td>1</td>\n",
       "      <td>23</td>\n",
       "      <td>5735</td>\n",
       "      <td>3</td>\n",
       "      <td>1084.0</td>\n",
       "      <td>0</td>\n",
       "      <td>5</td>\n",
       "      <td>1</td>\n",
       "      <td>0.0</td>\n",
       "    </tr>\n",
       "    <tr>\n",
       "      <th>2524</th>\n",
       "      <td>10729</td>\n",
       "      <td>27</td>\n",
       "      <td>2.880315</td>\n",
       "      <td>76.345154</td>\n",
       "      <td>42.820796</td>\n",
       "      <td>12.0</td>\n",
       "      <td>14</td>\n",
       "      <td>17.0</td>\n",
       "      <td>1977</td>\n",
       "      <td>0.017647</td>\n",
       "      <td>1</td>\n",
       "      <td>1</td>\n",
       "      <td>2</td>\n",
       "      <td>469</td>\n",
       "      <td>0</td>\n",
       "      <td>800.0</td>\n",
       "      <td>0</td>\n",
       "      <td>0</td>\n",
       "      <td>1</td>\n",
       "      <td>1.0</td>\n",
       "    </tr>\n",
       "    <tr>\n",
       "      <th>3398</th>\n",
       "      <td>1435</td>\n",
       "      <td>111</td>\n",
       "      <td>1.994509</td>\n",
       "      <td>52.866107</td>\n",
       "      <td>32.528342</td>\n",
       "      <td>8.0</td>\n",
       "      <td>15</td>\n",
       "      <td>17.0</td>\n",
       "      <td>1987</td>\n",
       "      <td>0.093443</td>\n",
       "      <td>1</td>\n",
       "      <td>1</td>\n",
       "      <td>23</td>\n",
       "      <td>4635</td>\n",
       "      <td>5</td>\n",
       "      <td>3300.0</td>\n",
       "      <td>2</td>\n",
       "      <td>4</td>\n",
       "      <td>1</td>\n",
       "      <td>1.0</td>\n",
       "    </tr>\n",
       "  </tbody>\n",
       "</table>\n",
       "</div>"
      ],
      "text/plain": [
       "         Id DistrictId     Rooms      Square  LifeSquare  KitchenSquare  \\\n",
       "2406   3343         58  4.407491  116.824201  113.692424           13.0   \n",
       "2524  10729         27  2.880315   76.345154   42.820796           12.0   \n",
       "3398   1435        111  1.994509   52.866107   32.528342            8.0   \n",
       "\n",
       "      Floor  HouseFloor  HouseYear  Ecology_1  Ecology_2  Ecology_3  Social_1  \\\n",
       "2406      3         3.0       1977   0.437885          1          1        23   \n",
       "2524     14        17.0       1977   0.017647          1          1         2   \n",
       "3398     15        17.0       1987   0.093443          1          1        23   \n",
       "\n",
       "      Social_2  Social_3  Healthcare_1  Helthcare_2  Shops_1  Shops_2  \\\n",
       "2406      5735         3        1084.0            0        5        1   \n",
       "2524       469         0         800.0            0        0        1   \n",
       "3398      4635         5        3300.0            2        4        1   \n",
       "\n",
       "      middleFloor  \n",
       "2406          0.0  \n",
       "2524          1.0  \n",
       "3398          1.0  "
      ]
     },
     "execution_count": 102,
     "metadata": {},
     "output_type": "execute_result"
    }
   ],
   "source": [
    "dft.loc[dft['Rooms']%1 != 0]"
   ]
  },
  {
   "cell_type": "markdown",
   "metadata": {},
   "source": [
    "Это мы видимо насчитали не-целые значения там. Приведем их к целым... Глядя на describe на тестовом сете есть мысль округлять их немного со смещением..."
   ]
  },
  {
   "cell_type": "code",
   "execution_count": 103,
   "metadata": {},
   "outputs": [],
   "source": [
    "import math\n",
    "shifted_round = lambda x: round(x) if x%1 > 0.6 else math.floor(x)\n",
    "df.loc[df['Rooms']%1 != 0, 'Rooms'] = df['Rooms'].apply(shifted_round)\n",
    "dft.loc[dft['Rooms']%1 != 0, 'Rooms'] = dft['Rooms'].apply(shifted_round)"
   ]
  },
  {
   "cell_type": "code",
   "execution_count": 104,
   "metadata": {},
   "outputs": [],
   "source": [
    "medPrice = df.groupby(['DistrictId', 'Rooms'], as_index=False).\\\n",
    "    agg({'Price': 'median'}).rename(columns={'Price': 'medianPrice'})"
   ]
  },
  {
   "cell_type": "code",
   "execution_count": 105,
   "metadata": {},
   "outputs": [],
   "source": [
    "df = df.merge(medPrice, on=['DistrictId', 'Rooms'], how='left')"
   ]
  },
  {
   "cell_type": "code",
   "execution_count": 106,
   "metadata": {},
   "outputs": [
    {
     "name": "stdout",
     "output_type": "stream",
     "text": [
      "<class 'pandas.core.frame.DataFrame'>\n",
      "Int64Index: 9988 entries, 0 to 9987\n",
      "Data columns (total 22 columns):\n",
      "Id               9988 non-null int64\n",
      "DistrictId       9988 non-null object\n",
      "Rooms            9988 non-null float64\n",
      "Square           9988 non-null float64\n",
      "LifeSquare       9988 non-null float64\n",
      "KitchenSquare    9988 non-null float64\n",
      "Floor            9988 non-null int64\n",
      "HouseFloor       9988 non-null float64\n",
      "HouseYear        9988 non-null int64\n",
      "Ecology_1        9988 non-null float64\n",
      "Ecology_2        9988 non-null int64\n",
      "Ecology_3        9988 non-null int64\n",
      "Social_1         9988 non-null int64\n",
      "Social_2         9988 non-null int64\n",
      "Social_3         9988 non-null int64\n",
      "Healthcare_1     9988 non-null float64\n",
      "Helthcare_2      9988 non-null int64\n",
      "Shops_1          9988 non-null int64\n",
      "Shops_2          9988 non-null int64\n",
      "Price            9988 non-null float64\n",
      "middleFloor      9988 non-null float64\n",
      "medianPrice      9988 non-null float64\n",
      "dtypes: float64(10), int64(11), object(1)\n",
      "memory usage: 1.8+ MB\n"
     ]
    }
   ],
   "source": [
    "df.info()"
   ]
  },
  {
   "cell_type": "markdown",
   "metadata": {},
   "source": [
    "Теперь применим это к тестовому сету"
   ]
  },
  {
   "cell_type": "code",
   "execution_count": 107,
   "metadata": {},
   "outputs": [],
   "source": [
    "dft = dft.merge(medPrice, on=['DistrictId', 'Rooms'], how='left')"
   ]
  },
  {
   "cell_type": "code",
   "execution_count": 108,
   "metadata": {},
   "outputs": [
    {
     "name": "stdout",
     "output_type": "stream",
     "text": [
      "<class 'pandas.core.frame.DataFrame'>\n",
      "Int64Index: 5000 entries, 0 to 4999\n",
      "Data columns (total 21 columns):\n",
      "Id               5000 non-null int64\n",
      "DistrictId       5000 non-null object\n",
      "Rooms            5000 non-null float64\n",
      "Square           5000 non-null float64\n",
      "LifeSquare       5000 non-null float64\n",
      "KitchenSquare    5000 non-null float64\n",
      "Floor            5000 non-null int64\n",
      "HouseFloor       5000 non-null float64\n",
      "HouseYear        5000 non-null int64\n",
      "Ecology_1        5000 non-null float64\n",
      "Ecology_2        5000 non-null int64\n",
      "Ecology_3        5000 non-null int64\n",
      "Social_1         5000 non-null int64\n",
      "Social_2         5000 non-null int64\n",
      "Social_3         5000 non-null int64\n",
      "Healthcare_1     5000 non-null float64\n",
      "Helthcare_2      5000 non-null int64\n",
      "Shops_1          5000 non-null int64\n",
      "Shops_2          5000 non-null int64\n",
      "middleFloor      5000 non-null float64\n",
      "medianPrice      4933 non-null float64\n",
      "dtypes: float64(9), int64(11), object(1)\n",
      "memory usage: 859.4+ KB\n"
     ]
    }
   ],
   "source": [
    "dft.info()"
   ]
  },
  {
   "cell_type": "markdown",
   "metadata": {},
   "source": [
    "Надо заполнить пропуски теперь. Выведем какой нибудь дополнительный критерий на основе данных трейнового сета. Скажем соотношение средней цены по району к площади квартиры. (средняя цена по району за кв. м) и на его основе заполним пропуски в тесте."
   ]
  },
  {
   "cell_type": "code",
   "execution_count": 109,
   "metadata": {},
   "outputs": [],
   "source": [
    "df['priceSquareRatio'] = df['Price']/df['Square']"
   ]
  },
  {
   "cell_type": "code",
   "execution_count": 110,
   "metadata": {},
   "outputs": [],
   "source": [
    "medPriceSquareRatio = df.groupby(['DistrictId'], as_index=False).\\\n",
    "    agg({'priceSquareRatio': 'median'}).rename(columns={'priceSquareRatio': 'medianPriceSquareRatio'})"
   ]
  },
  {
   "cell_type": "markdown",
   "metadata": {},
   "source": [
    "Присоединяем по району к тестовому."
   ]
  },
  {
   "cell_type": "code",
   "execution_count": 111,
   "metadata": {},
   "outputs": [],
   "source": [
    "dft = dft.merge(medPriceSquareRatio, on=['DistrictId'], how='left')"
   ]
  },
  {
   "cell_type": "markdown",
   "metadata": {},
   "source": [
    "Теперь лечим пропуски в medianPrice"
   ]
  },
  {
   "cell_type": "code",
   "execution_count": 112,
   "metadata": {},
   "outputs": [],
   "source": [
    "dft.loc[dft['medianPrice'].isnull(), 'medianPrice'] = dft['medianPriceSquareRatio'] * dft['Square']"
   ]
  },
  {
   "cell_type": "code",
   "execution_count": 113,
   "metadata": {},
   "outputs": [
    {
     "name": "stdout",
     "output_type": "stream",
     "text": [
      "<class 'pandas.core.frame.DataFrame'>\n",
      "Int64Index: 5000 entries, 0 to 4999\n",
      "Data columns (total 22 columns):\n",
      "Id                        5000 non-null int64\n",
      "DistrictId                5000 non-null object\n",
      "Rooms                     5000 non-null float64\n",
      "Square                    5000 non-null float64\n",
      "LifeSquare                5000 non-null float64\n",
      "KitchenSquare             5000 non-null float64\n",
      "Floor                     5000 non-null int64\n",
      "HouseFloor                5000 non-null float64\n",
      "HouseYear                 5000 non-null int64\n",
      "Ecology_1                 5000 non-null float64\n",
      "Ecology_2                 5000 non-null int64\n",
      "Ecology_3                 5000 non-null int64\n",
      "Social_1                  5000 non-null int64\n",
      "Social_2                  5000 non-null int64\n",
      "Social_3                  5000 non-null int64\n",
      "Healthcare_1              5000 non-null float64\n",
      "Helthcare_2               5000 non-null int64\n",
      "Shops_1                   5000 non-null int64\n",
      "Shops_2                   5000 non-null int64\n",
      "middleFloor               5000 non-null float64\n",
      "medianPrice               4992 non-null float64\n",
      "medianPriceSquareRatio    4992 non-null float64\n",
      "dtypes: float64(10), int64(11), object(1)\n",
      "memory usage: 1.0+ MB\n"
     ]
    }
   ],
   "source": [
    "dft.info()"
   ]
  },
  {
   "cell_type": "markdown",
   "metadata": {},
   "source": [
    "тем-не менее 8 записей все еще не заполнены по medianPrice - видимо в трейновой выборке вообще таких районов не было. Заполним их на основании средней цены за кв/м для всего трейнового датасета"
   ]
  },
  {
   "cell_type": "code",
   "execution_count": 114,
   "metadata": {},
   "outputs": [
    {
     "data": {
      "text/html": [
       "<div>\n",
       "<style scoped>\n",
       "    .dataframe tbody tr th:only-of-type {\n",
       "        vertical-align: middle;\n",
       "    }\n",
       "\n",
       "    .dataframe tbody tr th {\n",
       "        vertical-align: top;\n",
       "    }\n",
       "\n",
       "    .dataframe thead th {\n",
       "        text-align: right;\n",
       "    }\n",
       "</style>\n",
       "<table border=\"1\" class=\"dataframe\">\n",
       "  <thead>\n",
       "    <tr style=\"text-align: right;\">\n",
       "      <th></th>\n",
       "      <th>Id</th>\n",
       "      <th>DistrictId</th>\n",
       "      <th>Rooms</th>\n",
       "      <th>Square</th>\n",
       "      <th>LifeSquare</th>\n",
       "      <th>KitchenSquare</th>\n",
       "      <th>Floor</th>\n",
       "      <th>HouseFloor</th>\n",
       "      <th>HouseYear</th>\n",
       "      <th>Ecology_1</th>\n",
       "      <th>...</th>\n",
       "      <th>Social_1</th>\n",
       "      <th>Social_2</th>\n",
       "      <th>Social_3</th>\n",
       "      <th>Healthcare_1</th>\n",
       "      <th>Helthcare_2</th>\n",
       "      <th>Shops_1</th>\n",
       "      <th>Shops_2</th>\n",
       "      <th>middleFloor</th>\n",
       "      <th>medianPrice</th>\n",
       "      <th>medianPriceSquareRatio</th>\n",
       "    </tr>\n",
       "  </thead>\n",
       "  <tbody>\n",
       "    <tr>\n",
       "      <th>51</th>\n",
       "      <td>15748</td>\n",
       "      <td>212</td>\n",
       "      <td>2.0</td>\n",
       "      <td>75.655182</td>\n",
       "      <td>36.877626</td>\n",
       "      <td>15.0</td>\n",
       "      <td>2</td>\n",
       "      <td>7.0</td>\n",
       "      <td>1929</td>\n",
       "      <td>0.000000e+00</td>\n",
       "      <td>...</td>\n",
       "      <td>8</td>\n",
       "      <td>1423</td>\n",
       "      <td>37</td>\n",
       "      <td>562.0</td>\n",
       "      <td>1</td>\n",
       "      <td>8</td>\n",
       "      <td>1</td>\n",
       "      <td>1.0</td>\n",
       "      <td>NaN</td>\n",
       "      <td>NaN</td>\n",
       "    </tr>\n",
       "    <tr>\n",
       "      <th>1043</th>\n",
       "      <td>14939</td>\n",
       "      <td>210</td>\n",
       "      <td>2.0</td>\n",
       "      <td>54.953826</td>\n",
       "      <td>31.223917</td>\n",
       "      <td>6.0</td>\n",
       "      <td>3</td>\n",
       "      <td>10.0</td>\n",
       "      <td>1956</td>\n",
       "      <td>8.194346e-02</td>\n",
       "      <td>...</td>\n",
       "      <td>20</td>\n",
       "      <td>2738</td>\n",
       "      <td>20</td>\n",
       "      <td>800.0</td>\n",
       "      <td>1</td>\n",
       "      <td>4</td>\n",
       "      <td>1</td>\n",
       "      <td>1.0</td>\n",
       "      <td>NaN</td>\n",
       "      <td>NaN</td>\n",
       "    </tr>\n",
       "    <tr>\n",
       "      <th>1475</th>\n",
       "      <td>16217</td>\n",
       "      <td>206</td>\n",
       "      <td>4.0</td>\n",
       "      <td>76.428426</td>\n",
       "      <td>50.344903</td>\n",
       "      <td>11.0</td>\n",
       "      <td>7</td>\n",
       "      <td>10.0</td>\n",
       "      <td>1912</td>\n",
       "      <td>4.203159e-02</td>\n",
       "      <td>...</td>\n",
       "      <td>37</td>\n",
       "      <td>6856</td>\n",
       "      <td>84</td>\n",
       "      <td>1940.0</td>\n",
       "      <td>2</td>\n",
       "      <td>5</td>\n",
       "      <td>1</td>\n",
       "      <td>1.0</td>\n",
       "      <td>NaN</td>\n",
       "      <td>NaN</td>\n",
       "    </tr>\n",
       "    <tr>\n",
       "      <th>2323</th>\n",
       "      <td>9155</td>\n",
       "      <td>204</td>\n",
       "      <td>3.0</td>\n",
       "      <td>88.559337</td>\n",
       "      <td>62.854221</td>\n",
       "      <td>8.0</td>\n",
       "      <td>8</td>\n",
       "      <td>11.0</td>\n",
       "      <td>1918</td>\n",
       "      <td>3.731645e-02</td>\n",
       "      <td>...</td>\n",
       "      <td>32</td>\n",
       "      <td>6748</td>\n",
       "      <td>93</td>\n",
       "      <td>562.0</td>\n",
       "      <td>4</td>\n",
       "      <td>10</td>\n",
       "      <td>1</td>\n",
       "      <td>1.0</td>\n",
       "      <td>NaN</td>\n",
       "      <td>NaN</td>\n",
       "    </tr>\n",
       "    <tr>\n",
       "      <th>2370</th>\n",
       "      <td>8845</td>\n",
       "      <td>203</td>\n",
       "      <td>2.0</td>\n",
       "      <td>50.417709</td>\n",
       "      <td>27.587971</td>\n",
       "      <td>7.0</td>\n",
       "      <td>5</td>\n",
       "      <td>8.0</td>\n",
       "      <td>1977</td>\n",
       "      <td>1.501689e-02</td>\n",
       "      <td>...</td>\n",
       "      <td>17</td>\n",
       "      <td>3079</td>\n",
       "      <td>59</td>\n",
       "      <td>2890.0</td>\n",
       "      <td>0</td>\n",
       "      <td>8</td>\n",
       "      <td>1</td>\n",
       "      <td>1.0</td>\n",
       "      <td>NaN</td>\n",
       "      <td>NaN</td>\n",
       "    </tr>\n",
       "    <tr>\n",
       "      <th>2666</th>\n",
       "      <td>15655</td>\n",
       "      <td>211</td>\n",
       "      <td>2.0</td>\n",
       "      <td>46.501558</td>\n",
       "      <td>32.276987</td>\n",
       "      <td>5.0</td>\n",
       "      <td>5</td>\n",
       "      <td>5.0</td>\n",
       "      <td>1965</td>\n",
       "      <td>1.800000e-09</td>\n",
       "      <td>...</td>\n",
       "      <td>16</td>\n",
       "      <td>3681</td>\n",
       "      <td>73</td>\n",
       "      <td>1815.0</td>\n",
       "      <td>2</td>\n",
       "      <td>5</td>\n",
       "      <td>1</td>\n",
       "      <td>0.0</td>\n",
       "      <td>NaN</td>\n",
       "      <td>NaN</td>\n",
       "    </tr>\n",
       "    <tr>\n",
       "      <th>3668</th>\n",
       "      <td>13382</td>\n",
       "      <td>206</td>\n",
       "      <td>2.0</td>\n",
       "      <td>46.047289</td>\n",
       "      <td>27.384090</td>\n",
       "      <td>6.0</td>\n",
       "      <td>5</td>\n",
       "      <td>7.0</td>\n",
       "      <td>1930</td>\n",
       "      <td>7.815280e-05</td>\n",
       "      <td>...</td>\n",
       "      <td>22</td>\n",
       "      <td>6398</td>\n",
       "      <td>141</td>\n",
       "      <td>1046.0</td>\n",
       "      <td>3</td>\n",
       "      <td>23</td>\n",
       "      <td>1</td>\n",
       "      <td>1.0</td>\n",
       "      <td>NaN</td>\n",
       "      <td>NaN</td>\n",
       "    </tr>\n",
       "    <tr>\n",
       "      <th>4046</th>\n",
       "      <td>14024</td>\n",
       "      <td>198</td>\n",
       "      <td>2.0</td>\n",
       "      <td>47.477281</td>\n",
       "      <td>31.069466</td>\n",
       "      <td>5.0</td>\n",
       "      <td>2</td>\n",
       "      <td>5.0</td>\n",
       "      <td>1970</td>\n",
       "      <td>6.076152e-03</td>\n",
       "      <td>...</td>\n",
       "      <td>30</td>\n",
       "      <td>5285</td>\n",
       "      <td>0</td>\n",
       "      <td>645.0</td>\n",
       "      <td>6</td>\n",
       "      <td>6</td>\n",
       "      <td>1</td>\n",
       "      <td>1.0</td>\n",
       "      <td>NaN</td>\n",
       "      <td>NaN</td>\n",
       "    </tr>\n",
       "  </tbody>\n",
       "</table>\n",
       "<p>8 rows × 22 columns</p>\n",
       "</div>"
      ],
      "text/plain": [
       "         Id DistrictId  Rooms     Square  LifeSquare  KitchenSquare  Floor  \\\n",
       "51    15748        212    2.0  75.655182   36.877626           15.0      2   \n",
       "1043  14939        210    2.0  54.953826   31.223917            6.0      3   \n",
       "1475  16217        206    4.0  76.428426   50.344903           11.0      7   \n",
       "2323   9155        204    3.0  88.559337   62.854221            8.0      8   \n",
       "2370   8845        203    2.0  50.417709   27.587971            7.0      5   \n",
       "2666  15655        211    2.0  46.501558   32.276987            5.0      5   \n",
       "3668  13382        206    2.0  46.047289   27.384090            6.0      5   \n",
       "4046  14024        198    2.0  47.477281   31.069466            5.0      2   \n",
       "\n",
       "      HouseFloor  HouseYear     Ecology_1  ...  Social_1  Social_2  Social_3  \\\n",
       "51           7.0       1929  0.000000e+00  ...         8      1423        37   \n",
       "1043        10.0       1956  8.194346e-02  ...        20      2738        20   \n",
       "1475        10.0       1912  4.203159e-02  ...        37      6856        84   \n",
       "2323        11.0       1918  3.731645e-02  ...        32      6748        93   \n",
       "2370         8.0       1977  1.501689e-02  ...        17      3079        59   \n",
       "2666         5.0       1965  1.800000e-09  ...        16      3681        73   \n",
       "3668         7.0       1930  7.815280e-05  ...        22      6398       141   \n",
       "4046         5.0       1970  6.076152e-03  ...        30      5285         0   \n",
       "\n",
       "      Healthcare_1  Helthcare_2  Shops_1  Shops_2  middleFloor  medianPrice  \\\n",
       "51           562.0            1        8        1          1.0          NaN   \n",
       "1043         800.0            1        4        1          1.0          NaN   \n",
       "1475        1940.0            2        5        1          1.0          NaN   \n",
       "2323         562.0            4       10        1          1.0          NaN   \n",
       "2370        2890.0            0        8        1          1.0          NaN   \n",
       "2666        1815.0            2        5        1          0.0          NaN   \n",
       "3668        1046.0            3       23        1          1.0          NaN   \n",
       "4046         645.0            6        6        1          1.0          NaN   \n",
       "\n",
       "      medianPriceSquareRatio  \n",
       "51                       NaN  \n",
       "1043                     NaN  \n",
       "1475                     NaN  \n",
       "2323                     NaN  \n",
       "2370                     NaN  \n",
       "2666                     NaN  \n",
       "3668                     NaN  \n",
       "4046                     NaN  \n",
       "\n",
       "[8 rows x 22 columns]"
      ]
     },
     "execution_count": 114,
     "metadata": {},
     "output_type": "execute_result"
    }
   ],
   "source": [
    "dft.loc[dft['medianPrice'].isnull()]"
   ]
  },
  {
   "cell_type": "code",
   "execution_count": 115,
   "metadata": {},
   "outputs": [],
   "source": [
    "dft.loc[dft['medianPrice'].isnull(), 'medianPrice'] = df.priceSquareRatio.median() * dft['Square']"
   ]
  },
  {
   "cell_type": "code",
   "execution_count": 116,
   "metadata": {},
   "outputs": [
    {
     "name": "stdout",
     "output_type": "stream",
     "text": [
      "<class 'pandas.core.frame.DataFrame'>\n",
      "Int64Index: 9988 entries, 0 to 9987\n",
      "Data columns (total 23 columns):\n",
      "Id                  9988 non-null int64\n",
      "DistrictId          9988 non-null object\n",
      "Rooms               9988 non-null float64\n",
      "Square              9988 non-null float64\n",
      "LifeSquare          9988 non-null float64\n",
      "KitchenSquare       9988 non-null float64\n",
      "Floor               9988 non-null int64\n",
      "HouseFloor          9988 non-null float64\n",
      "HouseYear           9988 non-null int64\n",
      "Ecology_1           9988 non-null float64\n",
      "Ecology_2           9988 non-null int64\n",
      "Ecology_3           9988 non-null int64\n",
      "Social_1            9988 non-null int64\n",
      "Social_2            9988 non-null int64\n",
      "Social_3            9988 non-null int64\n",
      "Healthcare_1        9988 non-null float64\n",
      "Helthcare_2         9988 non-null int64\n",
      "Shops_1             9988 non-null int64\n",
      "Shops_2             9988 non-null int64\n",
      "Price               9988 non-null float64\n",
      "middleFloor         9988 non-null float64\n",
      "medianPrice         9988 non-null float64\n",
      "priceSquareRatio    9988 non-null float64\n",
      "dtypes: float64(11), int64(11), object(1)\n",
      "memory usage: 1.8+ MB\n"
     ]
    }
   ],
   "source": [
    "df.info()"
   ]
  },
  {
   "cell_type": "code",
   "execution_count": 117,
   "metadata": {},
   "outputs": [
    {
     "name": "stdout",
     "output_type": "stream",
     "text": [
      "<class 'pandas.core.frame.DataFrame'>\n",
      "Int64Index: 5000 entries, 0 to 4999\n",
      "Data columns (total 21 columns):\n",
      "Id               5000 non-null int64\n",
      "DistrictId       5000 non-null object\n",
      "Rooms            5000 non-null float64\n",
      "Square           5000 non-null float64\n",
      "LifeSquare       5000 non-null float64\n",
      "KitchenSquare    5000 non-null float64\n",
      "Floor            5000 non-null int64\n",
      "HouseFloor       5000 non-null float64\n",
      "HouseYear        5000 non-null int64\n",
      "Ecology_1        5000 non-null float64\n",
      "Ecology_2        5000 non-null int64\n",
      "Ecology_3        5000 non-null int64\n",
      "Social_1         5000 non-null int64\n",
      "Social_2         5000 non-null int64\n",
      "Social_3         5000 non-null int64\n",
      "Healthcare_1     5000 non-null float64\n",
      "Helthcare_2      5000 non-null int64\n",
      "Shops_1          5000 non-null int64\n",
      "Shops_2          5000 non-null int64\n",
      "middleFloor      5000 non-null float64\n",
      "medianPrice      5000 non-null float64\n",
      "dtypes: float64(9), int64(11), object(1)\n",
      "memory usage: 1019.4+ KB\n"
     ]
    }
   ],
   "source": [
    "df.drop(['priceSquareRatio'], inplace=True, axis=1)\n",
    "dft.drop(['medianPriceSquareRatio'], inplace=True, axis=1)\n",
    "dft.info()"
   ]
  },
  {
   "cell_type": "markdown",
   "metadata": {},
   "source": [
    "Заполнили"
   ]
  },
  {
   "cell_type": "markdown",
   "metadata": {},
   "source": [
    "Может индекс тоже сконвертировать в строки.. или вообще удалить."
   ]
  },
  {
   "cell_type": "code",
   "execution_count": 118,
   "metadata": {},
   "outputs": [],
   "source": [
    "df.index = df.index.astype(str)\n",
    "dft.index = dft.index.astype(str)"
   ]
  },
  {
   "cell_type": "markdown",
   "metadata": {},
   "source": [
    "и middlefloor в int"
   ]
  },
  {
   "cell_type": "code",
   "execution_count": 119,
   "metadata": {},
   "outputs": [],
   "source": [
    "df['middleFloor'] = df['middleFloor'].astype(np.int64)\n",
    "dft['middleFloor'] = dft['middleFloor'].astype(np.int64)"
   ]
  },
  {
   "cell_type": "code",
   "execution_count": 120,
   "metadata": {},
   "outputs": [],
   "source": [
    "from sklearn.model_selection import train_test_split\n",
    "from sklearn.preprocessing import StandardScaler\n",
    "from sklearn.metrics import r2_score\n",
    "from sklearn.model_selection import GridSearchCV, KFold\n",
    "from sklearn.ensemble import GradientBoostingRegressor"
   ]
  },
  {
   "cell_type": "code",
   "execution_count": 121,
   "metadata": {},
   "outputs": [],
   "source": [
    "def standardize(df):\n",
    "    feature_names = ['DistrictId', 'Rooms', 'Square', 'LifeSquare', 'KitchenSquare', 'Floor', 'HouseFloor',\n",
    "                'HouseYear', 'Ecology_1', 'Ecology_2', 'Ecology_3', 'Social_1', 'Social_2', 'Social_3',\n",
    "                'Healthcare_1', 'Helthcare_2', 'Shops_1', 'Shops_2', 'middleFloor', 'index']\n",
    "    test_df = df.copy()\n",
    "    test_df.Id = test_df.Id.astype(str)\n",
    "    test_df.reset_index(inplace=True)\n",
    "    scaler = StandardScaler()\n",
    "    names_to_stand = test_df[feature_names].select_dtypes(include='float64').columns.tolist()\n",
    "    names_to_stand += ['Floor', 'Social_1', 'Social_2', 'Social_3', 'Helthcare_2', 'Shops_1', 'HouseYear', 'medianPrice']\n",
    "    features_to_stand = names_to_stand\n",
    "    stand_features = scaler.fit_transform(test_df[features_to_stand])\n",
    "    test_df[features_to_stand] = pd.DataFrame(stand_features, columns=features_to_stand)\n",
    "    stand_df = test_df.set_index('Id')\n",
    "    stand_df.drop(['index'], inplace=True, axis=1)\n",
    "    return stand_df"
   ]
  },
  {
   "cell_type": "code",
   "execution_count": 122,
   "metadata": {},
   "outputs": [],
   "source": [
    "stand_df = standardize(df)\n",
    "stand_dft = standardize(dft)"
   ]
  },
  {
   "cell_type": "code",
   "execution_count": 123,
   "metadata": {},
   "outputs": [],
   "source": [
    "feature_names = ['DistrictId', 'Rooms', 'Square', 'LifeSquare', 'KitchenSquare', 'Floor', 'HouseFloor',\n",
    "                'HouseYear', 'Ecology_1', 'Ecology_2', 'Ecology_3', 'Social_1', 'Social_2', 'Social_3',\n",
    "                'Healthcare_1', 'Helthcare_2', 'Shops_1', 'Shops_2', 'middleFloor']\n",
    "X = stand_df.drop(['Price'], axis=1)\n",
    "y = stand_df.drop(feature_names, axis=1)"
   ]
  },
  {
   "cell_type": "code",
   "execution_count": 140,
   "metadata": {},
   "outputs": [
    {
     "data": {
      "text/plain": [
       "GridSearchCV(cv=KFold(n_splits=5, random_state=100, shuffle=True),\n",
       "             error_score='raise-deprecating',\n",
       "             estimator=GradientBoostingRegressor(alpha=0.9,\n",
       "                                                 criterion='friedman_mse',\n",
       "                                                 init=None, learning_rate=0.1,\n",
       "                                                 loss='ls', max_depth=3,\n",
       "                                                 max_features=None,\n",
       "                                                 max_leaf_nodes=None,\n",
       "                                                 min_impurity_decrease=0.0,\n",
       "                                                 min_impurity_split=None,\n",
       "                                                 min_samples_leaf=1,\n",
       "                                                 min_samples_split=2,\n",
       "                                                 min_weight_fraction_leaf=0.0,\n",
       "                                                 n_estimators=100,\n",
       "                                                 n_iter_no_change=None,\n",
       "                                                 presort='auto',\n",
       "                                                 random_state=None,\n",
       "                                                 subsample=1.0, tol=0.0001,\n",
       "                                                 validation_fraction=0.1,\n",
       "                                                 verbose=0, warm_start=False),\n",
       "             iid='warn', n_jobs=-1,\n",
       "             param_grid={'max_depth': [3, 4, 5, 6, 7],\n",
       "                         'n_estimators': [50, 100, 200, 300, 400]},\n",
       "             pre_dispatch='2*n_jobs', refit=True, return_train_score=False,\n",
       "             scoring='r2', verbose=0)"
      ]
     },
     "execution_count": 140,
     "metadata": {},
     "output_type": "execute_result"
    }
   ],
   "source": [
    "parms = {'n_estimators': [50, 100, 200, 300, 400], 'max_depth': [3, 4, 5, 6, 7]}\n",
    "gb_model = GradientBoostingRegressor()\n",
    "gs = GridSearchCV(gb_model, parms, scoring='r2', cv=KFold(n_splits=5, random_state=100, shuffle=True), n_jobs=-1)\n",
    "gs.fit(X, y['Price'])"
   ]
  },
  {
   "cell_type": "code",
   "execution_count": 141,
   "metadata": {},
   "outputs": [
    {
     "data": {
      "text/plain": [
       "{'max_depth': 5, 'n_estimators': 200}"
      ]
     },
     "execution_count": 141,
     "metadata": {},
     "output_type": "execute_result"
    }
   ],
   "source": [
    "gs.best_params_"
   ]
  },
  {
   "cell_type": "code",
   "execution_count": 142,
   "metadata": {},
   "outputs": [
    {
     "data": {
      "text/plain": [
       "0.7655655402996555"
      ]
     },
     "execution_count": 142,
     "metadata": {},
     "output_type": "execute_result"
    }
   ],
   "source": [
    "gs.best_score_"
   ]
  },
  {
   "cell_type": "code",
   "execution_count": 165,
   "metadata": {},
   "outputs": [
    {
     "name": "stdout",
     "output_type": "stream",
     "text": [
      "## Train R2 = 0.9094228651708718\n",
      "## Test  R2 = 0.7897338844662297\n"
     ]
    }
   ],
   "source": [
    "X_train, X_test, y_train, y_test = train_test_split(X, y, test_size=0.3, shuffle=True, random_state=1001)\n",
    "gb_model = GradientBoostingRegressor(max_depth=5, n_estimators=200, random_state=1001)\n",
    "gb_model.fit(X_train, y_train['Price'])\n",
    "y_tr_pred = gb_model.predict(X_train)\n",
    "tr_r2 = r2_score(y_train['Price'], y_tr_pred)\n",
    "print('## Train R2 = ' + str(tr_r2))\n",
    "y_pred = gb_model.predict(X_test)\n",
    "r2 = r2_score(y_test['Price'], y_pred)\n",
    "print('## Test  R2 = ' + str(r2))"
   ]
  },
  {
   "cell_type": "markdown",
   "metadata": {},
   "source": [
    "Если рандом стейтом баловаться - можно довольно высокие показатели получить )) "
   ]
  },
  {
   "cell_type": "code",
   "execution_count": 158,
   "metadata": {},
   "outputs": [
    {
     "data": {
      "text/html": [
       "<div>\n",
       "<style scoped>\n",
       "    .dataframe tbody tr th:only-of-type {\n",
       "        vertical-align: middle;\n",
       "    }\n",
       "\n",
       "    .dataframe tbody tr th {\n",
       "        vertical-align: top;\n",
       "    }\n",
       "\n",
       "    .dataframe thead th {\n",
       "        text-align: right;\n",
       "    }\n",
       "</style>\n",
       "<table border=\"1\" class=\"dataframe\">\n",
       "  <thead>\n",
       "    <tr style=\"text-align: right;\">\n",
       "      <th></th>\n",
       "      <th>feature</th>\n",
       "      <th>importance</th>\n",
       "    </tr>\n",
       "  </thead>\n",
       "  <tbody>\n",
       "    <tr>\n",
       "      <th>19</th>\n",
       "      <td>medianPrice</td>\n",
       "      <td>0.650897</td>\n",
       "    </tr>\n",
       "    <tr>\n",
       "      <th>2</th>\n",
       "      <td>Square</td>\n",
       "      <td>0.130017</td>\n",
       "    </tr>\n",
       "    <tr>\n",
       "      <th>7</th>\n",
       "      <td>HouseYear</td>\n",
       "      <td>0.027530</td>\n",
       "    </tr>\n",
       "    <tr>\n",
       "      <th>4</th>\n",
       "      <td>KitchenSquare</td>\n",
       "      <td>0.026224</td>\n",
       "    </tr>\n",
       "    <tr>\n",
       "      <th>3</th>\n",
       "      <td>LifeSquare</td>\n",
       "      <td>0.022041</td>\n",
       "    </tr>\n",
       "    <tr>\n",
       "      <th>6</th>\n",
       "      <td>HouseFloor</td>\n",
       "      <td>0.021852</td>\n",
       "    </tr>\n",
       "    <tr>\n",
       "      <th>13</th>\n",
       "      <td>Social_3</td>\n",
       "      <td>0.020920</td>\n",
       "    </tr>\n",
       "    <tr>\n",
       "      <th>5</th>\n",
       "      <td>Floor</td>\n",
       "      <td>0.016188</td>\n",
       "    </tr>\n",
       "    <tr>\n",
       "      <th>12</th>\n",
       "      <td>Social_2</td>\n",
       "      <td>0.015748</td>\n",
       "    </tr>\n",
       "    <tr>\n",
       "      <th>8</th>\n",
       "      <td>Ecology_1</td>\n",
       "      <td>0.014130</td>\n",
       "    </tr>\n",
       "    <tr>\n",
       "      <th>14</th>\n",
       "      <td>Healthcare_1</td>\n",
       "      <td>0.014070</td>\n",
       "    </tr>\n",
       "    <tr>\n",
       "      <th>11</th>\n",
       "      <td>Social_1</td>\n",
       "      <td>0.013579</td>\n",
       "    </tr>\n",
       "    <tr>\n",
       "      <th>0</th>\n",
       "      <td>DistrictId</td>\n",
       "      <td>0.010736</td>\n",
       "    </tr>\n",
       "    <tr>\n",
       "      <th>1</th>\n",
       "      <td>Rooms</td>\n",
       "      <td>0.006945</td>\n",
       "    </tr>\n",
       "    <tr>\n",
       "      <th>16</th>\n",
       "      <td>Shops_1</td>\n",
       "      <td>0.003763</td>\n",
       "    </tr>\n",
       "    <tr>\n",
       "      <th>15</th>\n",
       "      <td>Helthcare_2</td>\n",
       "      <td>0.002531</td>\n",
       "    </tr>\n",
       "    <tr>\n",
       "      <th>10</th>\n",
       "      <td>Ecology_3</td>\n",
       "      <td>0.001356</td>\n",
       "    </tr>\n",
       "    <tr>\n",
       "      <th>17</th>\n",
       "      <td>Shops_2</td>\n",
       "      <td>0.000586</td>\n",
       "    </tr>\n",
       "    <tr>\n",
       "      <th>9</th>\n",
       "      <td>Ecology_2</td>\n",
       "      <td>0.000524</td>\n",
       "    </tr>\n",
       "    <tr>\n",
       "      <th>18</th>\n",
       "      <td>middleFloor</td>\n",
       "      <td>0.000365</td>\n",
       "    </tr>\n",
       "  </tbody>\n",
       "</table>\n",
       "</div>"
      ],
      "text/plain": [
       "          feature  importance\n",
       "19    medianPrice    0.650897\n",
       "2          Square    0.130017\n",
       "7       HouseYear    0.027530\n",
       "4   KitchenSquare    0.026224\n",
       "3      LifeSquare    0.022041\n",
       "6      HouseFloor    0.021852\n",
       "13       Social_3    0.020920\n",
       "5           Floor    0.016188\n",
       "12       Social_2    0.015748\n",
       "8       Ecology_1    0.014130\n",
       "14   Healthcare_1    0.014070\n",
       "11       Social_1    0.013579\n",
       "0      DistrictId    0.010736\n",
       "1           Rooms    0.006945\n",
       "16        Shops_1    0.003763\n",
       "15    Helthcare_2    0.002531\n",
       "10      Ecology_3    0.001356\n",
       "17        Shops_2    0.000586\n",
       "9       Ecology_2    0.000524\n",
       "18    middleFloor    0.000365"
      ]
     },
     "execution_count": 158,
     "metadata": {},
     "output_type": "execute_result"
    }
   ],
   "source": [
    "pd.DataFrame(zip(X_train.columns, gb_model.feature_importances_), columns=['feature', 'importance']).\\\n",
    "        sort_values(by='importance', ascending=False)"
   ]
  },
  {
   "cell_type": "code",
   "execution_count": 166,
   "metadata": {},
   "outputs": [
    {
     "data": {
      "image/png": "[encoded data removed]",
      "text/plain": [
       "<Figure size 864x864 with 1 Axes>"
      ]
     },
     "metadata": {
      "needs_background": "light"
     },
     "output_type": "display_data"
    }
   ],
   "source": [
    "plt.figure(figsize=(12,12))\n",
    "plt.scatter(y_pred, y_test['Price'])\n",
    "plt.ylabel('Pred')\n",
    "plt.xlabel('True')\n",
    "plt.draw()"
   ]
  },
  {
   "cell_type": "markdown",
   "metadata": {},
   "source": [
    "Теперь test набор."
   ]
  },
  {
   "cell_type": "code",
   "execution_count": 167,
   "metadata": {},
   "outputs": [
    {
     "data": {
      "text/html": [
       "<div>\n",
       "<style scoped>\n",
       "    .dataframe tbody tr th:only-of-type {\n",
       "        vertical-align: middle;\n",
       "    }\n",
       "\n",
       "    .dataframe tbody tr th {\n",
       "        vertical-align: top;\n",
       "    }\n",
       "\n",
       "    .dataframe thead th {\n",
       "        text-align: right;\n",
       "    }\n",
       "</style>\n",
       "<table border=\"1\" class=\"dataframe\">\n",
       "  <thead>\n",
       "    <tr style=\"text-align: right;\">\n",
       "      <th></th>\n",
       "      <th>DistrictId</th>\n",
       "      <th>Rooms</th>\n",
       "      <th>Square</th>\n",
       "      <th>LifeSquare</th>\n",
       "      <th>KitchenSquare</th>\n",
       "      <th>Floor</th>\n",
       "      <th>HouseFloor</th>\n",
       "      <th>HouseYear</th>\n",
       "      <th>Ecology_1</th>\n",
       "      <th>Ecology_2</th>\n",
       "      <th>Ecology_3</th>\n",
       "      <th>Social_1</th>\n",
       "      <th>Social_2</th>\n",
       "      <th>Social_3</th>\n",
       "      <th>Healthcare_1</th>\n",
       "      <th>Helthcare_2</th>\n",
       "      <th>Shops_1</th>\n",
       "      <th>Shops_2</th>\n",
       "      <th>middleFloor</th>\n",
       "      <th>medianPrice</th>\n",
       "    </tr>\n",
       "    <tr>\n",
       "      <th>Id</th>\n",
       "      <th></th>\n",
       "      <th></th>\n",
       "      <th></th>\n",
       "      <th></th>\n",
       "      <th></th>\n",
       "      <th></th>\n",
       "      <th></th>\n",
       "      <th></th>\n",
       "      <th></th>\n",
       "      <th></th>\n",
       "      <th></th>\n",
       "      <th></th>\n",
       "      <th></th>\n",
       "      <th></th>\n",
       "      <th></th>\n",
       "      <th></th>\n",
       "      <th></th>\n",
       "      <th></th>\n",
       "      <th></th>\n",
       "      <th></th>\n",
       "    </tr>\n",
       "  </thead>\n",
       "  <tbody>\n",
       "    <tr>\n",
       "      <th>725</th>\n",
       "      <td>58</td>\n",
       "      <td>0.112991</td>\n",
       "      <td>-0.350993</td>\n",
       "      <td>-0.186405</td>\n",
       "      <td>-0.049351</td>\n",
       "      <td>-0.480057</td>\n",
       "      <td>0.014488</td>\n",
       "      <td>-0.667299</td>\n",
       "      <td>1.585280</td>\n",
       "      <td>1</td>\n",
       "      <td>1</td>\n",
       "      <td>-0.794834</td>\n",
       "      <td>-0.660397</td>\n",
       "      <td>-0.304366</td>\n",
       "      <td>0.079171</td>\n",
       "      <td>-0.891612</td>\n",
       "      <td>-0.888194</td>\n",
       "      <td>1</td>\n",
       "      <td>1</td>\n",
       "      <td>-0.605655</td>\n",
       "    </tr>\n",
       "    <tr>\n",
       "      <th>15856</th>\n",
       "      <td>74</td>\n",
       "      <td>0.112991</td>\n",
       "      <td>0.669999</td>\n",
       "      <td>0.493364</td>\n",
       "      <td>-1.398945</td>\n",
       "      <td>-0.480057</td>\n",
       "      <td>-0.804958</td>\n",
       "      <td>-0.398066</td>\n",
       "      <td>-0.367283</td>\n",
       "      <td>1</td>\n",
       "      <td>1</td>\n",
       "      <td>-1.080052</td>\n",
       "      <td>-0.986014</td>\n",
       "      <td>-0.220549</td>\n",
       "      <td>-0.022446</td>\n",
       "      <td>-0.891612</td>\n",
       "      <td>-0.469511</td>\n",
       "      <td>1</td>\n",
       "      <td>1</td>\n",
       "      <td>0.392665</td>\n",
       "    </tr>\n",
       "    <tr>\n",
       "      <th>5480</th>\n",
       "      <td>190</td>\n",
       "      <td>-1.120534</td>\n",
       "      <td>-2.262525</td>\n",
       "      <td>-1.943843</td>\n",
       "      <td>-1.253449</td>\n",
       "      <td>-1.209627</td>\n",
       "      <td>-1.460514</td>\n",
       "      <td>-4.059632</td>\n",
       "      <td>-0.998468</td>\n",
       "      <td>1</td>\n",
       "      <td>1</td>\n",
       "      <td>0.288994</td>\n",
       "      <td>0.529306</td>\n",
       "      <td>3.299785</td>\n",
       "      <td>3.990326</td>\n",
       "      <td>2.487242</td>\n",
       "      <td>0.158513</td>\n",
       "      <td>1</td>\n",
       "      <td>1</td>\n",
       "      <td>-1.250762</td>\n",
       "    </tr>\n",
       "    <tr>\n",
       "      <th>15664</th>\n",
       "      <td>47</td>\n",
       "      <td>0.112991</td>\n",
       "      <td>0.869315</td>\n",
       "      <td>1.116078</td>\n",
       "      <td>0.760405</td>\n",
       "      <td>2.438224</td>\n",
       "      <td>1.325601</td>\n",
       "      <td>1.217331</td>\n",
       "      <td>-0.149940</td>\n",
       "      <td>1</td>\n",
       "      <td>1</td>\n",
       "      <td>-0.110311</td>\n",
       "      <td>-0.204634</td>\n",
       "      <td>-0.220549</td>\n",
       "      <td>-0.833216</td>\n",
       "      <td>1.135700</td>\n",
       "      <td>-0.260169</td>\n",
       "      <td>1</td>\n",
       "      <td>0</td>\n",
       "      <td>0.120183</td>\n",
       "    </tr>\n",
       "    <tr>\n",
       "      <th>14275</th>\n",
       "      <td>27</td>\n",
       "      <td>-1.120534</td>\n",
       "      <td>-0.475085</td>\n",
       "      <td>0.514151</td>\n",
       "      <td>-1.398945</td>\n",
       "      <td>1.526261</td>\n",
       "      <td>0.506155</td>\n",
       "      <td>1.755796</td>\n",
       "      <td>-0.397445</td>\n",
       "      <td>1</td>\n",
       "      <td>1</td>\n",
       "      <td>-1.308227</td>\n",
       "      <td>-1.186699</td>\n",
       "      <td>-0.304366</td>\n",
       "      <td>-0.227841</td>\n",
       "      <td>-0.891612</td>\n",
       "      <td>-0.888194</td>\n",
       "      <td>0</td>\n",
       "      <td>0</td>\n",
       "      <td>-1.240656</td>\n",
       "    </tr>\n",
       "  </tbody>\n",
       "</table>\n",
       "</div>"
      ],
      "text/plain": [
       "      DistrictId     Rooms    Square  LifeSquare  KitchenSquare     Floor  \\\n",
       "Id                                                                          \n",
       "725           58  0.112991 -0.350993   -0.186405      -0.049351 -0.480057   \n",
       "15856         74  0.112991  0.669999    0.493364      -1.398945 -0.480057   \n",
       "5480         190 -1.120534 -2.262525   -1.943843      -1.253449 -1.209627   \n",
       "15664         47  0.112991  0.869315    1.116078       0.760405  2.438224   \n",
       "14275         27 -1.120534 -0.475085    0.514151      -1.398945  1.526261   \n",
       "\n",
       "       HouseFloor  HouseYear  Ecology_1  Ecology_2  Ecology_3  Social_1  \\\n",
       "Id                                                                        \n",
       "725      0.014488  -0.667299   1.585280          1          1 -0.794834   \n",
       "15856   -0.804958  -0.398066  -0.367283          1          1 -1.080052   \n",
       "5480    -1.460514  -4.059632  -0.998468          1          1  0.288994   \n",
       "15664    1.325601   1.217331  -0.149940          1          1 -0.110311   \n",
       "14275    0.506155   1.755796  -0.397445          1          1 -1.308227   \n",
       "\n",
       "       Social_2  Social_3  Healthcare_1  Helthcare_2   Shops_1  Shops_2  \\\n",
       "Id                                                                        \n",
       "725   -0.660397 -0.304366      0.079171    -0.891612 -0.888194        1   \n",
       "15856 -0.986014 -0.220549     -0.022446    -0.891612 -0.469511        1   \n",
       "5480   0.529306  3.299785      3.990326     2.487242  0.158513        1   \n",
       "15664 -0.204634 -0.220549     -0.833216     1.135700 -0.260169        1   \n",
       "14275 -1.186699 -0.304366     -0.227841    -0.891612 -0.888194        0   \n",
       "\n",
       "       middleFloor  medianPrice  \n",
       "Id                               \n",
       "725              1    -0.605655  \n",
       "15856            1     0.392665  \n",
       "5480             1    -1.250762  \n",
       "15664            0     0.120183  \n",
       "14275            0    -1.240656  "
      ]
     },
     "execution_count": 167,
     "metadata": {},
     "output_type": "execute_result"
    }
   ],
   "source": [
    "stand_dft.head()"
   ]
  },
  {
   "cell_type": "code",
   "execution_count": 168,
   "metadata": {},
   "outputs": [],
   "source": [
    "y_pred_test = gb_model.predict(stand_dft)"
   ]
  },
  {
   "cell_type": "code",
   "execution_count": 169,
   "metadata": {},
   "outputs": [
    {
     "data": {
      "text/html": [
       "<div>\n",
       "<style scoped>\n",
       "    .dataframe tbody tr th:only-of-type {\n",
       "        vertical-align: middle;\n",
       "    }\n",
       "\n",
       "    .dataframe tbody tr th {\n",
       "        vertical-align: top;\n",
       "    }\n",
       "\n",
       "    .dataframe thead th {\n",
       "        text-align: right;\n",
       "    }\n",
       "</style>\n",
       "<table border=\"1\" class=\"dataframe\">\n",
       "  <thead>\n",
       "    <tr style=\"text-align: right;\">\n",
       "      <th></th>\n",
       "      <th>Id</th>\n",
       "      <th>Price</th>\n",
       "    </tr>\n",
       "  </thead>\n",
       "  <tbody>\n",
       "    <tr>\n",
       "      <th>0</th>\n",
       "      <td>725</td>\n",
       "      <td>161035.250078</td>\n",
       "    </tr>\n",
       "    <tr>\n",
       "      <th>1</th>\n",
       "      <td>15856</td>\n",
       "      <td>237924.073232</td>\n",
       "    </tr>\n",
       "    <tr>\n",
       "      <th>2</th>\n",
       "      <td>5480</td>\n",
       "      <td>21967.251462</td>\n",
       "    </tr>\n",
       "    <tr>\n",
       "      <th>3</th>\n",
       "      <td>15664</td>\n",
       "      <td>345677.694015</td>\n",
       "    </tr>\n",
       "    <tr>\n",
       "      <th>4</th>\n",
       "      <td>14275</td>\n",
       "      <td>140431.772635</td>\n",
       "    </tr>\n",
       "    <tr>\n",
       "      <th>5</th>\n",
       "      <td>7633</td>\n",
       "      <td>195042.208253</td>\n",
       "    </tr>\n",
       "    <tr>\n",
       "      <th>6</th>\n",
       "      <td>13329</td>\n",
       "      <td>145357.170105</td>\n",
       "    </tr>\n",
       "    <tr>\n",
       "      <th>7</th>\n",
       "      <td>5502</td>\n",
       "      <td>214226.444988</td>\n",
       "    </tr>\n",
       "    <tr>\n",
       "      <th>8</th>\n",
       "      <td>4220</td>\n",
       "      <td>267371.837345</td>\n",
       "    </tr>\n",
       "    <tr>\n",
       "      <th>9</th>\n",
       "      <td>11538</td>\n",
       "      <td>192948.567363</td>\n",
       "    </tr>\n",
       "  </tbody>\n",
       "</table>\n",
       "</div>"
      ],
      "text/plain": [
       "      Id          Price\n",
       "0    725  161035.250078\n",
       "1  15856  237924.073232\n",
       "2   5480   21967.251462\n",
       "3  15664  345677.694015\n",
       "4  14275  140431.772635\n",
       "5   7633  195042.208253\n",
       "6  13329  145357.170105\n",
       "7   5502  214226.444988\n",
       "8   4220  267371.837345\n",
       "9  11538  192948.567363"
      ]
     },
     "execution_count": 169,
     "metadata": {},
     "output_type": "execute_result"
    }
   ],
   "source": [
    "result_dft = pd.DataFrame({'Id': stand_dft.index, 'Price': y_pred_test})\n",
    "result_dft.head(10)"
   ]
  },
  {
   "cell_type": "code",
   "execution_count": 163,
   "metadata": {},
   "outputs": [],
   "source": [
    "result_dft.to_csv('SPologrudov_predictions.csv')"
   ]
  },
  {
   "cell_type": "markdown",
   "metadata": {},
   "source": [
    "Всё."
   ]
  },
  {
   "cell_type": "code",
   "execution_count": null,
   "metadata": {},
   "outputs": [],
   "source": []
  }
 ],
 "metadata": {
  "kernelspec": {
   "display_name": "Python 3",
   "language": "python",
   "name": "python3"
  },
  "language_info": {
   "codemirror_mode": {
    "name": "ipython",
    "version": 3
   },
   "file_extension": ".py",
   "mimetype": "text/x-python",
   "name": "python",
   "nbconvert_exporter": "python",
   "pygments_lexer": "ipython3",
   "version": "3.7.3"
  }
 },
 "nbformat": 4,
 "nbformat_minor": 2
}
